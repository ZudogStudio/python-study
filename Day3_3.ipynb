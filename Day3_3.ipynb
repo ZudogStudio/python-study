{
 "cells": [
  {
   "cell_type": "markdown",
   "id": "f8442799",
   "metadata": {},
   "source": [
    "## 함수도 객체다.\n",
    "\n",
    "- 함수도 다른 객체처럼 클래스를 가지고 있다.\n",
    "- 함수도 다른 객체처럼 변수에 할당도 가능하고, 즉 매개변수로 전달이 가능합니다."
   ]
  },
  {
   "cell_type": "code",
   "execution_count": 14,
   "id": "d2ef0e31",
   "metadata": {},
   "outputs": [],
   "source": [
    "def add(x, y):\n",
    "    \"\"\"덧셈을 위한 함수\"\"\"\n",
    "    return x + y"
   ]
  },
  {
   "cell_type": "code",
   "execution_count": 2,
   "id": "eb6a16f9",
   "metadata": {},
   "outputs": [
    {
     "data": {
      "text/plain": [
       "function"
      ]
     },
     "execution_count": 2,
     "metadata": {},
     "output_type": "execute_result"
    }
   ],
   "source": [
    "type(add)"
   ]
  },
  {
   "cell_type": "code",
   "execution_count": 3,
   "id": "7cb61220",
   "metadata": {},
   "outputs": [],
   "source": [
    "import types"
   ]
  },
  {
   "cell_type": "code",
   "execution_count": 5,
   "id": "6537eaa7",
   "metadata": {},
   "outputs": [
    {
     "name": "stdout",
     "output_type": "stream",
     "text": [
      "['AsyncGeneratorType', 'BuiltinFunctionType', 'BuiltinMethodType', 'CellType', 'ClassMethodDescriptorType', 'CodeType', 'CoroutineType', 'DynamicClassAttribute', 'FrameType', 'FunctionType', 'GeneratorType', 'GetSetDescriptorType', 'LambdaType', 'MappingProxyType', 'MemberDescriptorType', 'MethodDescriptorType', 'MethodType', 'MethodWrapperType', 'ModuleType', 'SimpleNamespace', 'TracebackType', 'WrapperDescriptorType', '_GeneratorWrapper', '__all__', '__builtins__', '__cached__', '__doc__', '__file__', '__loader__', '__name__', '__package__', '__spec__', '_calculate_meta', '_cell_factory', 'coroutine', 'new_class', 'prepare_class', 'resolve_bases']\n"
     ]
    }
   ],
   "source": [
    "print(dir(types))"
   ]
  },
  {
   "cell_type": "code",
   "execution_count": 6,
   "id": "56bab621",
   "metadata": {},
   "outputs": [],
   "source": [
    "from types import FunctionType"
   ]
  },
  {
   "cell_type": "code",
   "execution_count": 7,
   "id": "458e0b2c",
   "metadata": {},
   "outputs": [
    {
     "data": {
      "text/plain": [
       "True"
      ]
     },
     "execution_count": 7,
     "metadata": {},
     "output_type": "execute_result"
    }
   ],
   "source": [
    "add.__class__ is FunctionType"
   ]
  },
  {
   "cell_type": "code",
   "execution_count": 8,
   "id": "d8984e27",
   "metadata": {},
   "outputs": [],
   "source": [
    "add_ = add"
   ]
  },
  {
   "cell_type": "code",
   "execution_count": 9,
   "id": "b87d8e68",
   "metadata": {},
   "outputs": [
    {
     "data": {
      "text/plain": [
       "3"
      ]
     },
     "execution_count": 9,
     "metadata": {},
     "output_type": "execute_result"
    }
   ],
   "source": [
    "add_(1,2)"
   ]
  },
  {
   "cell_type": "code",
   "execution_count": 10,
   "id": "cf823274",
   "metadata": {},
   "outputs": [
    {
     "data": {
      "text/plain": [
       "(140243217398224, 140243217398224)"
      ]
     },
     "execution_count": 10,
     "metadata": {},
     "output_type": "execute_result"
    }
   ],
   "source": [
    "id(add_), id(add)"
   ]
  },
  {
   "cell_type": "code",
   "execution_count": 11,
   "id": "1e535969",
   "metadata": {},
   "outputs": [
    {
     "data": {
      "text/plain": [
       "True"
      ]
     },
     "execution_count": 11,
     "metadata": {},
     "output_type": "execute_result"
    }
   ],
   "source": [
    "add_.__class__ is FunctionType"
   ]
  },
  {
   "cell_type": "code",
   "execution_count": null,
   "id": "dfc219ed",
   "metadata": {},
   "outputs": [],
   "source": []
  },
  {
   "cell_type": "code",
   "execution_count": 12,
   "id": "28c3472f",
   "metadata": {
    "scrolled": true
   },
   "outputs": [
    {
     "data": {
      "text/plain": [
       "function"
      ]
     },
     "execution_count": 12,
     "metadata": {},
     "output_type": "execute_result"
    }
   ],
   "source": [
    "FunctionType"
   ]
  },
  {
   "cell_type": "markdown",
   "id": "91e127e6",
   "metadata": {},
   "source": [
    "## 매개변수에 초기 고정값 지정하기\n",
    "\n",
    "- 매개변수에 초기값을 지정하는 이유는 이 매개변수에 인자가 안들어올경우 에러 없이 처리하기위해 존재.\n",
    "- 다른 언어는 함수를 오버로딩이 가능해서 여러 함수를 정의하는 것을 방지하기 위해 초기값을 지정하지만\n",
    "- 여러 함수를 동시에 정의할 수 없어서 초기값만으로 여러 함수를 정의한 것처럼 사용하게 됩니다."
   ]
  },
  {
   "cell_type": "code",
   "execution_count": 15,
   "id": "76c146c3",
   "metadata": {},
   "outputs": [],
   "source": [
    "def subtract(x=1,y=2):\n",
    "    return x-y"
   ]
  },
  {
   "cell_type": "code",
   "execution_count": 16,
   "id": "b6a2e935",
   "metadata": {},
   "outputs": [],
   "source": [
    "def add(x,y):\n",
    "    return x+y"
   ]
  },
  {
   "cell_type": "code",
   "execution_count": 17,
   "id": "7490e7cd",
   "metadata": {},
   "outputs": [
    {
     "data": {
      "text/plain": [
       "<function __main__.add(x, y)>"
      ]
     },
     "execution_count": 17,
     "metadata": {},
     "output_type": "execute_result"
    }
   ],
   "source": [
    "globals()['add']"
   ]
  },
  {
   "cell_type": "code",
   "execution_count": 18,
   "id": "3ddd6387",
   "metadata": {},
   "outputs": [],
   "source": [
    "def add(x,y,z):\n",
    "    return x+y+z"
   ]
  },
  {
   "cell_type": "code",
   "execution_count": 19,
   "id": "cb5cb986",
   "metadata": {},
   "outputs": [
    {
     "data": {
      "text/plain": [
       "<function __main__.add(x, y, z)>"
      ]
     },
     "execution_count": 19,
     "metadata": {},
     "output_type": "execute_result"
    }
   ],
   "source": [
    "globals()['add']"
   ]
  },
  {
   "cell_type": "code",
   "execution_count": 28,
   "id": "e0d56afe",
   "metadata": {},
   "outputs": [],
   "source": [
    "def subtract(x=1,y=2):\n",
    "    return x-y"
   ]
  },
  {
   "cell_type": "code",
   "execution_count": 29,
   "id": "a8c51a6b",
   "metadata": {},
   "outputs": [
    {
     "name": "stdout",
     "output_type": "stream",
     "text": [
      "['__annotations__', '__call__', '__class__', '__closure__', '__code__', '__defaults__', '__delattr__', '__dict__', '__dir__', '__doc__', '__eq__', '__format__', '__ge__', '__get__', '__getattribute__', '__globals__', '__gt__', '__hash__', '__init__', '__init_subclass__', '__kwdefaults__', '__le__', '__lt__', '__module__', '__name__', '__ne__', '__new__', '__qualname__', '__reduce__', '__reduce_ex__', '__repr__', '__setattr__', '__sizeof__', '__str__', '__subclasshook__']\n"
     ]
    }
   ],
   "source": [
    "print(dir(subtract))"
   ]
  },
  {
   "cell_type": "code",
   "execution_count": 30,
   "id": "11c1b93b",
   "metadata": {},
   "outputs": [
    {
     "data": {
      "text/plain": [
       "(1, 2)"
      ]
     },
     "execution_count": 30,
     "metadata": {},
     "output_type": "execute_result"
    }
   ],
   "source": [
    "subtract.__defaults__"
   ]
  },
  {
   "cell_type": "code",
   "execution_count": 35,
   "id": "9ee384fb",
   "metadata": {},
   "outputs": [
    {
     "data": {
      "text/plain": [
       "-2"
      ]
     },
     "execution_count": 35,
     "metadata": {},
     "output_type": "execute_result"
    }
   ],
   "source": [
    "subtract(y=3)"
   ]
  },
  {
   "cell_type": "code",
   "execution_count": 48,
   "id": "c23b2eeb",
   "metadata": {},
   "outputs": [],
   "source": [
    "def sample_function(a,b, c=1,d=2, *, kwarg1=\"123\", kwargs2=\"name\"):\n",
    "    print(a,b)"
   ]
  },
  {
   "cell_type": "code",
   "execution_count": 49,
   "id": "09eb61f8",
   "metadata": {},
   "outputs": [
    {
     "data": {
      "text/plain": [
       "(1, 2)"
      ]
     },
     "execution_count": 49,
     "metadata": {},
     "output_type": "execute_result"
    }
   ],
   "source": [
    "sample_function.__defaults__"
   ]
  },
  {
   "cell_type": "code",
   "execution_count": 50,
   "id": "e3793011",
   "metadata": {},
   "outputs": [
    {
     "data": {
      "text/plain": [
       "{'kwarg1': '123', 'kwargs2': 'name'}"
      ]
     },
     "execution_count": 50,
     "metadata": {},
     "output_type": "execute_result"
    }
   ],
   "source": [
    "sample_function.__kwdefaults__"
   ]
  },
  {
   "cell_type": "code",
   "execution_count": 64,
   "id": "506f7e7f",
   "metadata": {},
   "outputs": [],
   "source": [
    "N = 7\n",
    "\n",
    "schedule = [\n",
    "    {\n",
    "        'name': '1일',\n",
    "        'T': 3,\n",
    "        'P': 10\n",
    "    },\n",
    "    {\n",
    "        'name': '2일',\n",
    "        'T': 5,\n",
    "        'P': 20\n",
    "    },\n",
    "    {\n",
    "        'name': '3일',\n",
    "        'T': 1,\n",
    "        'P': 10\n",
    "    },\n",
    "    {\n",
    "        'name': '4일',\n",
    "        'T': 1,\n",
    "        'P': 20\n",
    "    },\n",
    "    {\n",
    "        'name': '5일',\n",
    "        'T': 2,\n",
    "        'P': 15\n",
    "    },\n",
    "    {\n",
    "        'name': '6일',\n",
    "        'T': 4,\n",
    "        'P': 40\n",
    "    },\n",
    "    {\n",
    "        'name': '7일',\n",
    "        'T': 2,\n",
    "        'P': 200\n",
    "    },\n",
    "]"
   ]
  },
  {
   "cell_type": "code",
   "execution_count": 84,
   "id": "fdd6b2e2",
   "metadata": {},
   "outputs": [],
   "source": [
    "N = 10\n",
    "\n",
    "schedule = [\n",
    "    {\n",
    "        'name': '1일',\n",
    "        'T': 1,\n",
    "        'P': 1\n",
    "    },\n",
    "    {\n",
    "        'name': '2일',\n",
    "        'T': 1,\n",
    "        'P': 2\n",
    "    },\n",
    "    {\n",
    "        'name': '3일',\n",
    "        'T': 1,\n",
    "        'P': 3\n",
    "    },\n",
    "    {\n",
    "        'name': '4일',\n",
    "        'T': 1,\n",
    "        'P': 4\n",
    "    },\n",
    "    {\n",
    "        'name': '5일',\n",
    "        'T': 1,\n",
    "        'P': 5\n",
    "    },\n",
    "    {\n",
    "        'name': '6일',\n",
    "        'T': 1,\n",
    "        'P': 6\n",
    "    },\n",
    "    {\n",
    "        'name': '7일',\n",
    "        'T': 1,\n",
    "        'P': 7\n",
    "    },\n",
    "    {\n",
    "        'name': '8일',\n",
    "        'T': 1,\n",
    "        'P': 8\n",
    "    },\n",
    "    {\n",
    "        'name': '9일',\n",
    "        'T': 1,\n",
    "        'P': 9\n",
    "    },\n",
    "    {\n",
    "        'name': '10일',\n",
    "        'T': 1,\n",
    "        'P': 10\n",
    "    },\n",
    "]"
   ]
  },
  {
   "cell_type": "code",
   "execution_count": 88,
   "id": "cd62672e",
   "metadata": {},
   "outputs": [],
   "source": [
    "N = 10\n",
    "\n",
    "schedule = [\n",
    "    {\n",
    "        'name': '1일',\n",
    "        'T': 5,\n",
    "        'P': 10\n",
    "    },\n",
    "    {\n",
    "        'name': '2일',\n",
    "        'T': 5,\n",
    "        'P': 9\n",
    "    },\n",
    "    {\n",
    "        'name': '3일',\n",
    "        'T': 5,\n",
    "        'P': 8\n",
    "    },\n",
    "    {\n",
    "        'name': '4일',\n",
    "        'T': 5,\n",
    "        'P': 7\n",
    "    },\n",
    "    {\n",
    "        'name': '5일',\n",
    "        'T': 5,\n",
    "        'P': 6\n",
    "    },\n",
    "    {\n",
    "        'name': '6일',\n",
    "        'T': 5,\n",
    "        'P': 10\n",
    "    },\n",
    "    {\n",
    "        'name': '7일',\n",
    "        'T': 5,\n",
    "        'P': 9\n",
    "    },\n",
    "    {\n",
    "        'name': '8일',\n",
    "        'T': 5,\n",
    "        'P': 8\n",
    "    },\n",
    "    {\n",
    "        'name': '9일',\n",
    "        'T': 5,\n",
    "        'P': 7\n",
    "    },\n",
    "    {\n",
    "        'name': '10일',\n",
    "        'T': 5,\n",
    "        'P': 6\n",
    "    },\n",
    "]"
   ]
  },
  {
   "cell_type": "code",
   "execution_count": 89,
   "id": "fce78209",
   "metadata": {},
   "outputs": [
    {
     "name": "stdout",
     "output_type": "stream",
     "text": [
      "1일 : {'name': '1일', 'T': 5, 'P': 10}\n",
      "2일 : {'name': '2일', 'T': 5, 'P': 9}\n",
      "3일 : {'name': '3일', 'T': 5, 'P': 8}\n",
      "4일 : {'name': '4일', 'T': 5, 'P': 7}\n",
      "5일 : {'name': '5일', 'T': 5, 'P': 6}\n",
      "6일 : {'name': '6일', 'T': 5, 'P': 10}\n",
      "7일 : {'name': '7일', 'T': 5, 'P': 9}\n",
      "8일 : {'name': '8일', 'T': 5, 'P': 8}\n",
      "9일 : {'name': '9일', 'T': 5, 'P': 7}\n",
      "10일 : {'name': '10일', 'T': 5, 'P': 6}\n"
     ]
    }
   ],
   "source": [
    "for index, data in enumerate(schedule):\n",
    "    print(f'{index+1}일 : {data}')"
   ]
  },
  {
   "cell_type": "code",
   "execution_count": 90,
   "id": "52aeb4ab",
   "metadata": {},
   "outputs": [
    {
     "name": "stdout",
     "output_type": "stream",
     "text": [
      "[{'name': '1일', 'T': 5, 'P': 10}, {'name': '6일', 'T': 5, 'P': 10}]\n",
      "20\n",
      "[{'name': '2일', 'T': 5, 'P': 9}, {'name': '6일', 'T': 5, 'P': 10}]\n",
      "19\n",
      "[{'name': '3일', 'T': 5, 'P': 8}, {'name': '6일', 'T': 5, 'P': 10}]\n",
      "18\n",
      "[{'name': '4일', 'T': 5, 'P': 7}, {'name': '6일', 'T': 5, 'P': 10}]\n",
      "17\n",
      "[{'name': '5일', 'T': 5, 'P': 6}, {'name': '6일', 'T': 5, 'P': 10}]\n",
      "16\n",
      "[{'name': '6일', 'T': 5, 'P': 10}]\n",
      "10\n"
     ]
    }
   ],
   "source": [
    "result_data = []\n",
    "\n",
    "for index1, data1 in enumerate(schedule):\n",
    "    remain_days = N\n",
    "    result_datum = []\n",
    "    for index2, data2 in enumerate(schedule):\n",
    "        if index2 < index1:\n",
    "            continue\n",
    "        \n",
    "        if data2['T'] <= remain_days:\n",
    "            if len(result_datum) > 0:\n",
    "                if result_datum[len(result_datum) - 1]['T'] < index2 + 1 and N - (index2) >= data2['T']:\n",
    "                    result_datum.append(data2)\n",
    "                    remain_days -= data2['T']\n",
    "            else:\n",
    "                if N - (index2) >= data2['T']:\n",
    "                    result_datum.append(data2)\n",
    "                    remain_days -= data2['T']\n",
    "    \n",
    "    if len(result_datum) > 0:\n",
    "        result_data.append(result_datum)\n",
    "        \n",
    "for data in result_data:\n",
    "    print(data)\n",
    "    total = 0\n",
    "    for datum in data:\n",
    "        total += datum['P']\n",
    "        \n",
    "    print(total)"
   ]
  },
  {
   "cell_type": "code",
   "execution_count": null,
   "id": "82315960",
   "metadata": {},
   "outputs": [],
   "source": [
    "1일 : {'T': 3, 'P': 10} - O - 2X - 3X - 4O - 5O ( END)\n",
    "                                           - 5X ( END )\n",
    "                                      - 4X - 5O ( END )\n",
    "                        - X - 2O - 3X - 4X - 5X - 6X - (END)\n",
    "2일 : {'T': 5, 'P': 20} - \n",
    "3일 : {'T': 1, 'P': 10} X - X - O - O\n",
    "4일 : {'T': 1, 'P': 20}\n",
    "5일 : {'T': 2, 'P': 15}\n",
    "6일 : {'T': 4, 'P': 40}\n",
    "7일 : {'T': 2, 'P': 200}"
   ]
  }
 ],
 "metadata": {
  "kernelspec": {
   "display_name": "Python 3",
   "language": "python",
   "name": "python3"
  },
  "language_info": {
   "codemirror_mode": {
    "name": "ipython",
    "version": 3
   },
   "file_extension": ".py",
   "mimetype": "text/x-python",
   "name": "python",
   "nbconvert_exporter": "python",
   "pygments_lexer": "ipython3",
   "version": "3.8.8"
  }
 },
 "nbformat": 4,
 "nbformat_minor": 5
}
