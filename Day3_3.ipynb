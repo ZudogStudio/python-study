{
 "cells": [
  {
   "cell_type": "markdown",
   "id": "0a592daf",
   "metadata": {},
   "source": [
    "## 함수도 객체다.\n",
    "\n",
    "- 함수도 다른 객체처럼 클래스를 가지고 있다.\n",
    "- 함수도 다른 객체처럼 변수에 할당도 가능하고, 즉 매개변수로 전달이 가능합니다."
   ]
  },
  {
   "cell_type": "code",
   "execution_count": 14,
   "id": "370ca69f",
   "metadata": {},
   "outputs": [],
   "source": [
    "def add(x, y):\n",
    "    \"\"\"덧셈을 위한 함수\"\"\"\n",
    "    return x + y"
   ]
  },
  {
   "cell_type": "code",
   "execution_count": 2,
   "id": "37bf2e22",
   "metadata": {},
   "outputs": [
    {
     "data": {
      "text/plain": [
       "function"
      ]
     },
     "execution_count": 2,
     "metadata": {},
     "output_type": "execute_result"
    }
   ],
   "source": [
    "type(add)"
   ]
  },
  {
   "cell_type": "code",
   "execution_count": 3,
   "id": "3a266d62",
   "metadata": {},
   "outputs": [],
   "source": [
    "import types"
   ]
  },
  {
   "cell_type": "code",
   "execution_count": 5,
   "id": "723c323e",
   "metadata": {},
   "outputs": [
    {
     "name": "stdout",
     "output_type": "stream",
     "text": [
      "['AsyncGeneratorType', 'BuiltinFunctionType', 'BuiltinMethodType', 'CellType', 'ClassMethodDescriptorType', 'CodeType', 'CoroutineType', 'DynamicClassAttribute', 'FrameType', 'FunctionType', 'GeneratorType', 'GetSetDescriptorType', 'LambdaType', 'MappingProxyType', 'MemberDescriptorType', 'MethodDescriptorType', 'MethodType', 'MethodWrapperType', 'ModuleType', 'SimpleNamespace', 'TracebackType', 'WrapperDescriptorType', '_GeneratorWrapper', '__all__', '__builtins__', '__cached__', '__doc__', '__file__', '__loader__', '__name__', '__package__', '__spec__', '_calculate_meta', '_cell_factory', 'coroutine', 'new_class', 'prepare_class', 'resolve_bases']\n"
     ]
    }
   ],
   "source": [
    "print(dir(types))"
   ]
  },
  {
   "cell_type": "code",
   "execution_count": 6,
   "id": "9b8ded82",
   "metadata": {},
   "outputs": [],
   "source": [
    "from types import FunctionType"
   ]
  },
  {
   "cell_type": "code",
   "execution_count": 7,
   "id": "a02fa8f8",
   "metadata": {},
   "outputs": [
    {
     "data": {
      "text/plain": [
       "True"
      ]
     },
     "execution_count": 7,
     "metadata": {},
     "output_type": "execute_result"
    }
   ],
   "source": [
    "add.__class__ is FunctionType"
   ]
  },
  {
   "cell_type": "code",
   "execution_count": 8,
   "id": "49fd5cb0",
   "metadata": {},
   "outputs": [],
   "source": [
    "add_ = add"
   ]
  },
  {
   "cell_type": "code",
   "execution_count": 9,
   "id": "95c5d18d",
   "metadata": {},
   "outputs": [
    {
     "data": {
      "text/plain": [
       "3"
      ]
     },
     "execution_count": 9,
     "metadata": {},
     "output_type": "execute_result"
    }
   ],
   "source": [
    "add_(1,2)"
   ]
  },
  {
   "cell_type": "code",
   "execution_count": 10,
   "id": "fbbaa994",
   "metadata": {},
   "outputs": [
    {
     "data": {
      "text/plain": [
       "(140243217398224, 140243217398224)"
      ]
     },
     "execution_count": 10,
     "metadata": {},
     "output_type": "execute_result"
    }
   ],
   "source": [
    "id(add_), id(add)"
   ]
  },
  {
   "cell_type": "code",
   "execution_count": 11,
   "id": "d61e7214",
   "metadata": {},
   "outputs": [
    {
     "data": {
      "text/plain": [
       "True"
      ]
     },
     "execution_count": 11,
     "metadata": {},
     "output_type": "execute_result"
    }
   ],
   "source": [
    "add_.__class__ is FunctionType"
   ]
  },
  {
   "cell_type": "code",
   "execution_count": null,
   "id": "f0cdf721",
   "metadata": {},
   "outputs": [],
   "source": []
  },
  {
   "cell_type": "code",
   "execution_count": 12,
   "id": "bf5c915a",
   "metadata": {
    "scrolled": true
   },
   "outputs": [
    {
     "data": {
      "text/plain": [
       "function"
      ]
     },
     "execution_count": 12,
     "metadata": {},
     "output_type": "execute_result"
    }
   ],
   "source": [
    "FunctionType"
   ]
  },
  {
   "cell_type": "markdown",
   "id": "9955cd93",
   "metadata": {},
   "source": [
    "## 매개변수에 초기 고정값 지정하기\n",
    "\n",
    "- 매개변수에 초기값을 지정하는 이유는 이 매개변수에 인자가 안들어올경우 에러 없이 처리하기위해 존재.\n",
    "- 다른 언어는 함수를 오버로딩이 가능해서 여러 함수를 정의하는 것을 방지하기 위해 초기값을 지정하지만\n",
    "- 여러 함수를 동시에 정의할 수 없어서 초기값만으로 여러 함수를 정의한 것처럼 사용하게 됩니다."
   ]
  },
  {
   "cell_type": "code",
   "execution_count": 15,
   "id": "a9732c12",
   "metadata": {},
   "outputs": [],
   "source": [
    "def subtract(x=1,y=2):\n",
    "    return x-y"
   ]
  },
  {
   "cell_type": "code",
   "execution_count": 16,
   "id": "2c7906e8",
   "metadata": {},
   "outputs": [],
   "source": [
    "def add(x,y):\n",
    "    return x+y"
   ]
  },
  {
   "cell_type": "code",
   "execution_count": 17,
   "id": "23502815",
   "metadata": {},
   "outputs": [
    {
     "data": {
      "text/plain": [
       "<function __main__.add(x, y)>"
      ]
     },
     "execution_count": 17,
     "metadata": {},
     "output_type": "execute_result"
    }
   ],
   "source": [
    "globals()['add']"
   ]
  },
  {
   "cell_type": "code",
   "execution_count": 18,
   "id": "689e7663",
   "metadata": {},
   "outputs": [],
   "source": [
    "def add(x,y,z):\n",
    "    return x+y+z"
   ]
  },
  {
   "cell_type": "code",
   "execution_count": 19,
   "id": "d3b8b144",
   "metadata": {},
   "outputs": [
    {
     "data": {
      "text/plain": [
       "<function __main__.add(x, y, z)>"
      ]
     },
     "execution_count": 19,
     "metadata": {},
     "output_type": "execute_result"
    }
   ],
   "source": [
    "globals()['add']"
   ]
  },
  {
   "cell_type": "code",
   "execution_count": 28,
   "id": "d5c68d45",
   "metadata": {},
   "outputs": [],
   "source": [
    "def subtract(x=1,y=2):\n",
    "    return x-y"
   ]
  },
  {
   "cell_type": "code",
   "execution_count": 29,
   "id": "8da9f61f",
   "metadata": {},
   "outputs": [
    {
     "name": "stdout",
     "output_type": "stream",
     "text": [
      "['__annotations__', '__call__', '__class__', '__closure__', '__code__', '__defaults__', '__delattr__', '__dict__', '__dir__', '__doc__', '__eq__', '__format__', '__ge__', '__get__', '__getattribute__', '__globals__', '__gt__', '__hash__', '__init__', '__init_subclass__', '__kwdefaults__', '__le__', '__lt__', '__module__', '__name__', '__ne__', '__new__', '__qualname__', '__reduce__', '__reduce_ex__', '__repr__', '__setattr__', '__sizeof__', '__str__', '__subclasshook__']\n"
     ]
    }
   ],
   "source": [
    "print(dir(subtract))"
   ]
  },
  {
   "cell_type": "code",
   "execution_count": 30,
   "id": "be045c8a",
   "metadata": {},
   "outputs": [
    {
     "data": {
      "text/plain": [
       "(1, 2)"
      ]
     },
     "execution_count": 30,
     "metadata": {},
     "output_type": "execute_result"
    }
   ],
   "source": [
    "subtract.__defaults__"
   ]
  },
  {
   "cell_type": "code",
   "execution_count": 35,
   "id": "cc79decb",
   "metadata": {},
   "outputs": [
    {
     "data": {
      "text/plain": [
       "-2"
      ]
     },
     "execution_count": 35,
     "metadata": {},
     "output_type": "execute_result"
    }
   ],
   "source": [
    "subtract(y=3)"
   ]
  },
  {
   "cell_type": "code",
   "execution_count": 48,
   "id": "039e1f99",
   "metadata": {},
   "outputs": [],
   "source": [
    "def sample_function(a,b, c=1,d=2, *, kwarg1=\"123\", kwargs2=\"name\"):\n",
    "    print(a,b)"
   ]
  },
  {
   "cell_type": "code",
   "execution_count": 49,
   "id": "cffe6b5c",
   "metadata": {},
   "outputs": [
    {
     "data": {
      "text/plain": [
       "(1, 2)"
      ]
     },
     "execution_count": 49,
     "metadata": {},
     "output_type": "execute_result"
    }
   ],
   "source": [
    "sample_function.__defaults__"
   ]
  },
  {
   "cell_type": "code",
   "execution_count": 50,
   "id": "e5bb914d",
   "metadata": {},
   "outputs": [
    {
     "data": {
      "text/plain": [
       "{'kwarg1': '123', 'kwargs2': 'name'}"
      ]
     },
     "execution_count": 50,
     "metadata": {},
     "output_type": "execute_result"
    }
   ],
   "source": [
    "sample_function.__kwdefaults__"
   ]
  },
  {
   "cell_type": "code",
   "execution_count": 64,
   "id": "e29d7753",
   "metadata": {},
   "outputs": [],
   "source": [
    "N = 7\n",
    "\n",
    "schedule = [\n",
    "    {\n",
    "        'name': '1일',\n",
    "        'T': 3,\n",
    "        'P': 10\n",
    "    },\n",
    "    {\n",
    "        'name': '2일',\n",
    "        'T': 5,\n",
    "        'P': 20\n",
    "    },\n",
    "    {\n",
    "        'name': '3일',\n",
    "        'T': 1,\n",
    "        'P': 10\n",
    "    },\n",
    "    {\n",
    "        'name': '4일',\n",
    "        'T': 1,\n",
    "        'P': 20\n",
    "    },\n",
    "    {\n",
    "        'name': '5일',\n",
    "        'T': 2,\n",
    "        'P': 15\n",
    "    },\n",
    "    {\n",
    "        'name': '6일',\n",
    "        'T': 4,\n",
    "        'P': 40\n",
    "    },\n",
    "    {\n",
    "        'name': '7일',\n",
    "        'T': 2,\n",
    "        'P': 200\n",
    "    },\n",
    "]"
   ]
  },
  {
   "cell_type": "code",
   "execution_count": 84,
   "id": "b6b017ae",
   "metadata": {},
   "outputs": [],
   "source": [
    "N = 10\n",
    "\n",
    "schedule = [\n",
    "    {\n",
    "        'name': '1일',\n",
    "        'T': 1,\n",
    "        'P': 1\n",
    "    },\n",
    "    {\n",
    "        'name': '2일',\n",
    "        'T': 1,\n",
    "        'P': 2\n",
    "    },\n",
    "    {\n",
    "        'name': '3일',\n",
    "        'T': 1,\n",
    "        'P': 3\n",
    "    },\n",
    "    {\n",
    "        'name': '4일',\n",
    "        'T': 1,\n",
    "        'P': 4\n",
    "    },\n",
    "    {\n",
    "        'name': '5일',\n",
    "        'T': 1,\n",
    "        'P': 5\n",
    "    },\n",
    "    {\n",
    "        'name': '6일',\n",
    "        'T': 1,\n",
    "        'P': 6\n",
    "    },\n",
    "    {\n",
    "        'name': '7일',\n",
    "        'T': 1,\n",
    "        'P': 7\n",
    "    },\n",
    "    {\n",
    "        'name': '8일',\n",
    "        'T': 1,\n",
    "        'P': 8\n",
    "    },\n",
    "    {\n",
    "        'name': '9일',\n",
    "        'T': 1,\n",
    "        'P': 9\n",
    "    },\n",
    "    {\n",
    "        'name': '10일',\n",
    "        'T': 1,\n",
    "        'P': 10\n",
    "    },\n",
    "]"
   ]
  },
  {
   "cell_type": "code",
   "execution_count": 88,
   "id": "040b807a",
   "metadata": {},
   "outputs": [],
   "source": [
    "N = 10\n",
    "\n",
    "schedule = [\n",
    "    {\n",
    "        'name': '1일',\n",
    "        'T': 5,\n",
    "        'P': 10\n",
    "    },\n",
    "    {\n",
    "        'name': '2일',\n",
    "        'T': 5,\n",
    "        'P': 9\n",
    "    },\n",
    "    {\n",
    "        'name': '3일',\n",
    "        'T': 5,\n",
    "        'P': 8\n",
    "    },\n",
    "    {\n",
    "        'name': '4일',\n",
    "        'T': 5,\n",
    "        'P': 7\n",
    "    },\n",
    "    {\n",
    "        'name': '5일',\n",
    "        'T': 5,\n",
    "        'P': 6\n",
    "    },\n",
    "    {\n",
    "        'name': '6일',\n",
    "        'T': 5,\n",
    "        'P': 10\n",
    "    },\n",
    "    {\n",
    "        'name': '7일',\n",
    "        'T': 5,\n",
    "        'P': 9\n",
    "    },\n",
    "    {\n",
    "        'name': '8일',\n",
    "        'T': 5,\n",
    "        'P': 8\n",
    "    },\n",
    "    {\n",
    "        'name': '9일',\n",
    "        'T': 5,\n",
    "        'P': 7\n",
    "    },\n",
    "    {\n",
    "        'name': '10일',\n",
    "        'T': 5,\n",
    "        'P': 6\n",
    "    },\n",
    "]"
   ]
  },
  {
   "cell_type": "code",
   "execution_count": 89,
   "id": "f94b3809",
   "metadata": {},
   "outputs": [
    {
     "name": "stdout",
     "output_type": "stream",
     "text": [
      "1일 : {'name': '1일', 'T': 5, 'P': 10}\n",
      "2일 : {'name': '2일', 'T': 5, 'P': 9}\n",
      "3일 : {'name': '3일', 'T': 5, 'P': 8}\n",
      "4일 : {'name': '4일', 'T': 5, 'P': 7}\n",
      "5일 : {'name': '5일', 'T': 5, 'P': 6}\n",
      "6일 : {'name': '6일', 'T': 5, 'P': 10}\n",
      "7일 : {'name': '7일', 'T': 5, 'P': 9}\n",
      "8일 : {'name': '8일', 'T': 5, 'P': 8}\n",
      "9일 : {'name': '9일', 'T': 5, 'P': 7}\n",
      "10일 : {'name': '10일', 'T': 5, 'P': 6}\n"
     ]
    }
   ],
   "source": [
    "for index, data in enumerate(schedule):\n",
    "    print(f'{index+1}일 : {data}')"
   ]
  },
  {
   "cell_type": "code",
   "execution_count": 95,
   "id": "e594da6a",
   "metadata": {},
   "outputs": [
    {
     "name": "stdout",
     "output_type": "stream",
     "text": [
      "[{'total': 10, 'data': [{'name': '6일', 'T': 5, 'P': 10}]}, {'total': 16, 'data': [{'name': '5일', 'T': 5, 'P': 6}, {'name': '6일', 'T': 5, 'P': 10}]}, {'total': 17, 'data': [{'name': '4일', 'T': 5, 'P': 7}, {'name': '6일', 'T': 5, 'P': 10}]}, {'total': 18, 'data': [{'name': '3일', 'T': 5, 'P': 8}, {'name': '6일', 'T': 5, 'P': 10}]}, {'total': 19, 'data': [{'name': '2일', 'T': 5, 'P': 9}, {'name': '6일', 'T': 5, 'P': 10}]}, {'total': 20, 'data': [{'name': '1일', 'T': 5, 'P': 10}, {'name': '6일', 'T': 5, 'P': 10}]}]\n",
      "{'total': 20, 'data': [{'name': '1일', 'T': 5, 'P': 10}, {'name': '6일', 'T': 5, 'P': 10}]}\n"
     ]
    }
   ],
   "source": [
    "result_data = []\n",
    "\n",
    "for index1, data1 in enumerate(schedule):\n",
    "    remain_days = N\n",
    "    result_datum = []\n",
    "    for index2, data2 in enumerate(schedule):\n",
    "        if index2 < index1:\n",
    "            continue\n",
    "        \n",
    "        if data2['T'] <= remain_days:\n",
    "            if len(result_datum) > 0:\n",
    "                if result_datum[len(result_datum) - 1]['T'] < index2 + 1 and N - (index2) >= data2['T']:\n",
    "                    result_datum.append(data2)\n",
    "                    remain_days -= data2['T']\n",
    "            else:\n",
    "                if N - (index2) >= data2['T']:\n",
    "                    result_datum.append(data2)\n",
    "                    remain_days -= data2['T']\n",
    "    \n",
    "    if len(result_datum) > 0:\n",
    "        result_data.append(result_datum)\n",
    "    \n",
    "result = []\n",
    "for data in result_data:\n",
    "    total = 0\n",
    "    for datum in data:\n",
    "        total += datum['P']\n",
    "        \n",
    "    result.append({'total': total, 'data': data})\n",
    "    \n",
    "from operator import itemgetter\n",
    "\n",
    "data = sorted(result, key=itemgetter('total'))\n",
    "\n",
    "print(data)\n",
    "print(data[len(data) - 1])"
   ]
  },
  {
   "cell_type": "code",
   "execution_count": 96,
   "id": "38735224",
   "metadata": {},
   "outputs": [
    {
     "name": "stdout",
     "output_type": "stream",
     "text": [
      "Case #1: 1 + 1 = 2\n",
      "Case #2: 2 + 3 = 5\n",
      "Case #3: 3 + 4 = 7\n",
      "Case #4: 9 + 8 = 17\n",
      "Case #5: 5 + 2 = 7\n"
     ]
    }
   ],
   "source": [
    "print('Case #1: 1 + 1 = 2')\n",
    "print('Case #2: 2 + 3 = 5')\n",
    "print('Case #3: 3 + 4 = 7')\n",
    "print('Case #4: 9 + 8 = 17')\n",
    "print('Case #5: 5 + 2 = 7')"
   ]
  },
  {
   "cell_type": "markdown",
   "id": "60f1c597",
   "metadata": {},
   "source": [
    "### 익명함수 lambda 함수\n",
    "\n",
    "- 이름없는 함수를 제작할수 있다.\n",
    "- 이름없는 함수는 사용한 즉시 가비지컬렉션으로 사라짐.\n",
    "- 변수에 할당할 경우는 이름있는 함수로 지정해서 사용해야 함."
   ]
  },
  {
   "cell_type": "markdown",
   "id": "9e80bd3f",
   "metadata": {},
   "source": [
    "1. 익명함수 정의 및 실행\n",
    "\n",
    "- lambda 키워드를 사용\n",
    "- : ( 콜론 )으로 나눠지는데, 좌측은 매개변수 우측은 표현식을 지정"
   ]
  },
  {
   "cell_type": "code",
   "execution_count": 97,
   "id": "3a057f7a",
   "metadata": {},
   "outputs": [
    {
     "data": {
      "text/plain": [
       "<function __main__.<lambda>(x)>"
      ]
     },
     "execution_count": 97,
     "metadata": {},
     "output_type": "execute_result"
    }
   ],
   "source": [
    "lambda x : x + 1"
   ]
  },
  {
   "cell_type": "code",
   "execution_count": 98,
   "id": "b88555cf",
   "metadata": {},
   "outputs": [
    {
     "data": {
      "text/plain": [
       "4"
      ]
     },
     "execution_count": 98,
     "metadata": {},
     "output_type": "execute_result"
    }
   ],
   "source": [
    "(lambda x : x + 1)(3)"
   ]
  },
  {
   "cell_type": "code",
   "execution_count": 99,
   "id": "6bc96d66",
   "metadata": {},
   "outputs": [],
   "source": [
    "from types import FunctionType"
   ]
  },
  {
   "cell_type": "code",
   "execution_count": 100,
   "id": "bc9e710a",
   "metadata": {},
   "outputs": [
    {
     "data": {
      "text/plain": [
       "True"
      ]
     },
     "execution_count": 100,
     "metadata": {},
     "output_type": "execute_result"
    }
   ],
   "source": [
    "(lambda x : x + 1).__class__ is FunctionType"
   ]
  },
  {
   "cell_type": "markdown",
   "id": "e59de80e",
   "metadata": {},
   "source": [
    "### 재귀함수\n",
    "\n",
    "- 함수 자신을 호출하고 함수의 결과와 다른 변수가 계산되어 처리하는 함수\n",
    "- 꼬리 재귀는 함수 자신만을 호출해서 처리하는 재귀함수\n",
    "- 특징 : 순화문없이 함수를 호출해서 순환을 처리\n",
    "\n",
    "예시 : 5! = 5 x 4 x 3 x 2 x 1"
   ]
  },
  {
   "cell_type": "code",
   "execution_count": 101,
   "id": "a20506cd",
   "metadata": {},
   "outputs": [],
   "source": [
    "def factorial_for(n):\n",
    "    result = 1\n",
    "    for index in range(1, n+1):\n",
    "        result *= index\n",
    "        \n",
    "    return result"
   ]
  },
  {
   "cell_type": "code",
   "execution_count": 102,
   "id": "77deca63",
   "metadata": {},
   "outputs": [
    {
     "data": {
      "text/plain": [
       "120"
      ]
     },
     "execution_count": 102,
     "metadata": {},
     "output_type": "execute_result"
    }
   ],
   "source": [
    "factorial_for(5)"
   ]
  },
  {
   "cell_type": "code",
   "execution_count": 103,
   "id": "c03450f1",
   "metadata": {},
   "outputs": [],
   "source": [
    "def factorial_recursive(n):\n",
    "    return n * factorial_recursive(n - 1) if n > 1 else 1"
   ]
  },
  {
   "cell_type": "code",
   "execution_count": 104,
   "id": "d9f1eef8",
   "metadata": {},
   "outputs": [
    {
     "data": {
      "text/plain": [
       "120"
      ]
     },
     "execution_count": 104,
     "metadata": {},
     "output_type": "execute_result"
    }
   ],
   "source": [
    "factorial_recursive(5)"
   ]
  },
  {
   "cell_type": "code",
   "execution_count": 105,
   "id": "17303108",
   "metadata": {},
   "outputs": [
    {
     "name": "stdout",
     "output_type": "stream",
     "text": [
      "예제 입력 1 : 1 2\n"
     ]
    }
   ],
   "source": [
    "input_data = input(\"예제 입력 1 : \")"
   ]
  },
  {
   "cell_type": "code",
   "execution_count": 106,
   "id": "d9862c51",
   "metadata": {},
   "outputs": [
    {
     "data": {
      "text/plain": [
       "'1 2'"
      ]
     },
     "execution_count": 106,
     "metadata": {},
     "output_type": "execute_result"
    }
   ],
   "source": [
    "input_data"
   ]
  },
  {
   "cell_type": "code",
   "execution_count": 107,
   "id": "72cbd67a",
   "metadata": {},
   "outputs": [
    {
     "data": {
      "text/plain": [
       "('1', '2')"
      ]
     },
     "execution_count": 107,
     "metadata": {},
     "output_type": "execute_result"
    }
   ],
   "source": [
    "input_data[0], input_data[2]"
   ]
  },
  {
   "cell_type": "code",
   "execution_count": 108,
   "id": "a778382c",
   "metadata": {},
   "outputs": [
    {
     "name": "stdout",
     "output_type": "stream",
     "text": [
      "['__add__', '__class__', '__contains__', '__delattr__', '__dir__', '__doc__', '__eq__', '__format__', '__ge__', '__getattribute__', '__getitem__', '__getnewargs__', '__gt__', '__hash__', '__init__', '__init_subclass__', '__iter__', '__le__', '__len__', '__lt__', '__mod__', '__mul__', '__ne__', '__new__', '__reduce__', '__reduce_ex__', '__repr__', '__rmod__', '__rmul__', '__setattr__', '__sizeof__', '__str__', '__subclasshook__', 'capitalize', 'casefold', 'center', 'count', 'encode', 'endswith', 'expandtabs', 'find', 'format', 'format_map', 'index', 'isalnum', 'isalpha', 'isascii', 'isdecimal', 'isdigit', 'isidentifier', 'islower', 'isnumeric', 'isprintable', 'isspace', 'istitle', 'isupper', 'join', 'ljust', 'lower', 'lstrip', 'maketrans', 'partition', 'replace', 'rfind', 'rindex', 'rjust', 'rpartition', 'rsplit', 'rstrip', 'split', 'splitlines', 'startswith', 'strip', 'swapcase', 'title', 'translate', 'upper', 'zfill']\n"
     ]
    }
   ],
   "source": [
    "print(dir(input_data))"
   ]
  },
  {
   "cell_type": "code",
   "execution_count": 109,
   "id": "0b117d38",
   "metadata": {},
   "outputs": [
    {
     "data": {
      "text/plain": [
       "['1', '2']"
      ]
     },
     "execution_count": 109,
     "metadata": {},
     "output_type": "execute_result"
    }
   ],
   "source": [
    "input_data.split(' ')"
   ]
  },
  {
   "cell_type": "code",
   "execution_count": 110,
   "id": "6accc802",
   "metadata": {},
   "outputs": [],
   "source": [
    "split_input_data = input_data.split(' ')"
   ]
  },
  {
   "cell_type": "code",
   "execution_count": 112,
   "id": "e15eafd7",
   "metadata": {},
   "outputs": [
    {
     "data": {
      "text/plain": [
       "3"
      ]
     },
     "execution_count": 112,
     "metadata": {},
     "output_type": "execute_result"
    }
   ],
   "source": [
    "int(split_input_data[0])\\\n",
    "+ int(split_input_data[len(split_input_data) - 1])"
   ]
  },
  {
   "cell_type": "code",
   "execution_count": 133,
   "id": "c7b42bf7",
   "metadata": {},
   "outputs": [],
   "source": [
    "def input_AB():\n",
    "    input_data = input(\"예제 입력 : \")\n",
    "    split_input_data = input_data.split(' ')\n",
    "    \n",
    "    A = int(split_input_data[0])\n",
    "    if ( A <= 0 or A >= 10 ):\n",
    "        print(\"A의 범위가 올바르지 않습니다.\")\n",
    "        return None\n",
    "    \n",
    "    B = int(split_input_data[1])\n",
    "    if ( B <= 0 or B >= 10 ):\n",
    "        print(\"B의 범위가 올바르지 않습니다.\")\n",
    "        return None\n",
    "    \n",
    "    return (A, B)\n",
    "\n",
    "def A_add_B():\n",
    "    data = input_AB()\n",
    "    if data is None:\n",
    "        return\n",
    "    \n",
    "    print(f'예제 출력 : {data[0] + data[1]}')\n",
    "\n",
    "    \n",
    "def A_multiple_B():\n",
    "    data = input_AB()\n",
    "    if data is None:\n",
    "        return\n",
    "    \n",
    "    print(f'예제 출력 : {data[0] * data[1]}')\n",
    "    \n",
    "def A_subtract_B():\n",
    "    data = input_AB()\n",
    "    if data is None:\n",
    "        return\n",
    "    \n",
    "    print(f'예제 출력 : {data[0] - data[1]}')\n",
    "    \n",
    "def A_divide_B():\n",
    "    data = input_AB()\n",
    "    if data is None:\n",
    "        return\n",
    "    \n",
    "    print(f'예제 출력 : {data[0] / data[1]}')"
   ]
  },
  {
   "cell_type": "code",
   "execution_count": 132,
   "id": "05251a5f",
   "metadata": {},
   "outputs": [
    {
     "name": "stdout",
     "output_type": "stream",
     "text": [
      "예제 입력 : 1 2\n",
      "예제 출력 : 3\n"
     ]
    }
   ],
   "source": [
    "A_add_B()"
   ]
  },
  {
   "cell_type": "code",
   "execution_count": 129,
   "id": "cc660fcf",
   "metadata": {},
   "outputs": [
    {
     "name": "stdout",
     "output_type": "stream",
     "text": [
      "예제 입력 : 1 2\n",
      "예제 출력 : 2\n"
     ]
    }
   ],
   "source": [
    "A_multiple_B()"
   ]
  },
  {
   "cell_type": "code",
   "execution_count": 134,
   "id": "9f57d3e4",
   "metadata": {},
   "outputs": [
    {
     "name": "stdout",
     "output_type": "stream",
     "text": [
      "예제 입력 : 3 2\n",
      "예제 출력 : 1\n"
     ]
    }
   ],
   "source": [
    "A_subtract_B()"
   ]
  },
  {
   "cell_type": "code",
   "execution_count": 135,
   "id": "5c22920f",
   "metadata": {},
   "outputs": [
    {
     "name": "stdout",
     "output_type": "stream",
     "text": [
      "예제 입력 : 1 3\n",
      "예제 출력 : 0.3333333333333333\n"
     ]
    }
   ],
   "source": [
    "A_divide_B()"
   ]
  },
  {
   "cell_type": "code",
   "execution_count": 170,
   "id": "fb4c4a81",
   "metadata": {},
   "outputs": [],
   "source": [
    "three_list = []\n",
    "five_list = []"
   ]
  },
  {
   "cell_type": "code",
   "execution_count": 171,
   "id": "c33131f0",
   "metadata": {},
   "outputs": [],
   "source": [
    "count = 1000\n",
    "for data in range(1, count):\n",
    "    if data % 3 == 0:\n",
    "        three_list.append(data)\n",
    "        \n",
    "    if data % 5 == 0:\n",
    "#         if data % 15 == 0:\n",
    "#             continue\n",
    "        five_list.append(data)"
   ]
  },
  {
   "cell_type": "code",
   "execution_count": 166,
   "id": "748ab417",
   "metadata": {},
   "outputs": [
    {
     "name": "stdout",
     "output_type": "stream",
     "text": [
      "[3, 6, 9, 12, 15, 18, 21, 24, 27, 30, 33, 36, 39, 42, 45, 48, 51, 54, 57, 60, 63, 66, 69, 72, 75, 78, 81, 84, 87, 90, 93, 96, 99, 102, 105, 108, 111, 114, 117, 120, 123, 126, 129, 132, 135, 138, 141, 144, 147, 150, 153, 156, 159, 162, 165, 168, 171, 174, 177, 180, 183, 186, 189, 192, 195, 198, 201, 204, 207, 210, 213, 216, 219, 222, 225, 228, 231, 234, 237, 240, 243, 246, 249, 252, 255, 258, 261, 264, 267, 270, 273, 276, 279, 282, 285, 288, 291, 294, 297, 300, 303, 306, 309, 312, 315, 318, 321, 324, 327, 330, 333, 336, 339, 342, 345, 348, 351, 354, 357, 360, 363, 366, 369, 372, 375, 378, 381, 384, 387, 390, 393, 396, 399, 402, 405, 408, 411, 414, 417, 420, 423, 426, 429, 432, 435, 438, 441, 444, 447, 450, 453, 456, 459, 462, 465, 468, 471, 474, 477, 480, 483, 486, 489, 492, 495, 498, 501, 504, 507, 510, 513, 516, 519, 522, 525, 528, 531, 534, 537, 540, 543, 546, 549, 552, 555, 558, 561, 564, 567, 570, 573, 576, 579, 582, 585, 588, 591, 594, 597, 600, 603, 606, 609, 612, 615, 618, 621, 624, 627, 630, 633, 636, 639, 642, 645, 648, 651, 654, 657, 660, 663, 666, 669, 672, 675, 678, 681, 684, 687, 690, 693, 696, 699, 702, 705, 708, 711, 714, 717, 720, 723, 726, 729, 732, 735, 738, 741, 744, 747, 750, 753, 756, 759, 762, 765, 768, 771, 774, 777, 780, 783, 786, 789, 792, 795, 798, 801, 804, 807, 810, 813, 816, 819, 822, 825, 828, 831, 834, 837, 840, 843, 846, 849, 852, 855, 858, 861, 864, 867, 870, 873, 876, 879, 882, 885, 888, 891, 894, 897, 900, 903, 906, 909, 912, 915, 918, 921, 924, 927, 930, 933, 936, 939, 942, 945, 948, 951, 954, 957, 960, 963, 966, 969, 972, 975, 978, 981, 984, 987, 990, 993, 996, 999]\n"
     ]
    }
   ],
   "source": [
    "print(three_list)"
   ]
  },
  {
   "cell_type": "code",
   "execution_count": 167,
   "id": "f9be6085",
   "metadata": {},
   "outputs": [
    {
     "name": "stdout",
     "output_type": "stream",
     "text": [
      "[5, 10, 20, 25, 35, 40, 50, 55, 65, 70, 80, 85, 95, 100, 110, 115, 125, 130, 140, 145, 155, 160, 170, 175, 185, 190, 200, 205, 215, 220, 230, 235, 245, 250, 260, 265, 275, 280, 290, 295, 305, 310, 320, 325, 335, 340, 350, 355, 365, 370, 380, 385, 395, 400, 410, 415, 425, 430, 440, 445, 455, 460, 470, 475, 485, 490, 500, 505, 515, 520, 530, 535, 545, 550, 560, 565, 575, 580, 590, 595, 605, 610, 620, 625, 635, 640, 650, 655, 665, 670, 680, 685, 695, 700, 710, 715, 725, 730, 740, 745, 755, 760, 770, 775, 785, 790, 800, 805, 815, 820, 830, 835, 845, 850, 860, 865, 875, 880, 890, 895, 905, 910, 920, 925, 935, 940, 950, 955, 965, 970, 980, 985, 995]\n"
     ]
    }
   ],
   "source": [
    "print(five_list)"
   ]
  },
  {
   "cell_type": "code",
   "execution_count": 168,
   "id": "2e25ec42",
   "metadata": {},
   "outputs": [
    {
     "name": "stdout",
     "output_type": "stream",
     "text": [
      "[3, 6, 9, 12, 15, 18, 21, 24, 27, 30, 33, 36, 39, 42, 45, 48, 51, 54, 57, 60, 63, 66, 69, 72, 75, 78, 81, 84, 87, 90, 93, 96, 99, 102, 105, 108, 111, 114, 117, 120, 123, 126, 129, 132, 135, 138, 141, 144, 147, 150, 153, 156, 159, 162, 165, 168, 171, 174, 177, 180, 183, 186, 189, 192, 195, 198, 201, 204, 207, 210, 213, 216, 219, 222, 225, 228, 231, 234, 237, 240, 243, 246, 249, 252, 255, 258, 261, 264, 267, 270, 273, 276, 279, 282, 285, 288, 291, 294, 297, 300, 303, 306, 309, 312, 315, 318, 321, 324, 327, 330, 333, 336, 339, 342, 345, 348, 351, 354, 357, 360, 363, 366, 369, 372, 375, 378, 381, 384, 387, 390, 393, 396, 399, 402, 405, 408, 411, 414, 417, 420, 423, 426, 429, 432, 435, 438, 441, 444, 447, 450, 453, 456, 459, 462, 465, 468, 471, 474, 477, 480, 483, 486, 489, 492, 495, 498, 501, 504, 507, 510, 513, 516, 519, 522, 525, 528, 531, 534, 537, 540, 543, 546, 549, 552, 555, 558, 561, 564, 567, 570, 573, 576, 579, 582, 585, 588, 591, 594, 597, 600, 603, 606, 609, 612, 615, 618, 621, 624, 627, 630, 633, 636, 639, 642, 645, 648, 651, 654, 657, 660, 663, 666, 669, 672, 675, 678, 681, 684, 687, 690, 693, 696, 699, 702, 705, 708, 711, 714, 717, 720, 723, 726, 729, 732, 735, 738, 741, 744, 747, 750, 753, 756, 759, 762, 765, 768, 771, 774, 777, 780, 783, 786, 789, 792, 795, 798, 801, 804, 807, 810, 813, 816, 819, 822, 825, 828, 831, 834, 837, 840, 843, 846, 849, 852, 855, 858, 861, 864, 867, 870, 873, 876, 879, 882, 885, 888, 891, 894, 897, 900, 903, 906, 909, 912, 915, 918, 921, 924, 927, 930, 933, 936, 939, 942, 945, 948, 951, 954, 957, 960, 963, 966, 969, 972, 975, 978, 981, 984, 987, 990, 993, 996, 999, 5, 10, 20, 25, 35, 40, 50, 55, 65, 70, 80, 85, 95, 100, 110, 115, 125, 130, 140, 145, 155, 160, 170, 175, 185, 190, 200, 205, 215, 220, 230, 235, 245, 250, 260, 265, 275, 280, 290, 295, 305, 310, 320, 325, 335, 340, 350, 355, 365, 370, 380, 385, 395, 400, 410, 415, 425, 430, 440, 445, 455, 460, 470, 475, 485, 490, 500, 505, 515, 520, 530, 535, 545, 550, 560, 565, 575, 580, 590, 595, 605, 610, 620, 625, 635, 640, 650, 655, 665, 670, 680, 685, 695, 700, 710, 715, 725, 730, 740, 745, 755, 760, 770, 775, 785, 790, 800, 805, 815, 820, 830, 835, 845, 850, 860, 865, 875, 880, 890, 895, 905, 910, 920, 925, 935, 940, 950, 955, 965, 970, 980, 985, 995]\n"
     ]
    }
   ],
   "source": [
    "print(three_list + five_list)"
   ]
  },
  {
   "cell_type": "code",
   "execution_count": 146,
   "id": "718d4195",
   "metadata": {},
   "outputs": [
    {
     "data": {
      "text/plain": [
       "266333"
      ]
     },
     "execution_count": 146,
     "metadata": {},
     "output_type": "execute_result"
    }
   ],
   "source": [
    "sum(three_list + five_list)"
   ]
  },
  {
   "cell_type": "code",
   "execution_count": 172,
   "id": "31ecc891",
   "metadata": {},
   "outputs": [],
   "source": [
    "three_set = set(three_list)\n",
    "five_set = set(five_list)"
   ]
  },
  {
   "cell_type": "code",
   "execution_count": 150,
   "id": "4eb8c852",
   "metadata": {},
   "outputs": [
    {
     "name": "stdout",
     "output_type": "stream",
     "text": [
      "{3, 6, 9, 12, 15, 18, 21, 24, 27, 30, 33, 36, 39, 42, 45, 48, 51, 54, 57, 60, 63, 66, 69, 72, 75, 78, 81, 84, 87, 90, 93, 96, 99, 102, 105, 108, 111, 114, 117, 120, 123, 126, 129, 132, 135, 138, 141, 144, 147, 150, 153, 156, 159, 162, 165, 168, 171, 174, 177, 180, 183, 186, 189, 192, 195, 198, 201, 204, 207, 210, 213, 216, 219, 222, 225, 228, 231, 234, 237, 240, 243, 246, 249, 252, 255, 258, 261, 264, 267, 270, 273, 276, 279, 282, 285, 288, 291, 294, 297, 300, 303, 306, 309, 312, 315, 318, 321, 324, 327, 330, 333, 336, 339, 342, 345, 348, 351, 354, 357, 360, 363, 366, 369, 372, 375, 378, 381, 384, 387, 390, 393, 396, 399, 402, 405, 408, 411, 414, 417, 420, 423, 426, 429, 432, 435, 438, 441, 444, 447, 450, 453, 456, 459, 462, 465, 468, 471, 474, 477, 480, 483, 486, 489, 492, 495, 498, 501, 504, 507, 510, 513, 516, 519, 522, 525, 528, 531, 534, 537, 540, 543, 546, 549, 552, 555, 558, 561, 564, 567, 570, 573, 576, 579, 582, 585, 588, 591, 594, 597, 600, 603, 606, 609, 612, 615, 618, 621, 624, 627, 630, 633, 636, 639, 642, 645, 648, 651, 654, 657, 660, 663, 666, 669, 672, 675, 678, 681, 684, 687, 690, 693, 696, 699, 702, 705, 708, 711, 714, 717, 720, 723, 726, 729, 732, 735, 738, 741, 744, 747, 750, 753, 756, 759, 762, 765, 768, 771, 774, 777, 780, 783, 786, 789, 792, 795, 798, 801, 804, 807, 810, 813, 816, 819, 822, 825, 828, 831, 834, 837, 840, 843, 846, 849, 852, 855, 858, 861, 864, 867, 870, 873, 876, 879, 882, 885, 888, 891, 894, 897, 900, 903, 906, 909, 912, 915, 918, 921, 924, 927, 930, 933, 936, 939, 942, 945, 948, 951, 954, 957, 960, 963, 966, 969, 972, 975, 978, 981, 984, 987, 990, 993, 996, 999}\n"
     ]
    }
   ],
   "source": [
    "print(three_set)"
   ]
  },
  {
   "cell_type": "code",
   "execution_count": 151,
   "id": "4fb73ad7",
   "metadata": {},
   "outputs": [
    {
     "name": "stdout",
     "output_type": "stream",
     "text": [
      "{515, 5, 520, 10, 525, 15, 530, 20, 535, 25, 540, 30, 545, 35, 550, 40, 555, 45, 560, 50, 565, 55, 570, 60, 575, 65, 580, 70, 585, 75, 590, 80, 595, 85, 600, 90, 605, 95, 610, 100, 615, 105, 620, 110, 625, 115, 630, 120, 635, 125, 640, 130, 645, 135, 650, 140, 655, 145, 660, 150, 665, 155, 670, 160, 675, 165, 680, 170, 685, 175, 690, 180, 695, 185, 700, 190, 705, 195, 710, 200, 715, 205, 720, 210, 725, 215, 730, 220, 735, 225, 740, 230, 745, 235, 750, 240, 755, 245, 760, 250, 765, 255, 770, 260, 775, 265, 780, 270, 785, 275, 790, 280, 795, 285, 800, 290, 805, 295, 810, 300, 815, 305, 820, 310, 825, 315, 830, 320, 835, 325, 840, 330, 845, 335, 850, 340, 855, 345, 860, 350, 865, 355, 870, 360, 875, 365, 880, 370, 885, 375, 890, 380, 895, 385, 900, 390, 905, 395, 910, 400, 915, 405, 920, 410, 925, 415, 930, 420, 935, 425, 940, 430, 945, 435, 950, 440, 955, 445, 960, 450, 965, 455, 970, 460, 975, 465, 980, 470, 985, 475, 990, 480, 995, 485, 490, 495, 500, 505, 510}\n"
     ]
    }
   ],
   "source": [
    "print(five_set)"
   ]
  },
  {
   "cell_type": "code",
   "execution_count": 153,
   "id": "ac5befe9",
   "metadata": {},
   "outputs": [
    {
     "name": "stdout",
     "output_type": "stream",
     "text": [
      "['__and__', '__class__', '__contains__', '__delattr__', '__dir__', '__doc__', '__eq__', '__format__', '__ge__', '__getattribute__', '__gt__', '__hash__', '__iand__', '__init__', '__init_subclass__', '__ior__', '__isub__', '__iter__', '__ixor__', '__le__', '__len__', '__lt__', '__ne__', '__new__', '__or__', '__rand__', '__reduce__', '__reduce_ex__', '__repr__', '__ror__', '__rsub__', '__rxor__', '__setattr__', '__sizeof__', '__str__', '__sub__', '__subclasshook__', '__xor__', 'add', 'clear', 'copy', 'difference', 'difference_update', 'discard', 'intersection', 'intersection_update', 'isdisjoint', 'issubset', 'issuperset', 'pop', 'remove', 'symmetric_difference', 'symmetric_difference_update', 'union', 'update']\n"
     ]
    }
   ],
   "source": [
    "print(dir(three_set))"
   ]
  },
  {
   "cell_type": "code",
   "execution_count": 155,
   "id": "537a1bfc",
   "metadata": {},
   "outputs": [],
   "source": [
    "union = three_set.union(five_set)"
   ]
  },
  {
   "cell_type": "code",
   "execution_count": 173,
   "id": "08cad3dd",
   "metadata": {},
   "outputs": [],
   "source": [
    "intersection = three_set.intersection(five_set)"
   ]
  },
  {
   "cell_type": "code",
   "execution_count": 174,
   "id": "2b2e23fb",
   "metadata": {},
   "outputs": [
    {
     "name": "stdout",
     "output_type": "stream",
     "text": [
      "{900, 645, 390, 135, 780, 525, 270, 15, 915, 660, 405, 150, 795, 540, 285, 30, 930, 675, 420, 165, 810, 555, 300, 45, 945, 690, 435, 180, 825, 570, 315, 60, 960, 705, 450, 195, 840, 585, 330, 75, 975, 720, 465, 210, 855, 600, 345, 90, 990, 735, 480, 225, 870, 615, 360, 105, 750, 495, 240, 885, 630, 375, 120, 765, 510, 255}\n"
     ]
    }
   ],
   "source": [
    "print(intersection)"
   ]
  },
  {
   "cell_type": "code",
   "execution_count": 156,
   "id": "e239a37e",
   "metadata": {},
   "outputs": [
    {
     "name": "stdout",
     "output_type": "stream",
     "text": [
      "{3, 5, 6, 9, 10, 12, 15, 18, 20, 21, 24, 25, 27, 30, 33, 35, 36, 39, 40, 42, 45, 48, 50, 51, 54, 55, 57, 60, 63, 65, 66, 69, 70, 72, 75, 78, 80, 81, 84, 85, 87, 90, 93, 95, 96, 99, 100, 102, 105, 108, 110, 111, 114, 115, 117, 120, 123, 125, 126, 129, 130, 132, 135, 138, 140, 141, 144, 145, 147, 150, 153, 155, 156, 159, 160, 162, 165, 168, 170, 171, 174, 175, 177, 180, 183, 185, 186, 189, 190, 192, 195, 198, 200, 201, 204, 205, 207, 210, 213, 215, 216, 219, 220, 222, 225, 228, 230, 231, 234, 235, 237, 240, 243, 245, 246, 249, 250, 252, 255, 258, 260, 261, 264, 265, 267, 270, 273, 275, 276, 279, 280, 282, 285, 288, 290, 291, 294, 295, 297, 300, 303, 305, 306, 309, 310, 312, 315, 318, 320, 321, 324, 325, 327, 330, 333, 335, 336, 339, 340, 342, 345, 348, 350, 351, 354, 355, 357, 360, 363, 365, 366, 369, 370, 372, 375, 378, 380, 381, 384, 385, 387, 390, 393, 395, 396, 399, 400, 402, 405, 408, 410, 411, 414, 415, 417, 420, 423, 425, 426, 429, 430, 432, 435, 438, 440, 441, 444, 445, 447, 450, 453, 455, 456, 459, 460, 462, 465, 468, 470, 471, 474, 475, 477, 480, 483, 485, 486, 489, 490, 492, 495, 498, 500, 501, 504, 505, 507, 510, 513, 515, 516, 519, 520, 522, 525, 528, 530, 531, 534, 535, 537, 540, 543, 545, 546, 549, 550, 552, 555, 558, 560, 561, 564, 565, 567, 570, 573, 575, 576, 579, 580, 582, 585, 588, 590, 591, 594, 595, 597, 600, 603, 605, 606, 609, 610, 612, 615, 618, 620, 621, 624, 625, 627, 630, 633, 635, 636, 639, 640, 642, 645, 648, 650, 651, 654, 655, 657, 660, 663, 665, 666, 669, 670, 672, 675, 678, 680, 681, 684, 685, 687, 690, 693, 695, 696, 699, 700, 702, 705, 708, 710, 711, 714, 715, 717, 720, 723, 725, 726, 729, 730, 732, 735, 738, 740, 741, 744, 745, 747, 750, 753, 755, 756, 759, 760, 762, 765, 768, 770, 771, 774, 775, 777, 780, 783, 785, 786, 789, 790, 792, 795, 798, 800, 801, 804, 805, 807, 810, 813, 815, 816, 819, 820, 822, 825, 828, 830, 831, 834, 835, 837, 840, 843, 845, 846, 849, 850, 852, 855, 858, 860, 861, 864, 865, 867, 870, 873, 875, 876, 879, 880, 882, 885, 888, 890, 891, 894, 895, 897, 900, 903, 905, 906, 909, 910, 912, 915, 918, 920, 921, 924, 925, 927, 930, 933, 935, 936, 939, 940, 942, 945, 948, 950, 951, 954, 955, 957, 960, 963, 965, 966, 969, 970, 972, 975, 978, 980, 981, 984, 985, 987, 990, 993, 995, 996, 999}\n"
     ]
    }
   ],
   "source": [
    "print(union)"
   ]
  },
  {
   "cell_type": "code",
   "execution_count": 157,
   "id": "39e1a4fa",
   "metadata": {},
   "outputs": [
    {
     "data": {
      "text/plain": [
       "233168"
      ]
     },
     "execution_count": 157,
     "metadata": {},
     "output_type": "execute_result"
    }
   ],
   "source": [
    "sum(union)"
   ]
  },
  {
   "cell_type": "code",
   "execution_count": 169,
   "id": "c95c0e80",
   "metadata": {},
   "outputs": [
    {
     "data": {
      "text/plain": [
       "233168"
      ]
     },
     "execution_count": 169,
     "metadata": {},
     "output_type": "execute_result"
    }
   ],
   "source": [
    "sum(three_list + five_list)"
   ]
  },
  {
   "cell_type": "code",
   "execution_count": 176,
   "id": "1e0a1c5d",
   "metadata": {},
   "outputs": [
    {
     "name": "stdout",
     "output_type": "stream",
     "text": [
      "232792560\n"
     ]
    }
   ],
   "source": [
    "target = 1\n",
    "is_loop = True\n",
    "\n",
    "range_value = 21\n",
    "\n",
    "while is_loop:\n",
    "    result = []\n",
    "    for data in range(1, range_value):\n",
    "        if target % data == 0:\n",
    "            result.append(True)\n",
    "    \n",
    "    if len(result) == range_value - 1:\n",
    "        print(target)\n",
    "        is_loop=False\n",
    "        break\n",
    "        \n",
    "    target += 1"
   ]
  },
  {
   "cell_type": "code",
   "execution_count": 177,
   "id": "dbdf542b",
   "metadata": {},
   "outputs": [
    {
     "data": {
      "text/plain": [
       "32768"
      ]
     },
     "execution_count": 177,
     "metadata": {},
     "output_type": "execute_result"
    }
   ],
   "source": [
    "2**15"
   ]
  },
  {
   "cell_type": "code",
   "execution_count": 178,
   "id": "0eb7f813",
   "metadata": {},
   "outputs": [
    {
     "data": {
      "text/plain": [
       "10715086071862673209484250490600018105614048117055336074437503883703510511249361224931983788156958581275946729175531468251871452856923140435984577574698574803934567774824230985421074605062371141877954182153046474983581941267398767559165543946077062914571196477686542167660429831652624386837205668069376"
      ]
     },
     "execution_count": 178,
     "metadata": {},
     "output_type": "execute_result"
    }
   ],
   "source": [
    "2**1000"
   ]
  },
  {
   "cell_type": "code",
   "execution_count": 179,
   "id": "fb28142f",
   "metadata": {},
   "outputs": [
    {
     "data": {
      "text/plain": [
       "10715086071862673209484250490600018105614048117055336074437503883703510511249361224931983788156958581275946729175531468251871452856923140435984577574698574803934567774824230985421074605062371141877954182153046474983581941267398767559165543946077062914571196477686542167660429831652624386837205668069376"
      ]
     },
     "execution_count": 179,
     "metadata": {},
     "output_type": "execute_result"
    }
   ],
   "source": [
    "10715086071862673209484250490600018105614048117055336074437503883703510511249361224931983788156958581275946729175531468251871452856923140435984577574698574803934567774824230985421074605062371141877954182153046474983581941267398767559165543946077062914571196477686542167660429831652624386837205668069376"
   ]
  },
  {
   "cell_type": "code",
   "execution_count": 188,
   "id": "567c70c5",
   "metadata": {},
   "outputs": [],
   "source": [
    "a = 2**1000"
   ]
  },
  {
   "cell_type": "code",
   "execution_count": 189,
   "id": "d0b51b2f",
   "metadata": {},
   "outputs": [
    {
     "data": {
      "text/plain": [
       "10715086071862673209484250490600018105614048117055336074437503883703510511249361224931983788156958581275946729175531468251871452856923140435984577574698574803934567774824230985421074605062371141877954182153046474983581941267398767559165543946077062914571196477686542167660429831652624386837205668069376"
      ]
     },
     "execution_count": 189,
     "metadata": {},
     "output_type": "execute_result"
    }
   ],
   "source": [
    "a"
   ]
  },
  {
   "cell_type": "code",
   "execution_count": 190,
   "id": "e86ab04f",
   "metadata": {},
   "outputs": [
    {
     "data": {
      "text/plain": [
       "'10715086071862673209484250490600018105614048117055336074437503883703510511249361224931983788156958581275946729175531468251871452856923140435984577574698574803934567774824230985421074605062371141877954182153046474983581941267398767559165543946077062914571196477686542167660429831652624386837205668069376'"
      ]
     },
     "execution_count": 190,
     "metadata": {},
     "output_type": "execute_result"
    }
   ],
   "source": [
    "str(a)"
   ]
  },
  {
   "cell_type": "code",
   "execution_count": 192,
   "id": "ed3a0cd1",
   "metadata": {},
   "outputs": [
    {
     "name": "stdout",
     "output_type": "stream",
     "text": [
      "1\n",
      "0\n",
      "7\n",
      "1\n",
      "5\n",
      "0\n",
      "8\n",
      "6\n",
      "0\n",
      "7\n",
      "1\n",
      "8\n",
      "6\n",
      "2\n",
      "6\n",
      "7\n",
      "3\n",
      "2\n",
      "0\n",
      "9\n",
      "4\n",
      "8\n",
      "4\n",
      "2\n",
      "5\n",
      "0\n",
      "4\n",
      "9\n",
      "0\n",
      "6\n",
      "0\n",
      "0\n",
      "0\n",
      "1\n",
      "8\n",
      "1\n",
      "0\n",
      "5\n",
      "6\n",
      "1\n",
      "4\n",
      "0\n",
      "4\n",
      "8\n",
      "1\n",
      "1\n",
      "7\n",
      "0\n",
      "5\n",
      "5\n",
      "3\n",
      "3\n",
      "6\n",
      "0\n",
      "7\n",
      "4\n",
      "4\n",
      "3\n",
      "7\n",
      "5\n",
      "0\n",
      "3\n",
      "8\n",
      "8\n",
      "3\n",
      "7\n",
      "0\n",
      "3\n",
      "5\n",
      "1\n",
      "0\n",
      "5\n",
      "1\n",
      "1\n",
      "2\n",
      "4\n",
      "9\n",
      "3\n",
      "6\n",
      "1\n",
      "2\n",
      "2\n",
      "4\n",
      "9\n",
      "3\n",
      "1\n",
      "9\n",
      "8\n",
      "3\n",
      "7\n",
      "8\n",
      "8\n",
      "1\n",
      "5\n",
      "6\n",
      "9\n",
      "5\n",
      "8\n",
      "5\n",
      "8\n",
      "1\n",
      "2\n",
      "7\n",
      "5\n",
      "9\n",
      "4\n",
      "6\n",
      "7\n",
      "2\n",
      "9\n",
      "1\n",
      "7\n",
      "5\n",
      "5\n",
      "3\n",
      "1\n",
      "4\n",
      "6\n",
      "8\n",
      "2\n",
      "5\n",
      "1\n",
      "8\n",
      "7\n",
      "1\n",
      "4\n",
      "5\n",
      "2\n",
      "8\n",
      "5\n",
      "6\n",
      "9\n",
      "2\n",
      "3\n",
      "1\n",
      "4\n",
      "0\n",
      "4\n",
      "3\n",
      "5\n",
      "9\n",
      "8\n",
      "4\n",
      "5\n",
      "7\n",
      "7\n",
      "5\n",
      "7\n",
      "4\n",
      "6\n",
      "9\n",
      "8\n",
      "5\n",
      "7\n",
      "4\n",
      "8\n",
      "0\n",
      "3\n",
      "9\n",
      "3\n",
      "4\n",
      "5\n",
      "6\n",
      "7\n",
      "7\n",
      "7\n",
      "4\n",
      "8\n",
      "2\n",
      "4\n",
      "2\n",
      "3\n",
      "0\n",
      "9\n",
      "8\n",
      "5\n",
      "4\n",
      "2\n",
      "1\n",
      "0\n",
      "7\n",
      "4\n",
      "6\n",
      "0\n",
      "5\n",
      "0\n",
      "6\n",
      "2\n",
      "3\n",
      "7\n",
      "1\n",
      "1\n",
      "4\n",
      "1\n",
      "8\n",
      "7\n",
      "7\n",
      "9\n",
      "5\n",
      "4\n",
      "1\n",
      "8\n",
      "2\n",
      "1\n",
      "5\n",
      "3\n",
      "0\n",
      "4\n",
      "6\n",
      "4\n",
      "7\n",
      "4\n",
      "9\n",
      "8\n",
      "3\n",
      "5\n",
      "8\n",
      "1\n",
      "9\n",
      "4\n",
      "1\n",
      "2\n",
      "6\n",
      "7\n",
      "3\n",
      "9\n",
      "8\n",
      "7\n",
      "6\n",
      "7\n",
      "5\n",
      "5\n",
      "9\n",
      "1\n",
      "6\n",
      "5\n",
      "5\n",
      "4\n",
      "3\n",
      "9\n",
      "4\n",
      "6\n",
      "0\n",
      "7\n",
      "7\n",
      "0\n",
      "6\n",
      "2\n",
      "9\n",
      "1\n",
      "4\n",
      "5\n",
      "7\n",
      "1\n",
      "1\n",
      "9\n",
      "6\n",
      "4\n",
      "7\n",
      "7\n",
      "6\n",
      "8\n",
      "6\n",
      "5\n",
      "4\n",
      "2\n",
      "1\n",
      "6\n",
      "7\n",
      "6\n",
      "6\n",
      "0\n",
      "4\n",
      "2\n",
      "9\n",
      "8\n",
      "3\n",
      "1\n",
      "6\n",
      "5\n",
      "2\n",
      "6\n",
      "2\n",
      "4\n",
      "3\n",
      "8\n",
      "6\n",
      "8\n",
      "3\n",
      "7\n",
      "2\n",
      "0\n",
      "5\n",
      "6\n",
      "6\n",
      "8\n",
      "0\n",
      "6\n",
      "9\n",
      "3\n",
      "7\n",
      "6\n"
     ]
    },
    {
     "data": {
      "text/plain": [
       "1366"
      ]
     },
     "execution_count": 192,
     "metadata": {},
     "output_type": "execute_result"
    }
   ],
   "source": [
    "total = 0\n",
    "for data in str(a):\n",
    "    print(data)\n",
    "    total += int(data)\n",
    "    \n",
    "total"
   ]
  },
  {
   "cell_type": "code",
   "execution_count": 193,
   "id": "49201c98",
   "metadata": {},
   "outputs": [],
   "source": [
    "from datetime import datetime"
   ]
  },
  {
   "cell_type": "code",
   "execution_count": 200,
   "id": "5b75e5b6",
   "metadata": {},
   "outputs": [],
   "source": [
    "a = datetime(1900, 1, 8)"
   ]
  },
  {
   "cell_type": "code",
   "execution_count": 202,
   "id": "e3d24ef3",
   "metadata": {},
   "outputs": [
    {
     "data": {
      "text/plain": [
       "0"
      ]
     },
     "execution_count": 202,
     "metadata": {},
     "output_type": "execute_result"
    }
   ],
   "source": [
    "a.weekday()"
   ]
  },
  {
   "cell_type": "code",
   "execution_count": 197,
   "id": "e54c5079",
   "metadata": {},
   "outputs": [
    {
     "name": "stdout",
     "output_type": "stream",
     "text": [
      "['__add__', '__class__', '__delattr__', '__dir__', '__doc__', '__eq__', '__format__', '__ge__', '__getattribute__', '__gt__', '__hash__', '__init__', '__init_subclass__', '__le__', '__lt__', '__ne__', '__new__', '__radd__', '__reduce__', '__reduce_ex__', '__repr__', '__rsub__', '__setattr__', '__sizeof__', '__str__', '__sub__', '__subclasshook__', 'astimezone', 'combine', 'ctime', 'date', 'day', 'dst', 'fold', 'fromisocalendar', 'fromisoformat', 'fromordinal', 'fromtimestamp', 'hour', 'isocalendar', 'isoformat', 'isoweekday', 'max', 'microsecond', 'min', 'minute', 'month', 'now', 'replace', 'resolution', 'second', 'strftime', 'strptime', 'time', 'timestamp', 'timetuple', 'timetz', 'today', 'toordinal', 'tzinfo', 'tzname', 'utcfromtimestamp', 'utcnow', 'utcoffset', 'utctimetuple', 'weekday', 'year']\n"
     ]
    }
   ],
   "source": [
    "print(dir(a))"
   ]
  },
  {
   "cell_type": "code",
   "execution_count": 204,
   "id": "e9ced8d8",
   "metadata": {},
   "outputs": [
    {
     "name": "stdout",
     "output_type": "stream",
     "text": [
      "172\n"
     ]
    }
   ],
   "source": [
    "total = 0\n",
    "result = []\n",
    "for year in range(1901, 2001):\n",
    "    for month in range(1, 13):\n",
    "        if datetime(year, month, 1).weekday() == 0:\n",
    "            result.append(datetime(year, month, 1))\n",
    "            total += 1\n",
    "            \n",
    "print(total)"
   ]
  },
  {
   "cell_type": "code",
   "execution_count": 205,
   "id": "f84fd6b5",
   "metadata": {},
   "outputs": [
    {
     "data": {
      "text/plain": [
       "[datetime.datetime(1901, 4, 1, 0, 0),\n",
       " datetime.datetime(1901, 7, 1, 0, 0),\n",
       " datetime.datetime(1902, 9, 1, 0, 0),\n",
       " datetime.datetime(1902, 12, 1, 0, 0),\n",
       " datetime.datetime(1903, 6, 1, 0, 0),\n",
       " datetime.datetime(1904, 2, 1, 0, 0),\n",
       " datetime.datetime(1904, 8, 1, 0, 0),\n",
       " datetime.datetime(1905, 5, 1, 0, 0),\n",
       " datetime.datetime(1906, 1, 1, 0, 0),\n",
       " datetime.datetime(1906, 10, 1, 0, 0),\n",
       " datetime.datetime(1907, 4, 1, 0, 0),\n",
       " datetime.datetime(1907, 7, 1, 0, 0),\n",
       " datetime.datetime(1908, 6, 1, 0, 0),\n",
       " datetime.datetime(1909, 2, 1, 0, 0),\n",
       " datetime.datetime(1909, 3, 1, 0, 0),\n",
       " datetime.datetime(1909, 11, 1, 0, 0),\n",
       " datetime.datetime(1910, 8, 1, 0, 0),\n",
       " datetime.datetime(1911, 5, 1, 0, 0),\n",
       " datetime.datetime(1912, 1, 1, 0, 0),\n",
       " datetime.datetime(1912, 4, 1, 0, 0),\n",
       " datetime.datetime(1912, 7, 1, 0, 0),\n",
       " datetime.datetime(1913, 9, 1, 0, 0),\n",
       " datetime.datetime(1913, 12, 1, 0, 0),\n",
       " datetime.datetime(1914, 6, 1, 0, 0),\n",
       " datetime.datetime(1915, 2, 1, 0, 0),\n",
       " datetime.datetime(1915, 3, 1, 0, 0),\n",
       " datetime.datetime(1915, 11, 1, 0, 0),\n",
       " datetime.datetime(1916, 5, 1, 0, 0),\n",
       " datetime.datetime(1917, 1, 1, 0, 0),\n",
       " datetime.datetime(1917, 10, 1, 0, 0),\n",
       " datetime.datetime(1918, 4, 1, 0, 0),\n",
       " datetime.datetime(1918, 7, 1, 0, 0),\n",
       " datetime.datetime(1919, 9, 1, 0, 0),\n",
       " datetime.datetime(1919, 12, 1, 0, 0),\n",
       " datetime.datetime(1920, 3, 1, 0, 0),\n",
       " datetime.datetime(1920, 11, 1, 0, 0),\n",
       " datetime.datetime(1921, 8, 1, 0, 0),\n",
       " datetime.datetime(1922, 5, 1, 0, 0),\n",
       " datetime.datetime(1923, 1, 1, 0, 0),\n",
       " datetime.datetime(1923, 10, 1, 0, 0),\n",
       " datetime.datetime(1924, 9, 1, 0, 0),\n",
       " datetime.datetime(1924, 12, 1, 0, 0),\n",
       " datetime.datetime(1925, 6, 1, 0, 0),\n",
       " datetime.datetime(1926, 2, 1, 0, 0),\n",
       " datetime.datetime(1926, 3, 1, 0, 0),\n",
       " datetime.datetime(1926, 11, 1, 0, 0),\n",
       " datetime.datetime(1927, 8, 1, 0, 0),\n",
       " datetime.datetime(1928, 10, 1, 0, 0),\n",
       " datetime.datetime(1929, 4, 1, 0, 0),\n",
       " datetime.datetime(1929, 7, 1, 0, 0),\n",
       " datetime.datetime(1930, 9, 1, 0, 0),\n",
       " datetime.datetime(1930, 12, 1, 0, 0),\n",
       " datetime.datetime(1931, 6, 1, 0, 0),\n",
       " datetime.datetime(1932, 2, 1, 0, 0),\n",
       " datetime.datetime(1932, 8, 1, 0, 0),\n",
       " datetime.datetime(1933, 5, 1, 0, 0),\n",
       " datetime.datetime(1934, 1, 1, 0, 0),\n",
       " datetime.datetime(1934, 10, 1, 0, 0),\n",
       " datetime.datetime(1935, 4, 1, 0, 0),\n",
       " datetime.datetime(1935, 7, 1, 0, 0),\n",
       " datetime.datetime(1936, 6, 1, 0, 0),\n",
       " datetime.datetime(1937, 2, 1, 0, 0),\n",
       " datetime.datetime(1937, 3, 1, 0, 0),\n",
       " datetime.datetime(1937, 11, 1, 0, 0),\n",
       " datetime.datetime(1938, 8, 1, 0, 0),\n",
       " datetime.datetime(1939, 5, 1, 0, 0),\n",
       " datetime.datetime(1940, 1, 1, 0, 0),\n",
       " datetime.datetime(1940, 4, 1, 0, 0),\n",
       " datetime.datetime(1940, 7, 1, 0, 0),\n",
       " datetime.datetime(1941, 9, 1, 0, 0),\n",
       " datetime.datetime(1941, 12, 1, 0, 0),\n",
       " datetime.datetime(1942, 6, 1, 0, 0),\n",
       " datetime.datetime(1943, 2, 1, 0, 0),\n",
       " datetime.datetime(1943, 3, 1, 0, 0),\n",
       " datetime.datetime(1943, 11, 1, 0, 0),\n",
       " datetime.datetime(1944, 5, 1, 0, 0),\n",
       " datetime.datetime(1945, 1, 1, 0, 0),\n",
       " datetime.datetime(1945, 10, 1, 0, 0),\n",
       " datetime.datetime(1946, 4, 1, 0, 0),\n",
       " datetime.datetime(1946, 7, 1, 0, 0),\n",
       " datetime.datetime(1947, 9, 1, 0, 0),\n",
       " datetime.datetime(1947, 12, 1, 0, 0),\n",
       " datetime.datetime(1948, 3, 1, 0, 0),\n",
       " datetime.datetime(1948, 11, 1, 0, 0),\n",
       " datetime.datetime(1949, 8, 1, 0, 0),\n",
       " datetime.datetime(1950, 5, 1, 0, 0),\n",
       " datetime.datetime(1951, 1, 1, 0, 0),\n",
       " datetime.datetime(1951, 10, 1, 0, 0),\n",
       " datetime.datetime(1952, 9, 1, 0, 0),\n",
       " datetime.datetime(1952, 12, 1, 0, 0),\n",
       " datetime.datetime(1953, 6, 1, 0, 0),\n",
       " datetime.datetime(1954, 2, 1, 0, 0),\n",
       " datetime.datetime(1954, 3, 1, 0, 0),\n",
       " datetime.datetime(1954, 11, 1, 0, 0),\n",
       " datetime.datetime(1955, 8, 1, 0, 0),\n",
       " datetime.datetime(1956, 10, 1, 0, 0),\n",
       " datetime.datetime(1957, 4, 1, 0, 0),\n",
       " datetime.datetime(1957, 7, 1, 0, 0),\n",
       " datetime.datetime(1958, 9, 1, 0, 0),\n",
       " datetime.datetime(1958, 12, 1, 0, 0),\n",
       " datetime.datetime(1959, 6, 1, 0, 0),\n",
       " datetime.datetime(1960, 2, 1, 0, 0),\n",
       " datetime.datetime(1960, 8, 1, 0, 0),\n",
       " datetime.datetime(1961, 5, 1, 0, 0),\n",
       " datetime.datetime(1962, 1, 1, 0, 0),\n",
       " datetime.datetime(1962, 10, 1, 0, 0),\n",
       " datetime.datetime(1963, 4, 1, 0, 0),\n",
       " datetime.datetime(1963, 7, 1, 0, 0),\n",
       " datetime.datetime(1964, 6, 1, 0, 0),\n",
       " datetime.datetime(1965, 2, 1, 0, 0),\n",
       " datetime.datetime(1965, 3, 1, 0, 0),\n",
       " datetime.datetime(1965, 11, 1, 0, 0),\n",
       " datetime.datetime(1966, 8, 1, 0, 0),\n",
       " datetime.datetime(1967, 5, 1, 0, 0),\n",
       " datetime.datetime(1968, 1, 1, 0, 0),\n",
       " datetime.datetime(1968, 4, 1, 0, 0),\n",
       " datetime.datetime(1968, 7, 1, 0, 0),\n",
       " datetime.datetime(1969, 9, 1, 0, 0),\n",
       " datetime.datetime(1969, 12, 1, 0, 0),\n",
       " datetime.datetime(1970, 6, 1, 0, 0),\n",
       " datetime.datetime(1971, 2, 1, 0, 0),\n",
       " datetime.datetime(1971, 3, 1, 0, 0),\n",
       " datetime.datetime(1971, 11, 1, 0, 0),\n",
       " datetime.datetime(1972, 5, 1, 0, 0),\n",
       " datetime.datetime(1973, 1, 1, 0, 0),\n",
       " datetime.datetime(1973, 10, 1, 0, 0),\n",
       " datetime.datetime(1974, 4, 1, 0, 0),\n",
       " datetime.datetime(1974, 7, 1, 0, 0),\n",
       " datetime.datetime(1975, 9, 1, 0, 0),\n",
       " datetime.datetime(1975, 12, 1, 0, 0),\n",
       " datetime.datetime(1976, 3, 1, 0, 0),\n",
       " datetime.datetime(1976, 11, 1, 0, 0),\n",
       " datetime.datetime(1977, 8, 1, 0, 0),\n",
       " datetime.datetime(1978, 5, 1, 0, 0),\n",
       " datetime.datetime(1979, 1, 1, 0, 0),\n",
       " datetime.datetime(1979, 10, 1, 0, 0),\n",
       " datetime.datetime(1980, 9, 1, 0, 0),\n",
       " datetime.datetime(1980, 12, 1, 0, 0),\n",
       " datetime.datetime(1981, 6, 1, 0, 0),\n",
       " datetime.datetime(1982, 2, 1, 0, 0),\n",
       " datetime.datetime(1982, 3, 1, 0, 0),\n",
       " datetime.datetime(1982, 11, 1, 0, 0),\n",
       " datetime.datetime(1983, 8, 1, 0, 0),\n",
       " datetime.datetime(1984, 10, 1, 0, 0),\n",
       " datetime.datetime(1985, 4, 1, 0, 0),\n",
       " datetime.datetime(1985, 7, 1, 0, 0),\n",
       " datetime.datetime(1986, 9, 1, 0, 0),\n",
       " datetime.datetime(1986, 12, 1, 0, 0),\n",
       " datetime.datetime(1987, 6, 1, 0, 0),\n",
       " datetime.datetime(1988, 2, 1, 0, 0),\n",
       " datetime.datetime(1988, 8, 1, 0, 0),\n",
       " datetime.datetime(1989, 5, 1, 0, 0),\n",
       " datetime.datetime(1990, 1, 1, 0, 0),\n",
       " datetime.datetime(1990, 10, 1, 0, 0),\n",
       " datetime.datetime(1991, 4, 1, 0, 0),\n",
       " datetime.datetime(1991, 7, 1, 0, 0),\n",
       " datetime.datetime(1992, 6, 1, 0, 0),\n",
       " datetime.datetime(1993, 2, 1, 0, 0),\n",
       " datetime.datetime(1993, 3, 1, 0, 0),\n",
       " datetime.datetime(1993, 11, 1, 0, 0),\n",
       " datetime.datetime(1994, 8, 1, 0, 0),\n",
       " datetime.datetime(1995, 5, 1, 0, 0),\n",
       " datetime.datetime(1996, 1, 1, 0, 0),\n",
       " datetime.datetime(1996, 4, 1, 0, 0),\n",
       " datetime.datetime(1996, 7, 1, 0, 0),\n",
       " datetime.datetime(1997, 9, 1, 0, 0),\n",
       " datetime.datetime(1997, 12, 1, 0, 0),\n",
       " datetime.datetime(1998, 6, 1, 0, 0),\n",
       " datetime.datetime(1999, 2, 1, 0, 0),\n",
       " datetime.datetime(1999, 3, 1, 0, 0),\n",
       " datetime.datetime(1999, 11, 1, 0, 0),\n",
       " datetime.datetime(2000, 5, 1, 0, 0)]"
      ]
     },
     "execution_count": 205,
     "metadata": {},
     "output_type": "execute_result"
    }
   ],
   "source": [
    "result"
   ]
  },
  {
   "cell_type": "code",
   "execution_count": 212,
   "id": "edcf40e9",
   "metadata": {},
   "outputs": [
    {
     "name": "stdout",
     "output_type": "stream",
     "text": [
      "13\n",
      "[2, 3, 5, 7, 11, 13]\n"
     ]
    }
   ],
   "source": [
    "count = 2\n",
    "count_result = []\n",
    "\n",
    "while True:\n",
    "    result = []\n",
    "    for data in range(1, count + 1):\n",
    "        if len(result) >= 3:\n",
    "            break\n",
    "            \n",
    "        if count % data == 0:\n",
    "            result.append(True)\n",
    "            \n",
    "    if len(result) == 2:\n",
    "        count_result.append(count)\n",
    "        if len(count_result) == 6:\n",
    "            break\n",
    "    count += 1\n",
    "\n",
    "print(count_result[len(count_result) - 1])\n",
    "print(count_result)"
   ]
  },
  {
   "cell_type": "code",
   "execution_count": null,
   "id": "656bb35e",
   "metadata": {},
   "outputs": [],
   "source": []
  }
 ],
 "metadata": {
  "kernelspec": {
   "display_name": "Python 3",
   "language": "python",
   "name": "python3"
  },
  "language_info": {
   "codemirror_mode": {
    "name": "ipython",
    "version": 3
   },
   "file_extension": ".py",
   "mimetype": "text/x-python",
   "name": "python",
   "nbconvert_exporter": "python",
   "pygments_lexer": "ipython3",
   "version": "3.8.8"
  }
 },
 "nbformat": 4,
 "nbformat_minor": 5
}
