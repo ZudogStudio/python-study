{
 "cells": [
  {
   "cell_type": "markdown",
   "id": "6447342f",
   "metadata": {},
   "source": [
    "# 1. 순환문\n",
    "\n",
    "특정한 행위(것)를 여러 번 수행하는 문장.  \n",
    "for 와 while"
   ]
  },
  {
   "cell_type": "markdown",
   "id": "c533ed36",
   "metadata": {},
   "source": [
    "### for 문\n",
    "\n",
    "- 반복되는 클래스의 객체를 가져와서 그 내부에 원소를 읽음."
   ]
  },
  {
   "cell_type": "code",
   "execution_count": 4,
   "id": "e381bd8b",
   "metadata": {},
   "outputs": [
    {
     "data": {
      "text/plain": [
       "range(0, 10)"
      ]
     },
     "execution_count": 4,
     "metadata": {},
     "output_type": "execute_result"
    }
   ],
   "source": [
    "range(0, 10)"
   ]
  },
  {
   "cell_type": "code",
   "execution_count": 6,
   "id": "80e5d48c",
   "metadata": {},
   "outputs": [
    {
     "name": "stdout",
     "output_type": "stream",
     "text": [
      "1\n",
      "2\n",
      "3\n",
      "4\n",
      "5\n",
      "6\n",
      "7\n",
      "8\n",
      "9\n"
     ]
    }
   ],
   "source": [
    "for data in range(1, 10):\n",
    "    print(data)"
   ]
  },
  {
   "cell_type": "markdown",
   "id": "5266332d",
   "metadata": {},
   "source": [
    "#### range\n",
    "- 범위 : 첫 인덱스 ~ 마지막 인덱스 - 1"
   ]
  },
  {
   "cell_type": "code",
   "execution_count": 7,
   "id": "d3208c63",
   "metadata": {},
   "outputs": [],
   "source": [
    "a = range(10)"
   ]
  },
  {
   "cell_type": "code",
   "execution_count": 8,
   "id": "23f33292",
   "metadata": {},
   "outputs": [
    {
     "data": {
      "text/plain": [
       "range"
      ]
     },
     "execution_count": 8,
     "metadata": {},
     "output_type": "execute_result"
    }
   ],
   "source": [
    "type(a)"
   ]
  },
  {
   "cell_type": "code",
   "execution_count": 9,
   "id": "6c4122ec",
   "metadata": {},
   "outputs": [
    {
     "data": {
      "text/plain": [
       "range"
      ]
     },
     "execution_count": 9,
     "metadata": {},
     "output_type": "execute_result"
    }
   ],
   "source": [
    "a.__class__"
   ]
  },
  {
   "cell_type": "code",
   "execution_count": 11,
   "id": "dd0d82a6",
   "metadata": {},
   "outputs": [
    {
     "name": "stdout",
     "output_type": "stream",
     "text": [
      "1\n",
      "3\n",
      "7\n",
      "4\n"
     ]
    }
   ],
   "source": [
    "for data in [1,3,7,4]:\n",
    "    print(data)"
   ]
  },
  {
   "cell_type": "code",
   "execution_count": 12,
   "id": "b126d43b",
   "metadata": {},
   "outputs": [
    {
     "name": "stdout",
     "output_type": "stream",
     "text": [
      "a\n",
      "b\n",
      "c\n"
     ]
    }
   ],
   "source": [
    "for data in \"abc\":\n",
    "    print(data)"
   ]
  },
  {
   "cell_type": "code",
   "execution_count": 20,
   "id": "b4d3b270",
   "metadata": {},
   "outputs": [
    {
     "name": "stdout",
     "output_type": "stream",
     "text": [
      "a : 1\n",
      "b : 2\n"
     ]
    }
   ],
   "source": [
    "dict_data = {'a': 1, 'b': 2}\n",
    "for data in dict_data:\n",
    "    print(f\"{data} : { dict_data[data] }\")"
   ]
  },
  {
   "cell_type": "code",
   "execution_count": 21,
   "id": "d99017e7",
   "metadata": {},
   "outputs": [
    {
     "name": "stdout",
     "output_type": "stream",
     "text": [
      "dict_keys(['a', 'b'])\n",
      "a\n",
      "b\n"
     ]
    }
   ],
   "source": [
    "print(dict_data.keys())\n",
    "for data in dict_data.keys():\n",
    "    print(data)"
   ]
  },
  {
   "cell_type": "code",
   "execution_count": 18,
   "id": "52fd03e3",
   "metadata": {},
   "outputs": [
    {
     "name": "stdout",
     "output_type": "stream",
     "text": [
      "1\n",
      "2\n"
     ]
    }
   ],
   "source": [
    "for data in dict_data.values():\n",
    "    print(data)"
   ]
  },
  {
   "cell_type": "code",
   "execution_count": 22,
   "id": "e8d63bb1",
   "metadata": {},
   "outputs": [
    {
     "name": "stdout",
     "output_type": "stream",
     "text": [
      "a 1\n",
      "b 2\n"
     ]
    }
   ],
   "source": [
    "for (k, v) in dict_data.items():\n",
    "    print(k, v)"
   ]
  },
  {
   "cell_type": "code",
   "execution_count": 24,
   "id": "4307b7ff",
   "metadata": {},
   "outputs": [
    {
     "name": "stdout",
     "output_type": "stream",
     "text": [
      "HEIGHT : 165\n"
     ]
    }
   ],
   "source": [
    "print(\"HEIGHT : \" + str(165))"
   ]
  },
  {
   "cell_type": "code",
   "execution_count": 25,
   "id": "d23f4757",
   "metadata": {},
   "outputs": [
    {
     "data": {
      "text/plain": [
       "'HEIGHT : 165'"
      ]
     },
     "execution_count": 25,
     "metadata": {},
     "output_type": "execute_result"
    }
   ],
   "source": [
    "f'HEIGHT : { 165 }'"
   ]
  },
  {
   "cell_type": "markdown",
   "id": "5915f793",
   "metadata": {},
   "source": [
    "#### break"
   ]
  },
  {
   "cell_type": "code",
   "execution_count": 28,
   "id": "68f84b71",
   "metadata": {},
   "outputs": [
    {
     "name": "stdout",
     "output_type": "stream",
     "text": [
      "loop\n"
     ]
    }
   ],
   "source": [
    "for data in range(5):\n",
    "    print(\"loop\")\n",
    "    break"
   ]
  },
  {
   "cell_type": "markdown",
   "id": "46a3c8d0",
   "metadata": {},
   "source": [
    "### continue"
   ]
  },
  {
   "cell_type": "code",
   "execution_count": 31,
   "id": "54d6d6a1",
   "metadata": {},
   "outputs": [
    {
     "name": "stdout",
     "output_type": "stream",
     "text": [
      "1 : loop\n",
      "3 : loop\n",
      "5 : loop\n",
      "7 : loop\n",
      "9 : loop\n"
     ]
    }
   ],
   "source": [
    "for data in range(10):\n",
    "    if data % 2 == 0:\n",
    "        continue\n",
    "    print(f'{ data } : loop')"
   ]
  },
  {
   "cell_type": "code",
   "execution_count": 32,
   "id": "2d9e16b6",
   "metadata": {},
   "outputs": [
    {
     "name": "stdout",
     "output_type": "stream",
     "text": [
      "0\n",
      "1\n",
      "2\n",
      "3\n",
      "4\n",
      "for loop end\n"
     ]
    }
   ],
   "source": [
    "for data in range(5):\n",
    "    print(data)\n",
    "else:\n",
    "    print(\"for loop end\")"
   ]
  },
  {
   "cell_type": "code",
   "execution_count": 35,
   "id": "69997946",
   "metadata": {},
   "outputs": [
    {
     "name": "stdout",
     "output_type": "stream",
     "text": [
      "0\n",
      "1\n",
      "2\n"
     ]
    }
   ],
   "source": [
    "for data in range(5):\n",
    "    if data == 3:\n",
    "        break\n",
    "    print(data)\n",
    "else:\n",
    "    print(\"for loop end\")"
   ]
  },
  {
   "cell_type": "code",
   "execution_count": 36,
   "id": "2f8b943f",
   "metadata": {},
   "outputs": [
    {
     "name": "stdout",
     "output_type": "stream",
     "text": [
      "2단\n",
      "2 X 1 = 2\n",
      "2 X 2 = 4\n",
      "2 X 3 = 6\n",
      "2 X 4 = 8\n",
      "2 X 5 = 10\n",
      "2 X 6 = 12\n",
      "2 X 7 = 14\n",
      "2 X 8 = 16\n",
      "2 X 9 = 18\n",
      "\n",
      "3단\n",
      "3 X 1 = 3\n",
      "3 X 2 = 6\n",
      "3 X 3 = 9\n",
      "3 X 4 = 12\n",
      "3 X 5 = 15\n",
      "3 X 6 = 18\n",
      "3 X 7 = 21\n",
      "3 X 8 = 24\n",
      "3 X 9 = 27\n",
      "\n",
      "4단\n",
      "4 X 1 = 4\n",
      "4 X 2 = 8\n",
      "4 X 3 = 12\n",
      "4 X 4 = 16\n",
      "4 X 5 = 20\n",
      "4 X 6 = 24\n",
      "4 X 7 = 28\n",
      "4 X 8 = 32\n",
      "4 X 9 = 36\n",
      "\n",
      "5단\n",
      "5 X 1 = 5\n",
      "5 X 2 = 10\n",
      "5 X 3 = 15\n",
      "5 X 4 = 20\n",
      "5 X 5 = 25\n",
      "5 X 6 = 30\n",
      "5 X 7 = 35\n",
      "5 X 8 = 40\n",
      "5 X 9 = 45\n",
      "\n",
      "6단\n",
      "6 X 1 = 6\n",
      "6 X 2 = 12\n",
      "6 X 3 = 18\n",
      "6 X 4 = 24\n",
      "6 X 5 = 30\n",
      "6 X 6 = 36\n",
      "6 X 7 = 42\n",
      "6 X 8 = 48\n",
      "6 X 9 = 54\n",
      "\n",
      "7단\n",
      "7 X 1 = 7\n",
      "7 X 2 = 14\n",
      "7 X 3 = 21\n",
      "7 X 4 = 28\n",
      "7 X 5 = 35\n",
      "7 X 6 = 42\n",
      "7 X 7 = 49\n",
      "7 X 8 = 56\n",
      "7 X 9 = 63\n",
      "\n",
      "8단\n",
      "8 X 1 = 8\n",
      "8 X 2 = 16\n",
      "8 X 3 = 24\n",
      "8 X 4 = 32\n",
      "8 X 5 = 40\n",
      "8 X 6 = 48\n",
      "8 X 7 = 56\n",
      "8 X 8 = 64\n",
      "8 X 9 = 72\n",
      "\n",
      "9단\n",
      "9 X 1 = 9\n",
      "9 X 2 = 18\n",
      "9 X 3 = 27\n",
      "9 X 4 = 36\n",
      "9 X 5 = 45\n",
      "9 X 6 = 54\n",
      "9 X 7 = 63\n",
      "9 X 8 = 72\n",
      "9 X 9 = 81\n",
      "\n"
     ]
    }
   ],
   "source": [
    "for first in range(2,10):\n",
    "    print(f'{first}단')\n",
    "    for second in range(1,10):\n",
    "        print(f'{ first } X { second } = { first * second }')\n",
    "    \n",
    "    print()"
   ]
  },
  {
   "cell_type": "markdown",
   "id": "e3ce0be4",
   "metadata": {},
   "source": [
    "#### while문\n",
    "- 특정 조건식이 만족하는 경우에 순환을 처리"
   ]
  },
  {
   "cell_type": "code",
   "execution_count": 44,
   "id": "ea508d1e",
   "metadata": {},
   "outputs": [
    {
     "name": "stdout",
     "output_type": "stream",
     "text": [
      "loop\n",
      "loop\n",
      "loop\n",
      "loop\n",
      "loop\n",
      "loop\n",
      "while else end\n"
     ]
    }
   ],
   "source": [
    "index = 0\n",
    "is_while = True\n",
    "\n",
    "while is_while:\n",
    "    if index >= 5:\n",
    "        is_while = False\n",
    "    print(\"loop\")\n",
    "    index += 1\n",
    "else:\n",
    "    print(\"while else end\")"
   ]
  },
  {
   "cell_type": "code",
   "execution_count": 47,
   "id": "0f0aaa4e",
   "metadata": {},
   "outputs": [
    {
     "name": "stdout",
     "output_type": "stream",
     "text": [
      "2단\n",
      "2 X 1 = 2\n",
      "2 X 2 = 4\n",
      "2 X 3 = 6\n",
      "2 X 4 = 8\n",
      "2 X 5 = 10\n",
      "2 X 6 = 12\n",
      "2 X 7 = 14\n",
      "2 X 8 = 16\n",
      "2 X 9 = 18\n",
      "3단\n",
      "3 X 2 = 6\n",
      "3 X 3 = 9\n",
      "3 X 4 = 12\n",
      "3 X 5 = 15\n",
      "3 X 6 = 18\n",
      "3 X 7 = 21\n",
      "3 X 8 = 24\n",
      "3 X 9 = 27\n",
      "4단\n",
      "4 X 2 = 8\n",
      "4 X 3 = 12\n",
      "4 X 4 = 16\n",
      "4 X 5 = 20\n",
      "4 X 6 = 24\n",
      "4 X 7 = 28\n",
      "4 X 8 = 32\n",
      "4 X 9 = 36\n",
      "5단\n",
      "5 X 2 = 10\n",
      "5 X 3 = 15\n",
      "5 X 4 = 20\n",
      "5 X 5 = 25\n",
      "5 X 6 = 30\n",
      "5 X 7 = 35\n",
      "5 X 8 = 40\n",
      "5 X 9 = 45\n",
      "6단\n",
      "6 X 2 = 12\n",
      "6 X 3 = 18\n",
      "6 X 4 = 24\n",
      "6 X 5 = 30\n",
      "6 X 6 = 36\n",
      "6 X 7 = 42\n",
      "6 X 8 = 48\n",
      "6 X 9 = 54\n",
      "7단\n",
      "7 X 2 = 14\n",
      "7 X 3 = 21\n",
      "7 X 4 = 28\n",
      "7 X 5 = 35\n",
      "7 X 6 = 42\n",
      "7 X 7 = 49\n",
      "7 X 8 = 56\n",
      "7 X 9 = 63\n",
      "8단\n",
      "8 X 2 = 16\n",
      "8 X 3 = 24\n",
      "8 X 4 = 32\n",
      "8 X 5 = 40\n",
      "8 X 6 = 48\n",
      "8 X 7 = 56\n",
      "8 X 8 = 64\n",
      "8 X 9 = 72\n",
      "9단\n",
      "9 X 2 = 18\n",
      "9 X 3 = 27\n",
      "9 X 4 = 36\n",
      "9 X 5 = 45\n",
      "9 X 6 = 54\n",
      "9 X 7 = 63\n",
      "9 X 8 = 72\n",
      "9 X 9 = 81\n"
     ]
    }
   ],
   "source": [
    "first = 2\n",
    "second = 1\n",
    "\n",
    "is_dan = False\n",
    "\n",
    "while True:\n",
    "    if is_dan is False:\n",
    "        print(f'{ first }단')\n",
    "        is_dan = True\n",
    "    \n",
    "    print(f'{ first } X { second } = { first * second }')\n",
    "\n",
    "    if second == 9:\n",
    "        if first == 9:\n",
    "            break\n",
    "        \n",
    "        is_dan = False\n",
    "        second = 1\n",
    "        first += 1\n",
    "        \n",
    "    second += 1\n",
    "    "
   ]
  },
  {
   "cell_type": "markdown",
   "id": "1df5e954",
   "metadata": {},
   "source": [
    "# 2. 제어문\n",
    "\n",
    "keyword : if (elif) else  \n",
    "특정 조건을 판단해서 특정 기능을 처리."
   ]
  },
  {
   "cell_type": "markdown",
   "id": "ac8fe864",
   "metadata": {},
   "source": [
    "### 비교 연산자\n",
    "  \n",
    "== ( equal ), <, >, >=, <="
   ]
  },
  {
   "cell_type": "code",
   "execution_count": 48,
   "id": "af738416",
   "metadata": {},
   "outputs": [
    {
     "data": {
      "text/plain": [
       "True"
      ]
     },
     "execution_count": 48,
     "metadata": {},
     "output_type": "execute_result"
    }
   ],
   "source": [
    "100 == 100"
   ]
  },
  {
   "cell_type": "code",
   "execution_count": 49,
   "id": "6deaf299",
   "metadata": {},
   "outputs": [
    {
     "data": {
      "text/plain": [
       "False"
      ]
     },
     "execution_count": 49,
     "metadata": {},
     "output_type": "execute_result"
    }
   ],
   "source": [
    "100 < 99"
   ]
  },
  {
   "cell_type": "markdown",
   "id": "d39fe2ac",
   "metadata": {},
   "source": [
    "### 논리 연산자\n",
    "\n",
    "and, or"
   ]
  },
  {
   "cell_type": "code",
   "execution_count": 50,
   "id": "6c32dd46",
   "metadata": {},
   "outputs": [
    {
     "data": {
      "text/plain": [
       "True"
      ]
     },
     "execution_count": 50,
     "metadata": {},
     "output_type": "execute_result"
    }
   ],
   "source": [
    "(100 == 100) and (100 > 99)"
   ]
  },
  {
   "cell_type": "code",
   "execution_count": 51,
   "id": "7919b4ab",
   "metadata": {},
   "outputs": [
    {
     "data": {
      "text/plain": [
       "False"
      ]
     },
     "execution_count": 51,
     "metadata": {},
     "output_type": "execute_result"
    }
   ],
   "source": [
    "(100 == 100) and (100 < 99)"
   ]
  },
  {
   "cell_type": "code",
   "execution_count": 52,
   "id": "1a52d336",
   "metadata": {},
   "outputs": [
    {
     "data": {
      "text/plain": [
       "True"
      ]
     },
     "execution_count": 52,
     "metadata": {},
     "output_type": "execute_result"
    }
   ],
   "source": [
    "(100 == 100) or (100 > 99)"
   ]
  },
  {
   "cell_type": "code",
   "execution_count": 54,
   "id": "496fb601",
   "metadata": {},
   "outputs": [
    {
     "data": {
      "text/plain": [
       "True"
      ]
     },
     "execution_count": 54,
     "metadata": {},
     "output_type": "execute_result"
    }
   ],
   "source": [
    "(100 == 100) or (100 < 99)"
   ]
  },
  {
   "cell_type": "markdown",
   "id": "a9565c5b",
   "metadata": {},
   "source": [
    "### 단순 조건문 if"
   ]
  },
  {
   "cell_type": "code",
   "execution_count": 55,
   "id": "f9f1d59d",
   "metadata": {},
   "outputs": [],
   "source": [
    "import random"
   ]
  },
  {
   "cell_type": "code",
   "execution_count": 59,
   "id": "d72a4e46",
   "metadata": {},
   "outputs": [
    {
     "name": "stdout",
     "output_type": "stream",
     "text": [
      "6 over\n",
      "9\n"
     ]
    }
   ],
   "source": [
    "random_value = random.randint(0, 10)\n",
    "\n",
    "if random_value < 3:\n",
    "    print(\"3 under\")\n",
    "elif random_value < 6:\n",
    "    print(\"6 under\")\n",
    "else:\n",
    "    print(\"6 over\")\n",
    "    \n",
    "print(random_value)"
   ]
  },
  {
   "cell_type": "markdown",
   "id": "e325bc6c",
   "metadata": {},
   "source": [
    "### 삼항연산자"
   ]
  },
  {
   "cell_type": "code",
   "execution_count": 60,
   "id": "f2f9123a",
   "metadata": {},
   "outputs": [
    {
     "name": "stdout",
     "output_type": "stream",
     "text": [
      "5 under\n",
      "3\n"
     ]
    }
   ],
   "source": [
    "random_value = random.randint(0, 10)\n",
    "\n",
    "print(\"5 over\") if random_value > 5 else print(\"5 under\")\n",
    "print(random_value)"
   ]
  },
  {
   "cell_type": "code",
   "execution_count": 61,
   "id": "41fb369c",
   "metadata": {},
   "outputs": [
    {
     "name": "stdout",
     "output_type": "stream",
     "text": [
      "값을 입력하세요.1\n"
     ]
    },
    {
     "data": {
      "text/plain": [
       "'1'"
      ]
     },
     "execution_count": 61,
     "metadata": {},
     "output_type": "execute_result"
    }
   ],
   "source": [
    "input(\"값을 입력하세요.\")"
   ]
  },
  {
   "cell_type": "code",
   "execution_count": 62,
   "id": "515320e8",
   "metadata": {},
   "outputs": [],
   "source": [
    "import random"
   ]
  },
  {
   "cell_type": "code",
   "execution_count": 63,
   "id": "86645d4c",
   "metadata": {},
   "outputs": [],
   "source": []
  },
  {
   "cell_type": "code",
   "execution_count": 68,
   "id": "ee0941a1",
   "metadata": {},
   "outputs": [],
   "source": [
    "def game_20():\n",
    "    random_value = random.randint(0,50)\n",
    "    \n",
    "    for index in range(20):\n",
    "        input_value = int(input('정답을 입력해주세요.'))\n",
    "\n",
    "        if input_value == random_value:\n",
    "            print(\"정답입니다!\")\n",
    "            break\n",
    "        elif input_value < random_value:\n",
    "            print(\"작습니다.\")\n",
    "        else:\n",
    "            print(\"큽니다.\")\n",
    "    else:\n",
    "        print(\"스무고개 게임이 종료됐습니다.\")"
   ]
  },
  {
   "cell_type": "code",
   "execution_count": 67,
   "id": "b2747506",
   "metadata": {},
   "outputs": [
    {
     "name": "stdout",
     "output_type": "stream",
     "text": [
      "정답을 입력해주세요.6\n",
      "정답입니다!\n"
     ]
    }
   ],
   "source": [
    "game_20()"
   ]
  },
  {
   "cell_type": "code",
   "execution_count": 70,
   "id": "399ec297",
   "metadata": {},
   "outputs": [],
   "source": [
    "import keyword"
   ]
  },
  {
   "cell_type": "code",
   "execution_count": 71,
   "id": "e0bf23b8",
   "metadata": {},
   "outputs": [
    {
     "name": "stdout",
     "output_type": "stream",
     "text": [
      "['False', 'None', 'True', 'and', 'as', 'assert', 'async', 'await', 'break', 'class', 'continue', 'def', 'del', 'elif', 'else', 'except', 'finally', 'for', 'from', 'global', 'if', 'import', 'in', 'is', 'lambda', 'nonlocal', 'not', 'or', 'pass', 'raise', 'return', 'try', 'while', 'with', 'yield']\n"
     ]
    }
   ],
   "source": [
    "print(keyword.kwlist)"
   ]
  },
  {
   "cell_type": "code",
   "execution_count": 80,
   "id": "a0139ff6",
   "metadata": {},
   "outputs": [],
   "source": [
    "dict_value = {\n",
    "    '1': \"1을 눌렀습니다.\",\n",
    "    '2': \"2을 눌렀습니다.\",\n",
    "    '3': game_20,\n",
    "}"
   ]
  },
  {
   "cell_type": "code",
   "execution_count": 81,
   "id": "cc54bc8c",
   "metadata": {},
   "outputs": [
    {
     "name": "stdout",
     "output_type": "stream",
     "text": [
      "정답을 입력해주세요.8\n",
      "작습니다.\n",
      "정답을 입력해주세요.10\n",
      "작습니다.\n",
      "정답을 입력해주세요.20\n",
      "작습니다.\n",
      "정답을 입력해주세요.50\n",
      "큽니다.\n",
      "정답을 입력해주세요.40\n",
      "큽니다.\n",
      "정답을 입력해주세요.30\n",
      "큽니다.\n",
      "정답을 입력해주세요.25\n",
      "큽니다.\n",
      "정답을 입력해주세요.24\n",
      "정답입니다!\n"
     ]
    }
   ],
   "source": [
    "if '3' in dict_value:\n",
    "    dict_value['3']()"
   ]
  },
  {
   "cell_type": "markdown",
   "id": "f272307a",
   "metadata": {},
   "source": [
    "# 3. 예외문\n",
    "  \n",
    "keyword : try except  \n",
    "모든 코드는 실행 중에 에러나 예외가 발생하는 상황 존재.  \n",
    "특정 코드를 처리하게끔 해주는 것."
   ]
  },
  {
   "cell_type": "code",
   "execution_count": 93,
   "id": "e236eb14",
   "metadata": {},
   "outputs": [
    {
     "name": "stdout",
     "output_type": "stream",
     "text": [
      "False\n",
      "try\n",
      "Exception\n",
      "<class 'TypeError'>\n",
      "can only concatenate str (not \"int\") to str\n",
      "Finally\n",
      "Send Email for warning\n"
     ]
    }
   ],
   "source": [
    "import sys\n",
    "\n",
    "is_try = False\n",
    "print(is_try)\n",
    "\n",
    "try:\n",
    "    print(\"try\")\n",
    "    print('str' + 1)\n",
    "except Exception as e:\n",
    "    print(\"Exception\")\n",
    "    is_try = True\n",
    "    print(sys.exc_info()[0])\n",
    "    print(e)\n",
    "finally:\n",
    "    print(\"Finally\")\n",
    "    if is_try == True:\n",
    "        print(\"Send Email for warning\")"
   ]
  },
  {
   "cell_type": "code",
   "execution_count": 86,
   "id": "3c47cede",
   "metadata": {},
   "outputs": [
    {
     "ename": "TypeError",
     "evalue": "can only concatenate str (not \"int\") to str",
     "output_type": "error",
     "traceback": [
      "\u001b[0;31m---------------------------------------------------------------------------\u001b[0m",
      "\u001b[0;31mTypeError\u001b[0m                                 Traceback (most recent call last)",
      "\u001b[0;32m<ipython-input-86-580f576c2d54>\u001b[0m in \u001b[0;36m<module>\u001b[0;34m\u001b[0m\n\u001b[0;32m----> 1\u001b[0;31m \u001b[0mprint\u001b[0m\u001b[0;34m(\u001b[0m\u001b[0;34m'str'\u001b[0m \u001b[0;34m+\u001b[0m \u001b[0;36m1\u001b[0m\u001b[0;34m)\u001b[0m\u001b[0;34m\u001b[0m\u001b[0;34m\u001b[0m\u001b[0m\n\u001b[0m",
      "\u001b[0;31mTypeError\u001b[0m: can only concatenate str (not \"int\") to str"
     ]
    }
   ],
   "source": [
    "print('str' + 1)"
   ]
  },
  {
   "cell_type": "code",
   "execution_count": 116,
   "id": "62cc003a",
   "metadata": {},
   "outputs": [],
   "source": [
    "a = [1,2,3,4]"
   ]
  },
  {
   "cell_type": "code",
   "execution_count": 117,
   "id": "b46846af",
   "metadata": {},
   "outputs": [
    {
     "data": {
      "text/plain": [
       "[1, 2, 3, 4]"
      ]
     },
     "execution_count": 117,
     "metadata": {},
     "output_type": "execute_result"
    }
   ],
   "source": [
    "a"
   ]
  },
  {
   "cell_type": "code",
   "execution_count": 118,
   "id": "da587883",
   "metadata": {},
   "outputs": [],
   "source": [
    "b = a"
   ]
  },
  {
   "cell_type": "code",
   "execution_count": 119,
   "id": "e8e249c1",
   "metadata": {},
   "outputs": [
    {
     "data": {
      "text/plain": [
       "[1, 2, 3, 4]"
      ]
     },
     "execution_count": 119,
     "metadata": {},
     "output_type": "execute_result"
    }
   ],
   "source": [
    "b"
   ]
  },
  {
   "cell_type": "code",
   "execution_count": 120,
   "id": "3f4ca134",
   "metadata": {},
   "outputs": [
    {
     "data": {
      "text/plain": [
       "(140450035534336, 140450035534336)"
      ]
     },
     "execution_count": 120,
     "metadata": {},
     "output_type": "execute_result"
    }
   ],
   "source": [
    "id(a), id(b)"
   ]
  },
  {
   "cell_type": "code",
   "execution_count": 121,
   "id": "d684d76b",
   "metadata": {},
   "outputs": [
    {
     "data": {
      "text/plain": [
       "True"
      ]
     },
     "execution_count": 121,
     "metadata": {},
     "output_type": "execute_result"
    }
   ],
   "source": [
    "id(a)==id(b)"
   ]
  },
  {
   "cell_type": "code",
   "execution_count": 122,
   "id": "80c22fe6",
   "metadata": {},
   "outputs": [],
   "source": [
    "b[0] = 100"
   ]
  },
  {
   "cell_type": "code",
   "execution_count": 123,
   "id": "9bb218eb",
   "metadata": {},
   "outputs": [
    {
     "data": {
      "text/plain": [
       "[100, 2, 3, 4]"
      ]
     },
     "execution_count": 123,
     "metadata": {},
     "output_type": "execute_result"
    }
   ],
   "source": [
    "b"
   ]
  },
  {
   "cell_type": "code",
   "execution_count": 124,
   "id": "62702252",
   "metadata": {},
   "outputs": [
    {
     "data": {
      "text/plain": [
       "[100, 2, 3, 4]"
      ]
     },
     "execution_count": 124,
     "metadata": {},
     "output_type": "execute_result"
    }
   ],
   "source": [
    "a"
   ]
  },
  {
   "cell_type": "code",
   "execution_count": 126,
   "id": "fc403524",
   "metadata": {},
   "outputs": [],
   "source": [
    "import copy"
   ]
  },
  {
   "cell_type": "code",
   "execution_count": 127,
   "id": "a207fd11",
   "metadata": {},
   "outputs": [],
   "source": [
    "a = [1,2,3,4]"
   ]
  },
  {
   "cell_type": "code",
   "execution_count": 128,
   "id": "de3ff6bc",
   "metadata": {},
   "outputs": [
    {
     "data": {
      "text/plain": [
       "[1, 2, 3, 4]"
      ]
     },
     "execution_count": 128,
     "metadata": {},
     "output_type": "execute_result"
    }
   ],
   "source": [
    "a"
   ]
  },
  {
   "cell_type": "code",
   "execution_count": 129,
   "id": "372484d6",
   "metadata": {},
   "outputs": [],
   "source": [
    "b = copy.deepcopy(a)"
   ]
  },
  {
   "cell_type": "code",
   "execution_count": 130,
   "id": "db012de2",
   "metadata": {},
   "outputs": [
    {
     "data": {
      "text/plain": [
       "[1, 2, 3, 4]"
      ]
     },
     "execution_count": 130,
     "metadata": {},
     "output_type": "execute_result"
    }
   ],
   "source": [
    "b"
   ]
  },
  {
   "cell_type": "code",
   "execution_count": 131,
   "id": "28725c1f",
   "metadata": {},
   "outputs": [
    {
     "data": {
      "text/plain": [
       "(140450038997696, 140450045452608)"
      ]
     },
     "execution_count": 131,
     "metadata": {},
     "output_type": "execute_result"
    }
   ],
   "source": [
    "id(a), id(b)"
   ]
  },
  {
   "cell_type": "code",
   "execution_count": 132,
   "id": "add87139",
   "metadata": {},
   "outputs": [],
   "source": [
    "b[0] = 99"
   ]
  },
  {
   "cell_type": "code",
   "execution_count": 133,
   "id": "00a89d79",
   "metadata": {},
   "outputs": [
    {
     "data": {
      "text/plain": [
       "[99, 2, 3, 4]"
      ]
     },
     "execution_count": 133,
     "metadata": {},
     "output_type": "execute_result"
    }
   ],
   "source": [
    "b"
   ]
  },
  {
   "cell_type": "code",
   "execution_count": 134,
   "id": "561f7974",
   "metadata": {},
   "outputs": [
    {
     "data": {
      "text/plain": [
       "[1, 2, 3, 4]"
      ]
     },
     "execution_count": 134,
     "metadata": {},
     "output_type": "execute_result"
    }
   ],
   "source": [
    "a"
   ]
  },
  {
   "cell_type": "code",
   "execution_count": 135,
   "id": "74a1cce4",
   "metadata": {},
   "outputs": [],
   "source": [
    "copy = 100"
   ]
  },
  {
   "cell_type": "code",
   "execution_count": 136,
   "id": "5b1d9fdd",
   "metadata": {},
   "outputs": [
    {
     "ename": "AttributeError",
     "evalue": "'int' object has no attribute 'deepcopy'",
     "output_type": "error",
     "traceback": [
      "\u001b[0;31m---------------------------------------------------------------------------\u001b[0m",
      "\u001b[0;31mAttributeError\u001b[0m                            Traceback (most recent call last)",
      "\u001b[0;32m<ipython-input-136-186cd1e59b0f>\u001b[0m in \u001b[0;36m<module>\u001b[0;34m\u001b[0m\n\u001b[0;32m----> 1\u001b[0;31m \u001b[0mcopy\u001b[0m\u001b[0;34m.\u001b[0m\u001b[0mdeepcopy\u001b[0m\u001b[0;34m\u001b[0m\u001b[0;34m\u001b[0m\u001b[0m\n\u001b[0m",
      "\u001b[0;31mAttributeError\u001b[0m: 'int' object has no attribute 'deepcopy'"
     ]
    }
   ],
   "source": [
    "copy.deepcopy"
   ]
  },
  {
   "cell_type": "code",
   "execution_count": 137,
   "id": "6277434f",
   "metadata": {},
   "outputs": [
    {
     "data": {
      "text/plain": [
       "100"
      ]
     },
     "execution_count": 137,
     "metadata": {},
     "output_type": "execute_result"
    }
   ],
   "source": [
    "copy"
   ]
  },
  {
   "cell_type": "code",
   "execution_count": 138,
   "id": "909ca440",
   "metadata": {},
   "outputs": [],
   "source": [
    "import copy"
   ]
  },
  {
   "cell_type": "code",
   "execution_count": 139,
   "id": "d251e99e",
   "metadata": {},
   "outputs": [
    {
     "data": {
      "text/plain": [
       "<module 'copy' from '/Users/goblockb/opt/anaconda3/lib/python3.8/copy.py'>"
      ]
     },
     "execution_count": 139,
     "metadata": {},
     "output_type": "execute_result"
    }
   ],
   "source": [
    "copy"
   ]
  },
  {
   "cell_type": "code",
   "execution_count": 140,
   "id": "9cc5458c",
   "metadata": {},
   "outputs": [],
   "source": [
    "from datetime import *"
   ]
  },
  {
   "cell_type": "code",
   "execution_count": 145,
   "id": "cb296796",
   "metadata": {},
   "outputs": [],
   "source": [
    "def datetime():\n",
    "    return 5"
   ]
  },
  {
   "cell_type": "code",
   "execution_count": 146,
   "id": "8e3c5c8a",
   "metadata": {},
   "outputs": [
    {
     "data": {
      "text/plain": [
       "5"
      ]
     },
     "execution_count": 146,
     "metadata": {},
     "output_type": "execute_result"
    }
   ],
   "source": [
    "datetime()"
   ]
  },
  {
   "cell_type": "code",
   "execution_count": 149,
   "id": "b0025512",
   "metadata": {},
   "outputs": [
    {
     "data": {
      "text/plain": [
       "function"
      ]
     },
     "execution_count": 149,
     "metadata": {},
     "output_type": "execute_result"
    }
   ],
   "source": [
    "datetime.__class__"
   ]
  },
  {
   "cell_type": "code",
   "execution_count": 150,
   "id": "c63995b2",
   "metadata": {},
   "outputs": [],
   "source": [
    "from datetime import datetime"
   ]
  },
  {
   "cell_type": "code",
   "execution_count": 151,
   "id": "a8d0be13",
   "metadata": {},
   "outputs": [
    {
     "data": {
      "text/plain": [
       "type"
      ]
     },
     "execution_count": 151,
     "metadata": {},
     "output_type": "execute_result"
    }
   ],
   "source": [
    "datetime.__class__"
   ]
  },
  {
   "cell_type": "markdown",
   "id": "9d992880",
   "metadata": {},
   "source": [
    ">세 자연수 a, b, c 가 피타고라스 정리 a2 + b2 = c2 를 만족하면 피타고라스 수라고 부릅니다 (여기서 a < b < c ).\n",
    "예를 들면 32 + 42 = 9 + 16 = 25 = 52이므로 3, 4, 5는 피타고라스 수입니다.\n",
    "a + b + c = 1000 인 피타고라스 수 a, b, c는 한 가지 뿐입니다. 이 때, a × b × c 는 얼마입니까?"
   ]
  },
  {
   "cell_type": "code",
   "execution_count": 167,
   "id": "083aa64c",
   "metadata": {},
   "outputs": [
    {
     "name": "stdout",
     "output_type": "stream",
     "text": [
      "200 375 425\n"
     ]
    }
   ],
   "source": [
    "a = 1\n",
    "b = 2\n",
    "c = 3\n",
    "\n",
    "for a_value in range(a, 500):\n",
    "    for b_value in range(b, 500):\n",
    "        if b_value < a_value:\n",
    "            continue\n",
    "            \n",
    "        for c_value in range(c, 500):\n",
    "            if c_value < b_value:\n",
    "                continue\n",
    "\n",
    "            if a_value + b_value + c_value == 1000:\n",
    "                if (a_value**2 + b_value**2) == c_value**2:\n",
    "                    print(a_value, b_value, c_value)\n",
    "                    break"
   ]
  },
  {
   "cell_type": "code",
   "execution_count": 165,
   "id": "ecd5c005",
   "metadata": {},
   "outputs": [
    {
     "data": {
      "text/plain": [
       "True"
      ]
     },
     "execution_count": 165,
     "metadata": {},
     "output_type": "execute_result"
    }
   ],
   "source": [
    "200**2 + 375**2 == 425**2"
   ]
  },
  {
   "cell_type": "code",
   "execution_count": 168,
   "id": "d499f9ce",
   "metadata": {},
   "outputs": [
    {
     "data": {
      "text/plain": [
       "31875000"
      ]
     },
     "execution_count": 168,
     "metadata": {},
     "output_type": "execute_result"
    }
   ],
   "source": [
    "200 * 375 * 425"
   ]
  },
  {
   "cell_type": "code",
   "execution_count": null,
   "id": "06acc0f3",
   "metadata": {},
   "outputs": [],
   "source": []
  }
 ],
 "metadata": {
  "kernelspec": {
   "display_name": "Python 3",
   "language": "python",
   "name": "python3"
  },
  "language_info": {
   "codemirror_mode": {
    "name": "ipython",
    "version": 3
   },
   "file_extension": ".py",
   "mimetype": "text/x-python",
   "name": "python",
   "nbconvert_exporter": "python",
   "pygments_lexer": "ipython3",
   "version": "3.8.8"
  }
 },
 "nbformat": 4,
 "nbformat_minor": 5
}
