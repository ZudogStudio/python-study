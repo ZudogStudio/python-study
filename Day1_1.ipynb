{
 "cells": [
  {
   "cell_type": "markdown",
   "id": "f612f1e0",
   "metadata": {},
   "source": [
    "#### Python Version 확인하기\n",
    "\n",
    "- 명령어 콘솔 이용 ( ! )"
   ]
  },
  {
   "cell_type": "code",
   "execution_count": null,
   "id": "5a87f271",
   "metadata": {},
   "outputs": [],
   "source": [
    "!python --version"
   ]
  },
  {
   "cell_type": "code",
   "execution_count": null,
   "id": "4804770e",
   "metadata": {},
   "outputs": [],
   "source": [
    "import sys"
   ]
  },
  {
   "cell_type": "code",
   "execution_count": null,
   "id": "3236e351",
   "metadata": {},
   "outputs": [],
   "source": [
    "print(sys.version)"
   ]
  },
  {
   "cell_type": "markdown",
   "id": "cf7891fc",
   "metadata": {},
   "source": [
    "# Day-1-1\n",
    "## 대구\n",
    "### IT교육원\n",
    "#### 강사 : 문성혁"
   ]
  },
  {
   "cell_type": "markdown",
   "id": "828101a4",
   "metadata": {},
   "source": [
    "- Anaconda 설치\n",
    "- Jupyter Notebook 사용법"
   ]
  },
  {
   "cell_type": "code",
   "execution_count": null,
   "id": "5459ebef",
   "metadata": {},
   "outputs": [],
   "source": [
    "%%writefile helloworld.py\n",
    "\n",
    "print(\"Hello World!\")"
   ]
  },
  {
   "cell_type": "code",
   "execution_count": null,
   "id": "d0813182",
   "metadata": {},
   "outputs": [],
   "source": [
    "import helloworld"
   ]
  },
  {
   "cell_type": "code",
   "execution_count": null,
   "id": "b665e54d",
   "metadata": {},
   "outputs": [],
   "source": [
    "%ls"
   ]
  },
  {
   "cell_type": "code",
   "execution_count": null,
   "id": "4cc441a0",
   "metadata": {},
   "outputs": [],
   "source": [
    "!ls"
   ]
  },
  {
   "cell_type": "code",
   "execution_count": null,
   "id": "4b8b38ec",
   "metadata": {},
   "outputs": [],
   "source": [
    "!python helloworld.py"
   ]
  },
  {
   "cell_type": "code",
   "execution_count": null,
   "id": "faa69100",
   "metadata": {},
   "outputs": [],
   "source": [
    "%run helloworld.py"
   ]
  },
  {
   "cell_type": "code",
   "execution_count": null,
   "id": "658bf384",
   "metadata": {},
   "outputs": [],
   "source": [
    "import keyword"
   ]
  },
  {
   "cell_type": "code",
   "execution_count": null,
   "id": "ac0ec3e5",
   "metadata": {},
   "outputs": [],
   "source": [
    "dir(keyword)"
   ]
  },
  {
   "cell_type": "code",
   "execution_count": null,
   "id": "b0c985c2",
   "metadata": {},
   "outputs": [],
   "source": [
    "print(keyword.kwlist)"
   ]
  },
  {
   "cell_type": "code",
   "execution_count": null,
   "id": "1cf8b144",
   "metadata": {},
   "outputs": [],
   "source": [
    "len(keyword.kwlist)"
   ]
  },
  {
   "cell_type": "code",
   "execution_count": null,
   "id": "3f576eaf",
   "metadata": {},
   "outputs": [],
   "source": [
    "if = 100"
   ]
  },
  {
   "cell_type": "code",
   "execution_count": null,
   "id": "522f50dd",
   "metadata": {},
   "outputs": [],
   "source": [
    "type_ = 100"
   ]
  },
  {
   "cell_type": "code",
   "execution_count": null,
   "id": "4b04e93c",
   "metadata": {},
   "outputs": [],
   "source": [
    "a = 100"
   ]
  },
  {
   "cell_type": "code",
   "execution_count": null,
   "id": "5c00949c",
   "metadata": {},
   "outputs": [],
   "source": [
    "type"
   ]
  },
  {
   "cell_type": "code",
   "execution_count": null,
   "id": "5cd75954",
   "metadata": {},
   "outputs": [],
   "source": [
    "a"
   ]
  },
  {
   "cell_type": "markdown",
   "id": "e1f40133",
   "metadata": {},
   "source": [
    "#### 테스트\n",
    "\n",
    "1. 모듈이 뭔지\n",
    "\n",
    ">첫 번째 문장  \n",
    "두 번째 문장\n",
    "\n",
    "\n",
    "+ ㅁㅁ\n",
    "    + ㅁㄴㅇㄹ"
   ]
  },
  {
   "cell_type": "code",
   "execution_count": 1,
   "id": "cb26d0f1",
   "metadata": {
    "scrolled": true
   },
   "outputs": [
    {
     "data": {
      "text/plain": [
       "100"
      ]
     },
     "execution_count": 1,
     "metadata": {},
     "output_type": "execute_result"
    }
   ],
   "source": [
    "100"
   ]
  },
  {
   "cell_type": "markdown",
   "id": "d5837d24",
   "metadata": {},
   "source": [
    "#### type\n",
    "\n",
    "- 객체"
   ]
  },
  {
   "cell_type": "code",
   "execution_count": 14,
   "id": "83215e50",
   "metadata": {},
   "outputs": [
    {
     "data": {
      "text/plain": [
       "int"
      ]
     },
     "execution_count": 14,
     "metadata": {},
     "output_type": "execute_result"
    }
   ],
   "source": [
    "type(100)"
   ]
  },
  {
   "cell_type": "code",
   "execution_count": 15,
   "id": "060f7370",
   "metadata": {},
   "outputs": [
    {
     "data": {
      "text/plain": [
       "True"
      ]
     },
     "execution_count": 15,
     "metadata": {},
     "output_type": "execute_result"
    }
   ],
   "source": [
    "isinstance(100, int)"
   ]
  },
  {
   "cell_type": "code",
   "execution_count": 36,
   "id": "767bf0c1",
   "metadata": {},
   "outputs": [],
   "source": [
    "a = 100"
   ]
  },
  {
   "cell_type": "code",
   "execution_count": 40,
   "id": "5ed0a2b0",
   "metadata": {},
   "outputs": [],
   "source": [
    "a = '200'"
   ]
  },
  {
   "cell_type": "code",
   "execution_count": 41,
   "id": "0de1deb3",
   "metadata": {},
   "outputs": [
    {
     "data": {
      "text/plain": [
       "'200'"
      ]
     },
     "execution_count": 41,
     "metadata": {},
     "output_type": "execute_result"
    }
   ],
   "source": [
    "a"
   ]
  },
  {
   "cell_type": "code",
   "execution_count": 42,
   "id": "6865a05e",
   "metadata": {},
   "outputs": [
    {
     "data": {
      "text/plain": [
       "str"
      ]
     },
     "execution_count": 42,
     "metadata": {},
     "output_type": "execute_result"
    }
   ],
   "source": [
    "type(a)"
   ]
  },
  {
   "cell_type": "code",
   "execution_count": 43,
   "id": "bc845067",
   "metadata": {},
   "outputs": [
    {
     "name": "stdout",
     "output_type": "stream",
     "text": [
      "2\n",
      "0\n",
      "0\n"
     ]
    }
   ],
   "source": [
    "for b in a:\n",
    "    print(b)"
   ]
  },
  {
   "cell_type": "code",
   "execution_count": 9,
   "id": "fa58e2a4",
   "metadata": {},
   "outputs": [],
   "source": [
    "a = 100; b = 200; c = a+b"
   ]
  },
  {
   "cell_type": "code",
   "execution_count": 10,
   "id": "c93262d1",
   "metadata": {},
   "outputs": [
    {
     "data": {
      "text/plain": [
       "(100, 200, 300)"
      ]
     },
     "execution_count": 10,
     "metadata": {},
     "output_type": "execute_result"
    }
   ],
   "source": [
    "a, b, c"
   ]
  },
  {
   "cell_type": "code",
   "execution_count": 44,
   "id": "c74de95c",
   "metadata": {},
   "outputs": [
    {
     "data": {
      "text/plain": [
       "{'__name__': '__main__',\n",
       " '__doc__': 'Automatically created module for IPython interactive environment',\n",
       " '__package__': None,\n",
       " '__loader__': None,\n",
       " '__spec__': None,\n",
       " '__builtin__': <module 'builtins' (built-in)>,\n",
       " '__builtins__': <module 'builtins' (built-in)>,\n",
       " '_ih': ['',\n",
       "  '100',\n",
       "  'type(100)',\n",
       "  'isinstance(100, int)',\n",
       "  'isinstance(100, float)',\n",
       "  'isinstance(100, bool)',\n",
       "  'a: int = 100',\n",
       "  'a',\n",
       "  'type(a)',\n",
       "  'a = 100; b = 200; c = a+b',\n",
       "  'a, b, c',\n",
       "  'type(type)',\n",
       "  'dir(type)',\n",
       "  'type.__dict__',\n",
       "  'type(100)',\n",
       "  'isinstance(100, int)',\n",
       "  'a = 100',\n",
       "  'a',\n",
       "  'type(a)',\n",
       "  'a:int = 100',\n",
       "  \"a:int = '100'\",\n",
       "  'a',\n",
       "  'type(a)',\n",
       "  \"a = '100'\",\n",
       "  'a',\n",
       "  'type(a)',\n",
       "  'a = 100',\n",
       "  'a',\n",
       "  'type(a)',\n",
       "  'a = 200',\n",
       "  'a',\n",
       "  'type(a)',\n",
       "  \"a = '200'\",\n",
       "  'a',\n",
       "  'type(a)',\n",
       "  'for b in a:\\n    print(b)',\n",
       "  'a = 100',\n",
       "  'type(a)',\n",
       "  'a',\n",
       "  'for b in a:\\n    print(b)',\n",
       "  \"a = '200'\",\n",
       "  'a',\n",
       "  'type(a)',\n",
       "  'for b in a:\\n    print(b)',\n",
       "  'globals()'],\n",
       " '_oh': {1: 100,\n",
       "  2: int,\n",
       "  3: True,\n",
       "  4: False,\n",
       "  5: False,\n",
       "  7: 100,\n",
       "  8: int,\n",
       "  10: (100, 200, 300),\n",
       "  11: type,\n",
       "  12: ['__abstractmethods__',\n",
       "   '__base__',\n",
       "   '__bases__',\n",
       "   '__basicsize__',\n",
       "   '__call__',\n",
       "   '__class__',\n",
       "   '__delattr__',\n",
       "   '__dict__',\n",
       "   '__dictoffset__',\n",
       "   '__dir__',\n",
       "   '__doc__',\n",
       "   '__eq__',\n",
       "   '__flags__',\n",
       "   '__format__',\n",
       "   '__ge__',\n",
       "   '__getattribute__',\n",
       "   '__gt__',\n",
       "   '__hash__',\n",
       "   '__init__',\n",
       "   '__init_subclass__',\n",
       "   '__instancecheck__',\n",
       "   '__itemsize__',\n",
       "   '__le__',\n",
       "   '__lt__',\n",
       "   '__module__',\n",
       "   '__mro__',\n",
       "   '__name__',\n",
       "   '__ne__',\n",
       "   '__new__',\n",
       "   '__prepare__',\n",
       "   '__qualname__',\n",
       "   '__reduce__',\n",
       "   '__reduce_ex__',\n",
       "   '__repr__',\n",
       "   '__setattr__',\n",
       "   '__sizeof__',\n",
       "   '__str__',\n",
       "   '__subclasscheck__',\n",
       "   '__subclasses__',\n",
       "   '__subclasshook__',\n",
       "   '__text_signature__',\n",
       "   '__weakrefoffset__',\n",
       "   'mro'],\n",
       "  13: mappingproxy({'__repr__': <slot wrapper '__repr__' of 'type' objects>,\n",
       "                '__call__': <slot wrapper '__call__' of 'type' objects>,\n",
       "                '__getattribute__': <slot wrapper '__getattribute__' of 'type' objects>,\n",
       "                '__setattr__': <slot wrapper '__setattr__' of 'type' objects>,\n",
       "                '__delattr__': <slot wrapper '__delattr__' of 'type' objects>,\n",
       "                '__init__': <slot wrapper '__init__' of 'type' objects>,\n",
       "                '__new__': <function type.__new__(*args, **kwargs)>,\n",
       "                'mro': <method 'mro' of 'type' objects>,\n",
       "                '__subclasses__': <method '__subclasses__' of 'type' objects>,\n",
       "                '__prepare__': <method '__prepare__' of 'type' objects>,\n",
       "                '__instancecheck__': <method '__instancecheck__' of 'type' objects>,\n",
       "                '__subclasscheck__': <method '__subclasscheck__' of 'type' objects>,\n",
       "                '__dir__': <method '__dir__' of 'type' objects>,\n",
       "                '__sizeof__': <method '__sizeof__' of 'type' objects>,\n",
       "                '__basicsize__': <member '__basicsize__' of 'type' objects>,\n",
       "                '__itemsize__': <member '__itemsize__' of 'type' objects>,\n",
       "                '__flags__': <member '__flags__' of 'type' objects>,\n",
       "                '__weakrefoffset__': <member '__weakrefoffset__' of 'type' objects>,\n",
       "                '__base__': <member '__base__' of 'type' objects>,\n",
       "                '__dictoffset__': <member '__dictoffset__' of 'type' objects>,\n",
       "                '__mro__': <member '__mro__' of 'type' objects>,\n",
       "                '__name__': <attribute '__name__' of 'type' objects>,\n",
       "                '__qualname__': <attribute '__qualname__' of 'type' objects>,\n",
       "                '__bases__': <attribute '__bases__' of 'type' objects>,\n",
       "                '__module__': <attribute '__module__' of 'type' objects>,\n",
       "                '__abstractmethods__': <attribute '__abstractmethods__' of 'type' objects>,\n",
       "                '__dict__': <attribute '__dict__' of 'type' objects>,\n",
       "                '__doc__': <attribute '__doc__' of 'type' objects>,\n",
       "                '__text_signature__': <attribute '__text_signature__' of 'type' objects>}),\n",
       "  14: int,\n",
       "  15: True,\n",
       "  17: 100,\n",
       "  18: int,\n",
       "  21: '100',\n",
       "  22: str,\n",
       "  24: '100',\n",
       "  25: str,\n",
       "  27: 100,\n",
       "  28: int,\n",
       "  30: 200,\n",
       "  31: int,\n",
       "  33: '200',\n",
       "  34: str,\n",
       "  37: int,\n",
       "  38: 100,\n",
       "  41: '200',\n",
       "  42: str},\n",
       " '_dh': ['/Users/goblockb/Desktop/Python'],\n",
       " 'In': ['',\n",
       "  '100',\n",
       "  'type(100)',\n",
       "  'isinstance(100, int)',\n",
       "  'isinstance(100, float)',\n",
       "  'isinstance(100, bool)',\n",
       "  'a: int = 100',\n",
       "  'a',\n",
       "  'type(a)',\n",
       "  'a = 100; b = 200; c = a+b',\n",
       "  'a, b, c',\n",
       "  'type(type)',\n",
       "  'dir(type)',\n",
       "  'type.__dict__',\n",
       "  'type(100)',\n",
       "  'isinstance(100, int)',\n",
       "  'a = 100',\n",
       "  'a',\n",
       "  'type(a)',\n",
       "  'a:int = 100',\n",
       "  \"a:int = '100'\",\n",
       "  'a',\n",
       "  'type(a)',\n",
       "  \"a = '100'\",\n",
       "  'a',\n",
       "  'type(a)',\n",
       "  'a = 100',\n",
       "  'a',\n",
       "  'type(a)',\n",
       "  'a = 200',\n",
       "  'a',\n",
       "  'type(a)',\n",
       "  \"a = '200'\",\n",
       "  'a',\n",
       "  'type(a)',\n",
       "  'for b in a:\\n    print(b)',\n",
       "  'a = 100',\n",
       "  'type(a)',\n",
       "  'a',\n",
       "  'for b in a:\\n    print(b)',\n",
       "  \"a = '200'\",\n",
       "  'a',\n",
       "  'type(a)',\n",
       "  'for b in a:\\n    print(b)',\n",
       "  'globals()'],\n",
       " 'Out': {1: 100,\n",
       "  2: int,\n",
       "  3: True,\n",
       "  4: False,\n",
       "  5: False,\n",
       "  7: 100,\n",
       "  8: int,\n",
       "  10: (100, 200, 300),\n",
       "  11: type,\n",
       "  12: ['__abstractmethods__',\n",
       "   '__base__',\n",
       "   '__bases__',\n",
       "   '__basicsize__',\n",
       "   '__call__',\n",
       "   '__class__',\n",
       "   '__delattr__',\n",
       "   '__dict__',\n",
       "   '__dictoffset__',\n",
       "   '__dir__',\n",
       "   '__doc__',\n",
       "   '__eq__',\n",
       "   '__flags__',\n",
       "   '__format__',\n",
       "   '__ge__',\n",
       "   '__getattribute__',\n",
       "   '__gt__',\n",
       "   '__hash__',\n",
       "   '__init__',\n",
       "   '__init_subclass__',\n",
       "   '__instancecheck__',\n",
       "   '__itemsize__',\n",
       "   '__le__',\n",
       "   '__lt__',\n",
       "   '__module__',\n",
       "   '__mro__',\n",
       "   '__name__',\n",
       "   '__ne__',\n",
       "   '__new__',\n",
       "   '__prepare__',\n",
       "   '__qualname__',\n",
       "   '__reduce__',\n",
       "   '__reduce_ex__',\n",
       "   '__repr__',\n",
       "   '__setattr__',\n",
       "   '__sizeof__',\n",
       "   '__str__',\n",
       "   '__subclasscheck__',\n",
       "   '__subclasses__',\n",
       "   '__subclasshook__',\n",
       "   '__text_signature__',\n",
       "   '__weakrefoffset__',\n",
       "   'mro'],\n",
       "  13: mappingproxy({'__repr__': <slot wrapper '__repr__' of 'type' objects>,\n",
       "                '__call__': <slot wrapper '__call__' of 'type' objects>,\n",
       "                '__getattribute__': <slot wrapper '__getattribute__' of 'type' objects>,\n",
       "                '__setattr__': <slot wrapper '__setattr__' of 'type' objects>,\n",
       "                '__delattr__': <slot wrapper '__delattr__' of 'type' objects>,\n",
       "                '__init__': <slot wrapper '__init__' of 'type' objects>,\n",
       "                '__new__': <function type.__new__(*args, **kwargs)>,\n",
       "                'mro': <method 'mro' of 'type' objects>,\n",
       "                '__subclasses__': <method '__subclasses__' of 'type' objects>,\n",
       "                '__prepare__': <method '__prepare__' of 'type' objects>,\n",
       "                '__instancecheck__': <method '__instancecheck__' of 'type' objects>,\n",
       "                '__subclasscheck__': <method '__subclasscheck__' of 'type' objects>,\n",
       "                '__dir__': <method '__dir__' of 'type' objects>,\n",
       "                '__sizeof__': <method '__sizeof__' of 'type' objects>,\n",
       "                '__basicsize__': <member '__basicsize__' of 'type' objects>,\n",
       "                '__itemsize__': <member '__itemsize__' of 'type' objects>,\n",
       "                '__flags__': <member '__flags__' of 'type' objects>,\n",
       "                '__weakrefoffset__': <member '__weakrefoffset__' of 'type' objects>,\n",
       "                '__base__': <member '__base__' of 'type' objects>,\n",
       "                '__dictoffset__': <member '__dictoffset__' of 'type' objects>,\n",
       "                '__mro__': <member '__mro__' of 'type' objects>,\n",
       "                '__name__': <attribute '__name__' of 'type' objects>,\n",
       "                '__qualname__': <attribute '__qualname__' of 'type' objects>,\n",
       "                '__bases__': <attribute '__bases__' of 'type' objects>,\n",
       "                '__module__': <attribute '__module__' of 'type' objects>,\n",
       "                '__abstractmethods__': <attribute '__abstractmethods__' of 'type' objects>,\n",
       "                '__dict__': <attribute '__dict__' of 'type' objects>,\n",
       "                '__doc__': <attribute '__doc__' of 'type' objects>,\n",
       "                '__text_signature__': <attribute '__text_signature__' of 'type' objects>}),\n",
       "  14: int,\n",
       "  15: True,\n",
       "  17: 100,\n",
       "  18: int,\n",
       "  21: '100',\n",
       "  22: str,\n",
       "  24: '100',\n",
       "  25: str,\n",
       "  27: 100,\n",
       "  28: int,\n",
       "  30: 200,\n",
       "  31: int,\n",
       "  33: '200',\n",
       "  34: str,\n",
       "  37: int,\n",
       "  38: 100,\n",
       "  41: '200',\n",
       "  42: str},\n",
       " 'get_ipython': <bound method InteractiveShell.get_ipython of <ipykernel.zmqshell.ZMQInteractiveShell object at 0x7ffab298c5b0>>,\n",
       " 'exit': <IPython.core.autocall.ZMQExitAutocall at 0x7ffab29f3e20>,\n",
       " 'quit': <IPython.core.autocall.ZMQExitAutocall at 0x7ffab29f3e20>,\n",
       " '_': str,\n",
       " '__': '200',\n",
       " '___': 100,\n",
       " '_i': 'for b in a:\\n    print(b)',\n",
       " '_ii': 'type(a)',\n",
       " '_iii': 'a',\n",
       " '_i1': '100',\n",
       " '_1': 100,\n",
       " '_i2': 'type(100)',\n",
       " '_2': int,\n",
       " '_i3': 'isinstance(100, int)',\n",
       " '_3': True,\n",
       " '_i4': 'isinstance(100, float)',\n",
       " '_4': False,\n",
       " '_i5': 'isinstance(100, bool)',\n",
       " '_5': False,\n",
       " '_i6': 'a: int = 100',\n",
       " '__annotations__': {'a': int},\n",
       " 'a': '200',\n",
       " '_i7': 'a',\n",
       " '_7': 100,\n",
       " '_i8': 'type(a)',\n",
       " '_8': int,\n",
       " '_i9': 'a = 100; b = 200; c = a+b',\n",
       " 'b': '0',\n",
       " 'c': 300,\n",
       " '_i10': 'a, b, c',\n",
       " '_10': (100, 200, 300),\n",
       " '_i11': 'type(type)',\n",
       " '_11': type,\n",
       " '_i12': 'dir(type)',\n",
       " '_12': ['__abstractmethods__',\n",
       "  '__base__',\n",
       "  '__bases__',\n",
       "  '__basicsize__',\n",
       "  '__call__',\n",
       "  '__class__',\n",
       "  '__delattr__',\n",
       "  '__dict__',\n",
       "  '__dictoffset__',\n",
       "  '__dir__',\n",
       "  '__doc__',\n",
       "  '__eq__',\n",
       "  '__flags__',\n",
       "  '__format__',\n",
       "  '__ge__',\n",
       "  '__getattribute__',\n",
       "  '__gt__',\n",
       "  '__hash__',\n",
       "  '__init__',\n",
       "  '__init_subclass__',\n",
       "  '__instancecheck__',\n",
       "  '__itemsize__',\n",
       "  '__le__',\n",
       "  '__lt__',\n",
       "  '__module__',\n",
       "  '__mro__',\n",
       "  '__name__',\n",
       "  '__ne__',\n",
       "  '__new__',\n",
       "  '__prepare__',\n",
       "  '__qualname__',\n",
       "  '__reduce__',\n",
       "  '__reduce_ex__',\n",
       "  '__repr__',\n",
       "  '__setattr__',\n",
       "  '__sizeof__',\n",
       "  '__str__',\n",
       "  '__subclasscheck__',\n",
       "  '__subclasses__',\n",
       "  '__subclasshook__',\n",
       "  '__text_signature__',\n",
       "  '__weakrefoffset__',\n",
       "  'mro'],\n",
       " '_i13': 'type.__dict__',\n",
       " '_13': mappingproxy({'__repr__': <slot wrapper '__repr__' of 'type' objects>,\n",
       "               '__call__': <slot wrapper '__call__' of 'type' objects>,\n",
       "               '__getattribute__': <slot wrapper '__getattribute__' of 'type' objects>,\n",
       "               '__setattr__': <slot wrapper '__setattr__' of 'type' objects>,\n",
       "               '__delattr__': <slot wrapper '__delattr__' of 'type' objects>,\n",
       "               '__init__': <slot wrapper '__init__' of 'type' objects>,\n",
       "               '__new__': <function type.__new__(*args, **kwargs)>,\n",
       "               'mro': <method 'mro' of 'type' objects>,\n",
       "               '__subclasses__': <method '__subclasses__' of 'type' objects>,\n",
       "               '__prepare__': <method '__prepare__' of 'type' objects>,\n",
       "               '__instancecheck__': <method '__instancecheck__' of 'type' objects>,\n",
       "               '__subclasscheck__': <method '__subclasscheck__' of 'type' objects>,\n",
       "               '__dir__': <method '__dir__' of 'type' objects>,\n",
       "               '__sizeof__': <method '__sizeof__' of 'type' objects>,\n",
       "               '__basicsize__': <member '__basicsize__' of 'type' objects>,\n",
       "               '__itemsize__': <member '__itemsize__' of 'type' objects>,\n",
       "               '__flags__': <member '__flags__' of 'type' objects>,\n",
       "               '__weakrefoffset__': <member '__weakrefoffset__' of 'type' objects>,\n",
       "               '__base__': <member '__base__' of 'type' objects>,\n",
       "               '__dictoffset__': <member '__dictoffset__' of 'type' objects>,\n",
       "               '__mro__': <member '__mro__' of 'type' objects>,\n",
       "               '__name__': <attribute '__name__' of 'type' objects>,\n",
       "               '__qualname__': <attribute '__qualname__' of 'type' objects>,\n",
       "               '__bases__': <attribute '__bases__' of 'type' objects>,\n",
       "               '__module__': <attribute '__module__' of 'type' objects>,\n",
       "               '__abstractmethods__': <attribute '__abstractmethods__' of 'type' objects>,\n",
       "               '__dict__': <attribute '__dict__' of 'type' objects>,\n",
       "               '__doc__': <attribute '__doc__' of 'type' objects>,\n",
       "               '__text_signature__': <attribute '__text_signature__' of 'type' objects>}),\n",
       " '_i14': 'type(100)',\n",
       " '_14': int,\n",
       " '_i15': 'isinstance(100, int)',\n",
       " '_15': True,\n",
       " '_i16': 'a = 100',\n",
       " '_i17': 'a',\n",
       " '_17': 100,\n",
       " '_i18': 'type(a)',\n",
       " '_18': int,\n",
       " '_i19': 'a:int = 100',\n",
       " '_i20': \"a:int = '100'\",\n",
       " '_i21': 'a',\n",
       " '_21': '100',\n",
       " '_i22': 'type(a)',\n",
       " '_22': str,\n",
       " '_i23': \"a = '100'\",\n",
       " '_i24': 'a',\n",
       " '_24': '100',\n",
       " '_i25': 'type(a)',\n",
       " '_25': str,\n",
       " '_i26': 'a = 100',\n",
       " '_i27': 'a',\n",
       " '_27': 100,\n",
       " '_i28': 'type(a)',\n",
       " '_28': int,\n",
       " '_i29': 'a = 200',\n",
       " '_i30': 'a',\n",
       " '_30': 200,\n",
       " '_i31': 'type(a)',\n",
       " '_31': int,\n",
       " '_i32': \"a = '200'\",\n",
       " '_i33': 'a',\n",
       " '_33': '200',\n",
       " '_i34': 'type(a)',\n",
       " '_34': str,\n",
       " '_i35': 'for b in a:\\n    print(b)',\n",
       " '_i36': 'a = 100',\n",
       " '_i37': 'type(a)',\n",
       " '_37': int,\n",
       " '_i38': 'a',\n",
       " '_38': 100,\n",
       " '_i39': 'for b in a:\\n    print(b)',\n",
       " '_i40': \"a = '200'\",\n",
       " '_i41': 'a',\n",
       " '_41': '200',\n",
       " '_i42': 'type(a)',\n",
       " '_42': str,\n",
       " '_i43': 'for b in a:\\n    print(b)',\n",
       " '_i44': 'globals()'}"
      ]
     },
     "execution_count": 44,
     "metadata": {},
     "output_type": "execute_result"
    }
   ],
   "source": [
    "globals()"
   ]
  },
  {
   "cell_type": "code",
   "execution_count": 45,
   "id": "eda090cb",
   "metadata": {},
   "outputs": [
    {
     "data": {
      "text/plain": [
       "{'__name__': '__main__',\n",
       " '__doc__': 'Automatically created module for IPython interactive environment',\n",
       " '__package__': None,\n",
       " '__loader__': None,\n",
       " '__spec__': None,\n",
       " '__builtin__': <module 'builtins' (built-in)>,\n",
       " '__builtins__': <module 'builtins' (built-in)>,\n",
       " '_ih': ['',\n",
       "  '100',\n",
       "  'type(100)',\n",
       "  'isinstance(100, int)',\n",
       "  'isinstance(100, float)',\n",
       "  'isinstance(100, bool)',\n",
       "  'a: int = 100',\n",
       "  'a',\n",
       "  'type(a)',\n",
       "  'a = 100; b = 200; c = a+b',\n",
       "  'a, b, c',\n",
       "  'type(type)',\n",
       "  'dir(type)',\n",
       "  'type.__dict__',\n",
       "  'type(100)',\n",
       "  'isinstance(100, int)',\n",
       "  'a = 100',\n",
       "  'a',\n",
       "  'type(a)',\n",
       "  'a:int = 100',\n",
       "  \"a:int = '100'\",\n",
       "  'a',\n",
       "  'type(a)',\n",
       "  \"a = '100'\",\n",
       "  'a',\n",
       "  'type(a)',\n",
       "  'a = 100',\n",
       "  'a',\n",
       "  'type(a)',\n",
       "  'a = 200',\n",
       "  'a',\n",
       "  'type(a)',\n",
       "  \"a = '200'\",\n",
       "  'a',\n",
       "  'type(a)',\n",
       "  'for b in a:\\n    print(b)',\n",
       "  'a = 100',\n",
       "  'type(a)',\n",
       "  'a',\n",
       "  'for b in a:\\n    print(b)',\n",
       "  \"a = '200'\",\n",
       "  'a',\n",
       "  'type(a)',\n",
       "  'for b in a:\\n    print(b)',\n",
       "  'globals()',\n",
       "  'locals()'],\n",
       " '_oh': {1: 100,\n",
       "  2: int,\n",
       "  3: True,\n",
       "  4: False,\n",
       "  5: False,\n",
       "  7: 100,\n",
       "  8: int,\n",
       "  10: (100, 200, 300),\n",
       "  11: type,\n",
       "  12: ['__abstractmethods__',\n",
       "   '__base__',\n",
       "   '__bases__',\n",
       "   '__basicsize__',\n",
       "   '__call__',\n",
       "   '__class__',\n",
       "   '__delattr__',\n",
       "   '__dict__',\n",
       "   '__dictoffset__',\n",
       "   '__dir__',\n",
       "   '__doc__',\n",
       "   '__eq__',\n",
       "   '__flags__',\n",
       "   '__format__',\n",
       "   '__ge__',\n",
       "   '__getattribute__',\n",
       "   '__gt__',\n",
       "   '__hash__',\n",
       "   '__init__',\n",
       "   '__init_subclass__',\n",
       "   '__instancecheck__',\n",
       "   '__itemsize__',\n",
       "   '__le__',\n",
       "   '__lt__',\n",
       "   '__module__',\n",
       "   '__mro__',\n",
       "   '__name__',\n",
       "   '__ne__',\n",
       "   '__new__',\n",
       "   '__prepare__',\n",
       "   '__qualname__',\n",
       "   '__reduce__',\n",
       "   '__reduce_ex__',\n",
       "   '__repr__',\n",
       "   '__setattr__',\n",
       "   '__sizeof__',\n",
       "   '__str__',\n",
       "   '__subclasscheck__',\n",
       "   '__subclasses__',\n",
       "   '__subclasshook__',\n",
       "   '__text_signature__',\n",
       "   '__weakrefoffset__',\n",
       "   'mro'],\n",
       "  13: mappingproxy({'__repr__': <slot wrapper '__repr__' of 'type' objects>,\n",
       "                '__call__': <slot wrapper '__call__' of 'type' objects>,\n",
       "                '__getattribute__': <slot wrapper '__getattribute__' of 'type' objects>,\n",
       "                '__setattr__': <slot wrapper '__setattr__' of 'type' objects>,\n",
       "                '__delattr__': <slot wrapper '__delattr__' of 'type' objects>,\n",
       "                '__init__': <slot wrapper '__init__' of 'type' objects>,\n",
       "                '__new__': <function type.__new__(*args, **kwargs)>,\n",
       "                'mro': <method 'mro' of 'type' objects>,\n",
       "                '__subclasses__': <method '__subclasses__' of 'type' objects>,\n",
       "                '__prepare__': <method '__prepare__' of 'type' objects>,\n",
       "                '__instancecheck__': <method '__instancecheck__' of 'type' objects>,\n",
       "                '__subclasscheck__': <method '__subclasscheck__' of 'type' objects>,\n",
       "                '__dir__': <method '__dir__' of 'type' objects>,\n",
       "                '__sizeof__': <method '__sizeof__' of 'type' objects>,\n",
       "                '__basicsize__': <member '__basicsize__' of 'type' objects>,\n",
       "                '__itemsize__': <member '__itemsize__' of 'type' objects>,\n",
       "                '__flags__': <member '__flags__' of 'type' objects>,\n",
       "                '__weakrefoffset__': <member '__weakrefoffset__' of 'type' objects>,\n",
       "                '__base__': <member '__base__' of 'type' objects>,\n",
       "                '__dictoffset__': <member '__dictoffset__' of 'type' objects>,\n",
       "                '__mro__': <member '__mro__' of 'type' objects>,\n",
       "                '__name__': <attribute '__name__' of 'type' objects>,\n",
       "                '__qualname__': <attribute '__qualname__' of 'type' objects>,\n",
       "                '__bases__': <attribute '__bases__' of 'type' objects>,\n",
       "                '__module__': <attribute '__module__' of 'type' objects>,\n",
       "                '__abstractmethods__': <attribute '__abstractmethods__' of 'type' objects>,\n",
       "                '__dict__': <attribute '__dict__' of 'type' objects>,\n",
       "                '__doc__': <attribute '__doc__' of 'type' objects>,\n",
       "                '__text_signature__': <attribute '__text_signature__' of 'type' objects>}),\n",
       "  14: int,\n",
       "  15: True,\n",
       "  17: 100,\n",
       "  18: int,\n",
       "  21: '100',\n",
       "  22: str,\n",
       "  24: '100',\n",
       "  25: str,\n",
       "  27: 100,\n",
       "  28: int,\n",
       "  30: 200,\n",
       "  31: int,\n",
       "  33: '200',\n",
       "  34: str,\n",
       "  37: int,\n",
       "  38: 100,\n",
       "  41: '200',\n",
       "  42: str,\n",
       "  44: {...}},\n",
       " '_dh': ['/Users/goblockb/Desktop/Python'],\n",
       " 'In': ['',\n",
       "  '100',\n",
       "  'type(100)',\n",
       "  'isinstance(100, int)',\n",
       "  'isinstance(100, float)',\n",
       "  'isinstance(100, bool)',\n",
       "  'a: int = 100',\n",
       "  'a',\n",
       "  'type(a)',\n",
       "  'a = 100; b = 200; c = a+b',\n",
       "  'a, b, c',\n",
       "  'type(type)',\n",
       "  'dir(type)',\n",
       "  'type.__dict__',\n",
       "  'type(100)',\n",
       "  'isinstance(100, int)',\n",
       "  'a = 100',\n",
       "  'a',\n",
       "  'type(a)',\n",
       "  'a:int = 100',\n",
       "  \"a:int = '100'\",\n",
       "  'a',\n",
       "  'type(a)',\n",
       "  \"a = '100'\",\n",
       "  'a',\n",
       "  'type(a)',\n",
       "  'a = 100',\n",
       "  'a',\n",
       "  'type(a)',\n",
       "  'a = 200',\n",
       "  'a',\n",
       "  'type(a)',\n",
       "  \"a = '200'\",\n",
       "  'a',\n",
       "  'type(a)',\n",
       "  'for b in a:\\n    print(b)',\n",
       "  'a = 100',\n",
       "  'type(a)',\n",
       "  'a',\n",
       "  'for b in a:\\n    print(b)',\n",
       "  \"a = '200'\",\n",
       "  'a',\n",
       "  'type(a)',\n",
       "  'for b in a:\\n    print(b)',\n",
       "  'globals()',\n",
       "  'locals()'],\n",
       " 'Out': {1: 100,\n",
       "  2: int,\n",
       "  3: True,\n",
       "  4: False,\n",
       "  5: False,\n",
       "  7: 100,\n",
       "  8: int,\n",
       "  10: (100, 200, 300),\n",
       "  11: type,\n",
       "  12: ['__abstractmethods__',\n",
       "   '__base__',\n",
       "   '__bases__',\n",
       "   '__basicsize__',\n",
       "   '__call__',\n",
       "   '__class__',\n",
       "   '__delattr__',\n",
       "   '__dict__',\n",
       "   '__dictoffset__',\n",
       "   '__dir__',\n",
       "   '__doc__',\n",
       "   '__eq__',\n",
       "   '__flags__',\n",
       "   '__format__',\n",
       "   '__ge__',\n",
       "   '__getattribute__',\n",
       "   '__gt__',\n",
       "   '__hash__',\n",
       "   '__init__',\n",
       "   '__init_subclass__',\n",
       "   '__instancecheck__',\n",
       "   '__itemsize__',\n",
       "   '__le__',\n",
       "   '__lt__',\n",
       "   '__module__',\n",
       "   '__mro__',\n",
       "   '__name__',\n",
       "   '__ne__',\n",
       "   '__new__',\n",
       "   '__prepare__',\n",
       "   '__qualname__',\n",
       "   '__reduce__',\n",
       "   '__reduce_ex__',\n",
       "   '__repr__',\n",
       "   '__setattr__',\n",
       "   '__sizeof__',\n",
       "   '__str__',\n",
       "   '__subclasscheck__',\n",
       "   '__subclasses__',\n",
       "   '__subclasshook__',\n",
       "   '__text_signature__',\n",
       "   '__weakrefoffset__',\n",
       "   'mro'],\n",
       "  13: mappingproxy({'__repr__': <slot wrapper '__repr__' of 'type' objects>,\n",
       "                '__call__': <slot wrapper '__call__' of 'type' objects>,\n",
       "                '__getattribute__': <slot wrapper '__getattribute__' of 'type' objects>,\n",
       "                '__setattr__': <slot wrapper '__setattr__' of 'type' objects>,\n",
       "                '__delattr__': <slot wrapper '__delattr__' of 'type' objects>,\n",
       "                '__init__': <slot wrapper '__init__' of 'type' objects>,\n",
       "                '__new__': <function type.__new__(*args, **kwargs)>,\n",
       "                'mro': <method 'mro' of 'type' objects>,\n",
       "                '__subclasses__': <method '__subclasses__' of 'type' objects>,\n",
       "                '__prepare__': <method '__prepare__' of 'type' objects>,\n",
       "                '__instancecheck__': <method '__instancecheck__' of 'type' objects>,\n",
       "                '__subclasscheck__': <method '__subclasscheck__' of 'type' objects>,\n",
       "                '__dir__': <method '__dir__' of 'type' objects>,\n",
       "                '__sizeof__': <method '__sizeof__' of 'type' objects>,\n",
       "                '__basicsize__': <member '__basicsize__' of 'type' objects>,\n",
       "                '__itemsize__': <member '__itemsize__' of 'type' objects>,\n",
       "                '__flags__': <member '__flags__' of 'type' objects>,\n",
       "                '__weakrefoffset__': <member '__weakrefoffset__' of 'type' objects>,\n",
       "                '__base__': <member '__base__' of 'type' objects>,\n",
       "                '__dictoffset__': <member '__dictoffset__' of 'type' objects>,\n",
       "                '__mro__': <member '__mro__' of 'type' objects>,\n",
       "                '__name__': <attribute '__name__' of 'type' objects>,\n",
       "                '__qualname__': <attribute '__qualname__' of 'type' objects>,\n",
       "                '__bases__': <attribute '__bases__' of 'type' objects>,\n",
       "                '__module__': <attribute '__module__' of 'type' objects>,\n",
       "                '__abstractmethods__': <attribute '__abstractmethods__' of 'type' objects>,\n",
       "                '__dict__': <attribute '__dict__' of 'type' objects>,\n",
       "                '__doc__': <attribute '__doc__' of 'type' objects>,\n",
       "                '__text_signature__': <attribute '__text_signature__' of 'type' objects>}),\n",
       "  14: int,\n",
       "  15: True,\n",
       "  17: 100,\n",
       "  18: int,\n",
       "  21: '100',\n",
       "  22: str,\n",
       "  24: '100',\n",
       "  25: str,\n",
       "  27: 100,\n",
       "  28: int,\n",
       "  30: 200,\n",
       "  31: int,\n",
       "  33: '200',\n",
       "  34: str,\n",
       "  37: int,\n",
       "  38: 100,\n",
       "  41: '200',\n",
       "  42: str,\n",
       "  44: {...}},\n",
       " 'get_ipython': <bound method InteractiveShell.get_ipython of <ipykernel.zmqshell.ZMQInteractiveShell object at 0x7ffab298c5b0>>,\n",
       " 'exit': <IPython.core.autocall.ZMQExitAutocall at 0x7ffab29f3e20>,\n",
       " 'quit': <IPython.core.autocall.ZMQExitAutocall at 0x7ffab29f3e20>,\n",
       " '_': {...},\n",
       " '__': str,\n",
       " '___': '200',\n",
       " '_i': 'globals()',\n",
       " '_ii': 'for b in a:\\n    print(b)',\n",
       " '_iii': 'type(a)',\n",
       " '_i1': '100',\n",
       " '_1': 100,\n",
       " '_i2': 'type(100)',\n",
       " '_2': int,\n",
       " '_i3': 'isinstance(100, int)',\n",
       " '_3': True,\n",
       " '_i4': 'isinstance(100, float)',\n",
       " '_4': False,\n",
       " '_i5': 'isinstance(100, bool)',\n",
       " '_5': False,\n",
       " '_i6': 'a: int = 100',\n",
       " '__annotations__': {'a': int},\n",
       " 'a': '200',\n",
       " '_i7': 'a',\n",
       " '_7': 100,\n",
       " '_i8': 'type(a)',\n",
       " '_8': int,\n",
       " '_i9': 'a = 100; b = 200; c = a+b',\n",
       " 'b': '0',\n",
       " 'c': 300,\n",
       " '_i10': 'a, b, c',\n",
       " '_10': (100, 200, 300),\n",
       " '_i11': 'type(type)',\n",
       " '_11': type,\n",
       " '_i12': 'dir(type)',\n",
       " '_12': ['__abstractmethods__',\n",
       "  '__base__',\n",
       "  '__bases__',\n",
       "  '__basicsize__',\n",
       "  '__call__',\n",
       "  '__class__',\n",
       "  '__delattr__',\n",
       "  '__dict__',\n",
       "  '__dictoffset__',\n",
       "  '__dir__',\n",
       "  '__doc__',\n",
       "  '__eq__',\n",
       "  '__flags__',\n",
       "  '__format__',\n",
       "  '__ge__',\n",
       "  '__getattribute__',\n",
       "  '__gt__',\n",
       "  '__hash__',\n",
       "  '__init__',\n",
       "  '__init_subclass__',\n",
       "  '__instancecheck__',\n",
       "  '__itemsize__',\n",
       "  '__le__',\n",
       "  '__lt__',\n",
       "  '__module__',\n",
       "  '__mro__',\n",
       "  '__name__',\n",
       "  '__ne__',\n",
       "  '__new__',\n",
       "  '__prepare__',\n",
       "  '__qualname__',\n",
       "  '__reduce__',\n",
       "  '__reduce_ex__',\n",
       "  '__repr__',\n",
       "  '__setattr__',\n",
       "  '__sizeof__',\n",
       "  '__str__',\n",
       "  '__subclasscheck__',\n",
       "  '__subclasses__',\n",
       "  '__subclasshook__',\n",
       "  '__text_signature__',\n",
       "  '__weakrefoffset__',\n",
       "  'mro'],\n",
       " '_i13': 'type.__dict__',\n",
       " '_13': mappingproxy({'__repr__': <slot wrapper '__repr__' of 'type' objects>,\n",
       "               '__call__': <slot wrapper '__call__' of 'type' objects>,\n",
       "               '__getattribute__': <slot wrapper '__getattribute__' of 'type' objects>,\n",
       "               '__setattr__': <slot wrapper '__setattr__' of 'type' objects>,\n",
       "               '__delattr__': <slot wrapper '__delattr__' of 'type' objects>,\n",
       "               '__init__': <slot wrapper '__init__' of 'type' objects>,\n",
       "               '__new__': <function type.__new__(*args, **kwargs)>,\n",
       "               'mro': <method 'mro' of 'type' objects>,\n",
       "               '__subclasses__': <method '__subclasses__' of 'type' objects>,\n",
       "               '__prepare__': <method '__prepare__' of 'type' objects>,\n",
       "               '__instancecheck__': <method '__instancecheck__' of 'type' objects>,\n",
       "               '__subclasscheck__': <method '__subclasscheck__' of 'type' objects>,\n",
       "               '__dir__': <method '__dir__' of 'type' objects>,\n",
       "               '__sizeof__': <method '__sizeof__' of 'type' objects>,\n",
       "               '__basicsize__': <member '__basicsize__' of 'type' objects>,\n",
       "               '__itemsize__': <member '__itemsize__' of 'type' objects>,\n",
       "               '__flags__': <member '__flags__' of 'type' objects>,\n",
       "               '__weakrefoffset__': <member '__weakrefoffset__' of 'type' objects>,\n",
       "               '__base__': <member '__base__' of 'type' objects>,\n",
       "               '__dictoffset__': <member '__dictoffset__' of 'type' objects>,\n",
       "               '__mro__': <member '__mro__' of 'type' objects>,\n",
       "               '__name__': <attribute '__name__' of 'type' objects>,\n",
       "               '__qualname__': <attribute '__qualname__' of 'type' objects>,\n",
       "               '__bases__': <attribute '__bases__' of 'type' objects>,\n",
       "               '__module__': <attribute '__module__' of 'type' objects>,\n",
       "               '__abstractmethods__': <attribute '__abstractmethods__' of 'type' objects>,\n",
       "               '__dict__': <attribute '__dict__' of 'type' objects>,\n",
       "               '__doc__': <attribute '__doc__' of 'type' objects>,\n",
       "               '__text_signature__': <attribute '__text_signature__' of 'type' objects>}),\n",
       " '_i14': 'type(100)',\n",
       " '_14': int,\n",
       " '_i15': 'isinstance(100, int)',\n",
       " '_15': True,\n",
       " '_i16': 'a = 100',\n",
       " '_i17': 'a',\n",
       " '_17': 100,\n",
       " '_i18': 'type(a)',\n",
       " '_18': int,\n",
       " '_i19': 'a:int = 100',\n",
       " '_i20': \"a:int = '100'\",\n",
       " '_i21': 'a',\n",
       " '_21': '100',\n",
       " '_i22': 'type(a)',\n",
       " '_22': str,\n",
       " '_i23': \"a = '100'\",\n",
       " '_i24': 'a',\n",
       " '_24': '100',\n",
       " '_i25': 'type(a)',\n",
       " '_25': str,\n",
       " '_i26': 'a = 100',\n",
       " '_i27': 'a',\n",
       " '_27': 100,\n",
       " '_i28': 'type(a)',\n",
       " '_28': int,\n",
       " '_i29': 'a = 200',\n",
       " '_i30': 'a',\n",
       " '_30': 200,\n",
       " '_i31': 'type(a)',\n",
       " '_31': int,\n",
       " '_i32': \"a = '200'\",\n",
       " '_i33': 'a',\n",
       " '_33': '200',\n",
       " '_i34': 'type(a)',\n",
       " '_34': str,\n",
       " '_i35': 'for b in a:\\n    print(b)',\n",
       " '_i36': 'a = 100',\n",
       " '_i37': 'type(a)',\n",
       " '_37': int,\n",
       " '_i38': 'a',\n",
       " '_38': 100,\n",
       " '_i39': 'for b in a:\\n    print(b)',\n",
       " '_i40': \"a = '200'\",\n",
       " '_i41': 'a',\n",
       " '_41': '200',\n",
       " '_i42': 'type(a)',\n",
       " '_42': str,\n",
       " '_i43': 'for b in a:\\n    print(b)',\n",
       " '_i44': 'globals()',\n",
       " '_44': {...},\n",
       " '_i45': 'locals()'}"
      ]
     },
     "execution_count": 45,
     "metadata": {},
     "output_type": "execute_result"
    }
   ],
   "source": [
    "locals()"
   ]
  },
  {
   "cell_type": "code",
   "execution_count": 46,
   "id": "8834b0d8",
   "metadata": {},
   "outputs": [],
   "source": [
    "a = {\n",
    "    'a': 100,\n",
    "    'b': '200'\n",
    "}"
   ]
  },
  {
   "cell_type": "code",
   "execution_count": 47,
   "id": "3853eb22",
   "metadata": {},
   "outputs": [
    {
     "data": {
      "text/plain": [
       "{'a': 100, 'b': '200'}"
      ]
     },
     "execution_count": 47,
     "metadata": {},
     "output_type": "execute_result"
    }
   ],
   "source": [
    "a"
   ]
  },
  {
   "cell_type": "code",
   "execution_count": 48,
   "id": "0aa38cdb",
   "metadata": {},
   "outputs": [
    {
     "data": {
      "text/plain": [
       "100"
      ]
     },
     "execution_count": 48,
     "metadata": {},
     "output_type": "execute_result"
    }
   ],
   "source": [
    "a['a']"
   ]
  },
  {
   "cell_type": "code",
   "execution_count": 49,
   "id": "41da5a56",
   "metadata": {},
   "outputs": [
    {
     "data": {
      "text/plain": [
       "'200'"
      ]
     },
     "execution_count": 49,
     "metadata": {},
     "output_type": "execute_result"
    }
   ],
   "source": [
    "a['b']"
   ]
  },
  {
   "cell_type": "code",
   "execution_count": 70,
   "id": "64503e2e",
   "metadata": {},
   "outputs": [],
   "source": [
    "def test():\n",
    "    global c\n",
    "    c = 100\n",
    "    d = 200\n",
    "   "
   ]
  },
  {
   "cell_type": "code",
   "execution_count": 71,
   "id": "a46df030",
   "metadata": {},
   "outputs": [],
   "source": [
    "test()"
   ]
  },
  {
   "cell_type": "code",
   "execution_count": 72,
   "id": "3c734d7e",
   "metadata": {},
   "outputs": [],
   "source": [
    "def test2():\n",
    "    print(locals())\n",
    "    print(c)"
   ]
  },
  {
   "cell_type": "code",
   "execution_count": 73,
   "id": "676013f4",
   "metadata": {},
   "outputs": [
    {
     "name": "stdout",
     "output_type": "stream",
     "text": [
      "{}\n",
      "100\n"
     ]
    }
   ],
   "source": [
    "test2()"
   ]
  },
  {
   "cell_type": "code",
   "execution_count": 74,
   "id": "abb42fef",
   "metadata": {},
   "outputs": [
    {
     "data": {
      "text/plain": [
       "<function __main__.test()>"
      ]
     },
     "execution_count": 74,
     "metadata": {},
     "output_type": "execute_result"
    }
   ],
   "source": [
    "globals()['test']"
   ]
  },
  {
   "cell_type": "markdown",
   "id": "0f6b5ea7",
   "metadata": {},
   "source": [
    "#### Class"
   ]
  },
  {
   "cell_type": "code",
   "execution_count": 108,
   "id": "82b3785f",
   "metadata": {},
   "outputs": [],
   "source": [
    "class Person:\n",
    "    def __init__(self, height, weight, age, name):\n",
    "        self.height:int = height\n",
    "        self.weight = weight\n",
    "        self.age = age\n",
    "        self.name = name\n",
    "    \n",
    "    def say_korean(self):\n",
    "        print(\"한국어할수있습니다.\")"
   ]
  },
  {
   "cell_type": "code",
   "execution_count": 102,
   "id": "f7bee1df",
   "metadata": {},
   "outputs": [],
   "source": [
    "def say_korean():\n",
    "    print(\"한국어\")"
   ]
  },
  {
   "cell_type": "code",
   "execution_count": 105,
   "id": "ff29f8eb",
   "metadata": {},
   "outputs": [
    {
     "name": "stdout",
     "output_type": "stream",
     "text": [
      "한국어\n"
     ]
    }
   ],
   "source": [
    "moon = Person('170', 70, 30, '김아무개')\n",
    "say_korean()"
   ]
  },
  {
   "cell_type": "code",
   "execution_count": 106,
   "id": "dc23486a",
   "metadata": {},
   "outputs": [
    {
     "data": {
      "text/plain": [
       "<__main__.Person at 0x7ffab2a78b50>"
      ]
     },
     "execution_count": 106,
     "metadata": {},
     "output_type": "execute_result"
    }
   ],
   "source": [
    "moon"
   ]
  },
  {
   "cell_type": "code",
   "execution_count": 98,
   "id": "a886180d",
   "metadata": {},
   "outputs": [
    {
     "name": "stdout",
     "output_type": "stream",
     "text": [
      "['__class__', '__delattr__', '__dict__', '__dir__', '__doc__', '__eq__', '__format__', '__ge__', '__getattribute__', '__gt__', '__hash__', '__init__', '__init_subclass__', '__le__', '__lt__', '__module__', '__ne__', '__new__', '__reduce__', '__reduce_ex__', '__repr__', '__setattr__', '__sizeof__', '__str__', '__subclasshook__', '__weakref__', 'age', 'height', 'name', 'say_korean', 'weight']\n"
     ]
    }
   ],
   "source": [
    "print(dir(moon))"
   ]
  },
  {
   "cell_type": "code",
   "execution_count": 107,
   "id": "5bf7926c",
   "metadata": {},
   "outputs": [
    {
     "name": "stdout",
     "output_type": "stream",
     "text": [
      "한국어할수있습니다.\n"
     ]
    }
   ],
   "source": [
    "moon.say_korean()"
   ]
  },
  {
   "cell_type": "code",
   "execution_count": 100,
   "id": "d6c9eab1",
   "metadata": {},
   "outputs": [
    {
     "data": {
      "text/plain": [
       "str"
      ]
     },
     "execution_count": 100,
     "metadata": {},
     "output_type": "execute_result"
    }
   ],
   "source": [
    "type(moon.height)"
   ]
  },
  {
   "cell_type": "code",
   "execution_count": 101,
   "id": "20843b23",
   "metadata": {},
   "outputs": [
    {
     "data": {
      "text/plain": [
       "'김아무개'"
      ]
     },
     "execution_count": 101,
     "metadata": {},
     "output_type": "execute_result"
    }
   ],
   "source": [
    "moon.name"
   ]
  },
  {
   "cell_type": "markdown",
   "id": "a2d69106",
   "metadata": {},
   "source": [
    "# 내장 자료형\n",
    "#### builtin data type\n",
    "\n",
    "- 파이썬 내부적으로 가지는 자료형은 숫자, 문자열, 리스트, 튜플, 딕셔너리, 집합 등"
   ]
  },
  {
   "cell_type": "code",
   "execution_count": 114,
   "id": "4520def8",
   "metadata": {},
   "outputs": [
    {
     "data": {
      "text/plain": [
       "<module 'builtins' (built-in)>"
      ]
     },
     "execution_count": 114,
     "metadata": {},
     "output_type": "execute_result"
    }
   ],
   "source": [
    "__builtins__"
   ]
  },
  {
   "cell_type": "code",
   "execution_count": 115,
   "id": "1386ac40",
   "metadata": {},
   "outputs": [
    {
     "data": {
      "text/plain": [
       "{'__name__': 'builtins',\n",
       " '__doc__': \"Built-in functions, exceptions, and other objects.\\n\\nNoteworthy: None is the `nil' object; Ellipsis represents `...' in slices.\",\n",
       " '__package__': '',\n",
       " '__loader__': _frozen_importlib.BuiltinImporter,\n",
       " '__spec__': ModuleSpec(name='builtins', loader=<class '_frozen_importlib.BuiltinImporter'>),\n",
       " '__build_class__': <function __build_class__>,\n",
       " '__import__': <function __import__>,\n",
       " 'abs': <function abs(x, /)>,\n",
       " 'all': <function all(iterable, /)>,\n",
       " 'any': <function any(iterable, /)>,\n",
       " 'ascii': <function ascii(obj, /)>,\n",
       " 'bin': <function bin(number, /)>,\n",
       " 'breakpoint': <function breakpoint>,\n",
       " 'callable': <function callable(obj, /)>,\n",
       " 'chr': <function chr(i, /)>,\n",
       " 'compile': <function compile(source, filename, mode, flags=0, dont_inherit=False, optimize=-1, *, _feature_version=-1)>,\n",
       " 'delattr': <function delattr(obj, name, /)>,\n",
       " 'dir': <function dir>,\n",
       " 'divmod': <function divmod(x, y, /)>,\n",
       " 'eval': <function eval(source, globals=None, locals=None, /)>,\n",
       " 'exec': <function exec(source, globals=None, locals=None, /)>,\n",
       " 'format': <function format(value, format_spec='', /)>,\n",
       " 'getattr': <function getattr>,\n",
       " 'globals': <function globals()>,\n",
       " 'hasattr': <function hasattr(obj, name, /)>,\n",
       " 'hash': <function hash(obj, /)>,\n",
       " 'hex': <function hex(number, /)>,\n",
       " 'id': <function id(obj, /)>,\n",
       " 'input': <bound method Kernel.raw_input of <ipykernel.ipkernel.IPythonKernel object at 0x7ffab29a02e0>>,\n",
       " 'isinstance': <function isinstance(obj, class_or_tuple, /)>,\n",
       " 'issubclass': <function issubclass(cls, class_or_tuple, /)>,\n",
       " 'iter': <function iter>,\n",
       " 'len': <function len(obj, /)>,\n",
       " 'locals': <function locals()>,\n",
       " 'max': <function max>,\n",
       " 'min': <function min>,\n",
       " 'next': <function next>,\n",
       " 'oct': <function oct(number, /)>,\n",
       " 'ord': <function ord(c, /)>,\n",
       " 'pow': <function pow(base, exp, mod=None)>,\n",
       " 'print': <function print>,\n",
       " 'repr': <function repr(obj, /)>,\n",
       " 'round': <function round(number, ndigits=None)>,\n",
       " 'setattr': <function setattr(obj, name, value, /)>,\n",
       " 'sorted': <function sorted(iterable, /, *, key=None, reverse=False)>,\n",
       " 'sum': <function sum(iterable, /, start=0)>,\n",
       " 'vars': <function vars>,\n",
       " 'None': None,\n",
       " 'Ellipsis': Ellipsis,\n",
       " 'NotImplemented': NotImplemented,\n",
       " 'False': False,\n",
       " 'True': True,\n",
       " 'bool': bool,\n",
       " 'memoryview': memoryview,\n",
       " 'bytearray': bytearray,\n",
       " 'bytes': bytes,\n",
       " 'classmethod': classmethod,\n",
       " 'complex': complex,\n",
       " 'dict': dict,\n",
       " 'enumerate': enumerate,\n",
       " 'filter': filter,\n",
       " 'float': float,\n",
       " 'frozenset': frozenset,\n",
       " 'property': property,\n",
       " 'int': int,\n",
       " 'list': list,\n",
       " 'map': map,\n",
       " 'object': object,\n",
       " 'range': range,\n",
       " 'reversed': reversed,\n",
       " 'set': set,\n",
       " 'slice': slice,\n",
       " 'staticmethod': staticmethod,\n",
       " 'str': str,\n",
       " 'super': super,\n",
       " 'tuple': tuple,\n",
       " 'type': type,\n",
       " 'zip': zip,\n",
       " '__debug__': True,\n",
       " 'BaseException': BaseException,\n",
       " 'Exception': Exception,\n",
       " 'TypeError': TypeError,\n",
       " 'StopAsyncIteration': StopAsyncIteration,\n",
       " 'StopIteration': StopIteration,\n",
       " 'GeneratorExit': GeneratorExit,\n",
       " 'SystemExit': SystemExit,\n",
       " 'KeyboardInterrupt': KeyboardInterrupt,\n",
       " 'ImportError': ImportError,\n",
       " 'ModuleNotFoundError': ModuleNotFoundError,\n",
       " 'OSError': OSError,\n",
       " 'EnvironmentError': OSError,\n",
       " 'IOError': OSError,\n",
       " 'EOFError': EOFError,\n",
       " 'RuntimeError': RuntimeError,\n",
       " 'RecursionError': RecursionError,\n",
       " 'NotImplementedError': NotImplementedError,\n",
       " 'NameError': NameError,\n",
       " 'UnboundLocalError': UnboundLocalError,\n",
       " 'AttributeError': AttributeError,\n",
       " 'SyntaxError': SyntaxError,\n",
       " 'IndentationError': IndentationError,\n",
       " 'TabError': TabError,\n",
       " 'LookupError': LookupError,\n",
       " 'IndexError': IndexError,\n",
       " 'KeyError': KeyError,\n",
       " 'ValueError': ValueError,\n",
       " 'UnicodeError': UnicodeError,\n",
       " 'UnicodeEncodeError': UnicodeEncodeError,\n",
       " 'UnicodeDecodeError': UnicodeDecodeError,\n",
       " 'UnicodeTranslateError': UnicodeTranslateError,\n",
       " 'AssertionError': AssertionError,\n",
       " 'ArithmeticError': ArithmeticError,\n",
       " 'FloatingPointError': FloatingPointError,\n",
       " 'OverflowError': OverflowError,\n",
       " 'ZeroDivisionError': ZeroDivisionError,\n",
       " 'SystemError': SystemError,\n",
       " 'ReferenceError': ReferenceError,\n",
       " 'MemoryError': MemoryError,\n",
       " 'BufferError': BufferError,\n",
       " 'Warning': Warning,\n",
       " 'UserWarning': UserWarning,\n",
       " 'DeprecationWarning': DeprecationWarning,\n",
       " 'PendingDeprecationWarning': PendingDeprecationWarning,\n",
       " 'SyntaxWarning': SyntaxWarning,\n",
       " 'RuntimeWarning': RuntimeWarning,\n",
       " 'FutureWarning': FutureWarning,\n",
       " 'ImportWarning': ImportWarning,\n",
       " 'UnicodeWarning': UnicodeWarning,\n",
       " 'BytesWarning': BytesWarning,\n",
       " 'ResourceWarning': ResourceWarning,\n",
       " 'ConnectionError': ConnectionError,\n",
       " 'BlockingIOError': BlockingIOError,\n",
       " 'BrokenPipeError': BrokenPipeError,\n",
       " 'ChildProcessError': ChildProcessError,\n",
       " 'ConnectionAbortedError': ConnectionAbortedError,\n",
       " 'ConnectionRefusedError': ConnectionRefusedError,\n",
       " 'ConnectionResetError': ConnectionResetError,\n",
       " 'FileExistsError': FileExistsError,\n",
       " 'FileNotFoundError': FileNotFoundError,\n",
       " 'IsADirectoryError': IsADirectoryError,\n",
       " 'NotADirectoryError': NotADirectoryError,\n",
       " 'InterruptedError': InterruptedError,\n",
       " 'PermissionError': PermissionError,\n",
       " 'ProcessLookupError': ProcessLookupError,\n",
       " 'TimeoutError': TimeoutError,\n",
       " 'open': <function io.open(file, mode='r', buffering=-1, encoding=None, errors=None, newline=None, closefd=True, opener=None)>,\n",
       " 'copyright': Copyright (c) 2001-2021 Python Software Foundation.\n",
       " All Rights Reserved.\n",
       " \n",
       " Copyright (c) 2000 BeOpen.com.\n",
       " All Rights Reserved.\n",
       " \n",
       " Copyright (c) 1995-2001 Corporation for National Research Initiatives.\n",
       " All Rights Reserved.\n",
       " \n",
       " Copyright (c) 1991-1995 Stichting Mathematisch Centrum, Amsterdam.\n",
       " All Rights Reserved.,\n",
       " 'credits':     Thanks to CWI, CNRI, BeOpen.com, Zope Corporation and a cast of thousands\n",
       "     for supporting Python development.  See www.python.org for more information.,\n",
       " 'license': Type license() to see the full license text,\n",
       " 'help': Type help() for interactive help, or help(object) for help about object.,\n",
       " '__IPYTHON__': True,\n",
       " 'display': <function IPython.core.display.display(*objs, include=None, exclude=None, metadata=None, transient=None, display_id=None, **kwargs)>,\n",
       " 'get_ipython': <bound method InteractiveShell.get_ipython of <ipykernel.zmqshell.ZMQInteractiveShell object at 0x7ffab298c5b0>>}"
      ]
     },
     "execution_count": 115,
     "metadata": {},
     "output_type": "execute_result"
    }
   ],
   "source": [
    "__builtins__.__dict__"
   ]
  },
  {
   "cell_type": "code",
   "execution_count": 116,
   "id": "43e0094b",
   "metadata": {},
   "outputs": [
    {
     "data": {
      "text/plain": [
       "int"
      ]
     },
     "execution_count": 116,
     "metadata": {},
     "output_type": "execute_result"
    }
   ],
   "source": [
    "__builtins__.__dict__['int']"
   ]
  },
  {
   "cell_type": "code",
   "execution_count": 117,
   "id": "de9c3871",
   "metadata": {},
   "outputs": [
    {
     "data": {
      "text/plain": [
       "float"
      ]
     },
     "execution_count": 117,
     "metadata": {},
     "output_type": "execute_result"
    }
   ],
   "source": [
    "__builtins__.__dict__['float']"
   ]
  },
  {
   "cell_type": "code",
   "execution_count": 118,
   "id": "7159e587",
   "metadata": {},
   "outputs": [
    {
     "data": {
      "text/plain": [
       "tuple"
      ]
     },
     "execution_count": 118,
     "metadata": {},
     "output_type": "execute_result"
    }
   ],
   "source": [
    "__builtins__.__dict__['tuple']"
   ]
  },
  {
   "cell_type": "code",
   "execution_count": 119,
   "id": "cec39be4",
   "metadata": {},
   "outputs": [
    {
     "data": {
      "text/plain": [
       "100"
      ]
     },
     "execution_count": 119,
     "metadata": {},
     "output_type": "execute_result"
    }
   ],
   "source": [
    "100"
   ]
  },
  {
   "cell_type": "code",
   "execution_count": 120,
   "id": "d78c13f4",
   "metadata": {},
   "outputs": [
    {
     "data": {
      "text/plain": [
       "int"
      ]
     },
     "execution_count": 120,
     "metadata": {},
     "output_type": "execute_result"
    }
   ],
   "source": [
    "type(100)"
   ]
  },
  {
   "cell_type": "code",
   "execution_count": 121,
   "id": "2c61765c",
   "metadata": {},
   "outputs": [
    {
     "data": {
      "text/plain": [
       "int"
      ]
     },
     "execution_count": 121,
     "metadata": {},
     "output_type": "execute_result"
    }
   ],
   "source": [
    "(100).__class__"
   ]
  },
  {
   "cell_type": "code",
   "execution_count": 123,
   "id": "30bab975",
   "metadata": {},
   "outputs": [
    {
     "name": "stdout",
     "output_type": "stream",
     "text": [
      "['__abs__', '__add__', '__and__', '__bool__', '__ceil__', '__class__', '__delattr__', '__dir__', '__divmod__', '__doc__', '__eq__', '__float__', '__floor__', '__floordiv__', '__format__', '__ge__', '__getattribute__', '__getnewargs__', '__gt__', '__hash__', '__index__', '__init__', '__init_subclass__', '__int__', '__invert__', '__le__', '__lshift__', '__lt__', '__mod__', '__mul__', '__ne__', '__neg__', '__new__', '__or__', '__pos__', '__pow__', '__radd__', '__rand__', '__rdivmod__', '__reduce__', '__reduce_ex__', '__repr__', '__rfloordiv__', '__rlshift__', '__rmod__', '__rmul__', '__ror__', '__round__', '__rpow__', '__rrshift__', '__rshift__', '__rsub__', '__rtruediv__', '__rxor__', '__setattr__', '__sizeof__', '__str__', '__sub__', '__subclasshook__', '__truediv__', '__trunc__', '__xor__', 'as_integer_ratio', 'bit_length', 'conjugate', 'denominator', 'from_bytes', 'imag', 'numerator', 'real', 'to_bytes']\n"
     ]
    }
   ],
   "source": [
    "print(dir(100))"
   ]
  },
  {
   "cell_type": "code",
   "execution_count": 124,
   "id": "b4f73f76",
   "metadata": {},
   "outputs": [
    {
     "name": "stdout",
     "output_type": "stream",
     "text": [
      "['__abs__', '__add__', '__and__', '__bool__', '__ceil__', '__class__', '__delattr__', '__dir__', '__divmod__', '__doc__', '__eq__', '__float__', '__floor__', '__floordiv__', '__format__', '__ge__', '__getattribute__', '__getnewargs__', '__gt__', '__hash__', '__index__', '__init__', '__init_subclass__', '__int__', '__invert__', '__le__', '__lshift__', '__lt__', '__mod__', '__mul__', '__ne__', '__neg__', '__new__', '__or__', '__pos__', '__pow__', '__radd__', '__rand__', '__rdivmod__', '__reduce__', '__reduce_ex__', '__repr__', '__rfloordiv__', '__rlshift__', '__rmod__', '__rmul__', '__ror__', '__round__', '__rpow__', '__rrshift__', '__rshift__', '__rsub__', '__rtruediv__', '__rxor__', '__setattr__', '__sizeof__', '__str__', '__sub__', '__subclasshook__', '__truediv__', '__trunc__', '__xor__', 'as_integer_ratio', 'bit_length', 'conjugate', 'denominator', 'from_bytes', 'imag', 'numerator', 'real', 'to_bytes']\n"
     ]
    }
   ],
   "source": [
    "print(dir(int))"
   ]
  },
  {
   "cell_type": "code",
   "execution_count": 130,
   "id": "210404c4",
   "metadata": {},
   "outputs": [
    {
     "data": {
      "text/plain": [
       "int"
      ]
     },
     "execution_count": 130,
     "metadata": {},
     "output_type": "execute_result"
    }
   ],
   "source": [
    "(100).__class__"
   ]
  },
  {
   "cell_type": "code",
   "execution_count": 131,
   "id": "8efcff9a",
   "metadata": {},
   "outputs": [
    {
     "data": {
      "text/plain": [
       "float"
      ]
     },
     "execution_count": 131,
     "metadata": {},
     "output_type": "execute_result"
    }
   ],
   "source": [
    "(100.0).__class__"
   ]
  },
  {
   "cell_type": "code",
   "execution_count": 133,
   "id": "de69e704",
   "metadata": {},
   "outputs": [
    {
     "data": {
      "text/plain": [
       "complex"
      ]
     },
     "execution_count": 133,
     "metadata": {},
     "output_type": "execute_result"
    }
   ],
   "source": [
    "(100.1 + 1j).__class__"
   ]
  },
  {
   "cell_type": "code",
   "execution_count": 128,
   "id": "fdfdc648",
   "metadata": {},
   "outputs": [],
   "source": [
    "a = int(100)"
   ]
  },
  {
   "cell_type": "code",
   "execution_count": 129,
   "id": "6f90f060",
   "metadata": {},
   "outputs": [
    {
     "data": {
      "text/plain": [
       "100"
      ]
     },
     "execution_count": 129,
     "metadata": {},
     "output_type": "execute_result"
    }
   ],
   "source": [
    "a"
   ]
  },
  {
   "cell_type": "code",
   "execution_count": 134,
   "id": "17da72e3",
   "metadata": {},
   "outputs": [
    {
     "data": {
      "text/plain": [
       "200.0"
      ]
     },
     "execution_count": 134,
     "metadata": {},
     "output_type": "execute_result"
    }
   ],
   "source": [
    "100 + 100.0"
   ]
  },
  {
   "cell_type": "code",
   "execution_count": 135,
   "id": "916088a6",
   "metadata": {},
   "outputs": [],
   "source": [
    "from datetime import datetime\n",
    "import pytz"
   ]
  },
  {
   "cell_type": "code",
   "execution_count": 136,
   "id": "9ca7f22f",
   "metadata": {},
   "outputs": [
    {
     "name": "stdout",
     "output_type": "stream",
     "text": [
      "['AmbiguousTimeError', 'BaseTzInfo', 'FixedOffset', 'HOUR', 'InvalidTimeError', 'LazyDict', 'LazyList', 'LazySet', 'NonExistentTimeError', 'OLSEN_VERSION', 'OLSON_VERSION', 'UTC', 'UnknownTimeZoneError', 'VERSION', 'ZERO', '_CountryNameDict', '_CountryTimezoneDict', '_FixedOffset', '_UTC', '__all__', '__builtins__', '__cached__', '__doc__', '__file__', '__loader__', '__name__', '__package__', '__path__', '__spec__', '__version__', '_all_timezones_lower_to_standard', '_case_insensitive_zone_lookup', '_p', '_test', '_tzinfo_cache', '_unmunge_zone', 'all_timezones', 'all_timezones_set', 'ascii', 'build_tzinfo', 'common_timezones', 'common_timezones_set', 'country_names', 'country_timezones', 'datetime', 'exceptions', 'lazy', 'open_resource', 'os', 'resource_exists', 'sys', 'timezone', 'tzfile', 'tzinfo', 'unicode', 'unpickler', 'utc']\n"
     ]
    }
   ],
   "source": [
    "print(dir(pytz))"
   ]
  },
  {
   "cell_type": "code",
   "execution_count": 137,
   "id": "d6679343",
   "metadata": {},
   "outputs": [],
   "source": [
    "utc = pytz.timezone('UTC')"
   ]
  },
  {
   "cell_type": "code",
   "execution_count": 138,
   "id": "8ab8fef9",
   "metadata": {},
   "outputs": [
    {
     "data": {
      "text/plain": [
       "<UTC>"
      ]
     },
     "execution_count": 138,
     "metadata": {},
     "output_type": "execute_result"
    }
   ],
   "source": [
    "utc"
   ]
  },
  {
   "cell_type": "code",
   "execution_count": 139,
   "id": "78d365ff",
   "metadata": {},
   "outputs": [],
   "source": [
    "asia_seoul = pytz.timezone('Asia/Seoul')"
   ]
  },
  {
   "cell_type": "code",
   "execution_count": 140,
   "id": "45e3420b",
   "metadata": {},
   "outputs": [
    {
     "data": {
      "text/plain": [
       "<DstTzInfo 'Asia/Seoul' LMT+8:28:00 STD>"
      ]
     },
     "execution_count": 140,
     "metadata": {},
     "output_type": "execute_result"
    }
   ],
   "source": [
    "asia_seoul"
   ]
  },
  {
   "cell_type": "code",
   "execution_count": 141,
   "id": "06e8f5ec",
   "metadata": {},
   "outputs": [],
   "source": [
    "utc_now = datetime.now(utc)"
   ]
  },
  {
   "cell_type": "code",
   "execution_count": 142,
   "id": "cce3b286",
   "metadata": {},
   "outputs": [],
   "source": [
    "seoul_now = datetime.now(asia_seoul)"
   ]
  },
  {
   "cell_type": "code",
   "execution_count": 143,
   "id": "d63dd2ec",
   "metadata": {},
   "outputs": [
    {
     "data": {
      "text/plain": [
       "datetime.datetime(2021, 7, 28, 3, 15, 39, 803856, tzinfo=<UTC>)"
      ]
     },
     "execution_count": 143,
     "metadata": {},
     "output_type": "execute_result"
    }
   ],
   "source": [
    "utc_now"
   ]
  },
  {
   "cell_type": "code",
   "execution_count": 144,
   "id": "644821a3",
   "metadata": {},
   "outputs": [
    {
     "data": {
      "text/plain": [
       "datetime.datetime(2021, 7, 28, 12, 15, 52, 635864, tzinfo=<DstTzInfo 'Asia/Seoul' KST+9:00:00 STD>)"
      ]
     },
     "execution_count": 144,
     "metadata": {},
     "output_type": "execute_result"
    }
   ],
   "source": [
    "seoul_now"
   ]
  },
  {
   "cell_type": "code",
   "execution_count": 145,
   "id": "8e45b3fd",
   "metadata": {},
   "outputs": [
    {
     "data": {
      "text/plain": [
       "datetime.timedelta(days=-1, seconds=86387, microseconds=167992)"
      ]
     },
     "execution_count": 145,
     "metadata": {},
     "output_type": "execute_result"
    }
   ],
   "source": [
    "utc_now - seoul_now"
   ]
  },
  {
   "cell_type": "code",
   "execution_count": 146,
   "id": "0f089c34",
   "metadata": {},
   "outputs": [],
   "source": [
    "a = '100'"
   ]
  },
  {
   "cell_type": "code",
   "execution_count": 152,
   "id": "2893286b",
   "metadata": {},
   "outputs": [],
   "source": [
    "b = float(a)"
   ]
  },
  {
   "cell_type": "code",
   "execution_count": 153,
   "id": "a2e57318",
   "metadata": {},
   "outputs": [
    {
     "data": {
      "text/plain": [
       "200.0"
      ]
     },
     "execution_count": 153,
     "metadata": {},
     "output_type": "execute_result"
    }
   ],
   "source": [
    "b + 100"
   ]
  },
  {
   "cell_type": "code",
   "execution_count": 151,
   "id": "667a25dc",
   "metadata": {},
   "outputs": [
    {
     "ename": "TypeError",
     "evalue": "can only concatenate str (not \"int\") to str",
     "output_type": "error",
     "traceback": [
      "\u001b[0;31m---------------------------------------------------------------------------\u001b[0m",
      "\u001b[0;31mTypeError\u001b[0m                                 Traceback (most recent call last)",
      "\u001b[0;32m<ipython-input-151-4a11178a7412>\u001b[0m in \u001b[0;36m<module>\u001b[0;34m\u001b[0m\n\u001b[0;32m----> 1\u001b[0;31m \u001b[0ma\u001b[0m \u001b[0;34m+\u001b[0m \u001b[0;36m100\u001b[0m\u001b[0;34m\u001b[0m\u001b[0;34m\u001b[0m\u001b[0m\n\u001b[0m",
      "\u001b[0;31mTypeError\u001b[0m: can only concatenate str (not \"int\") to str"
     ]
    }
   ],
   "source": [
    "a + 100"
   ]
  },
  {
   "cell_type": "code",
   "execution_count": 155,
   "id": "75c72ac0",
   "metadata": {},
   "outputs": [
    {
     "data": {
      "text/plain": [
       "100"
      ]
     },
     "execution_count": 155,
     "metadata": {},
     "output_type": "execute_result"
    }
   ],
   "source": [
    "int(100.9)"
   ]
  },
  {
   "cell_type": "code",
   "execution_count": 156,
   "id": "08c3d9ff",
   "metadata": {},
   "outputs": [],
   "source": [
    "import math"
   ]
  },
  {
   "cell_type": "code",
   "execution_count": 157,
   "id": "c863be4a",
   "metadata": {},
   "outputs": [
    {
     "name": "stdout",
     "output_type": "stream",
     "text": [
      "['__doc__', '__file__', '__loader__', '__name__', '__package__', '__spec__', 'acos', 'acosh', 'asin', 'asinh', 'atan', 'atan2', 'atanh', 'ceil', 'comb', 'copysign', 'cos', 'cosh', 'degrees', 'dist', 'e', 'erf', 'erfc', 'exp', 'expm1', 'fabs', 'factorial', 'floor', 'fmod', 'frexp', 'fsum', 'gamma', 'gcd', 'hypot', 'inf', 'isclose', 'isfinite', 'isinf', 'isnan', 'isqrt', 'ldexp', 'lgamma', 'log', 'log10', 'log1p', 'log2', 'modf', 'nan', 'perm', 'pi', 'pow', 'prod', 'radians', 'remainder', 'sin', 'sinh', 'sqrt', 'tan', 'tanh', 'tau', 'trunc']\n"
     ]
    }
   ],
   "source": [
    "print(dir(math))"
   ]
  },
  {
   "cell_type": "code",
   "execution_count": 158,
   "id": "2b25cc2b",
   "metadata": {},
   "outputs": [
    {
     "data": {
      "text/plain": [
       "100"
      ]
     },
     "execution_count": 158,
     "metadata": {},
     "output_type": "execute_result"
    }
   ],
   "source": [
    "math.floor(100.9)"
   ]
  },
  {
   "cell_type": "code",
   "execution_count": 159,
   "id": "beae3ca0",
   "metadata": {},
   "outputs": [
    {
     "data": {
      "text/plain": [
       "101"
      ]
     },
     "execution_count": 159,
     "metadata": {},
     "output_type": "execute_result"
    }
   ],
   "source": [
    "math.ceil(100.1)"
   ]
  },
  {
   "cell_type": "code",
   "execution_count": 161,
   "id": "a7e6c5df",
   "metadata": {},
   "outputs": [
    {
     "data": {
      "text/plain": [
       "100"
      ]
     },
     "execution_count": 161,
     "metadata": {},
     "output_type": "execute_result"
    }
   ],
   "source": [
    "round(100.4)"
   ]
  },
  {
   "cell_type": "code",
   "execution_count": 163,
   "id": "f1afaca4",
   "metadata": {},
   "outputs": [
    {
     "data": {
      "text/plain": [
       "101"
      ]
     },
     "execution_count": 163,
     "metadata": {},
     "output_type": "execute_result"
    }
   ],
   "source": [
    "round(100.6)"
   ]
  },
  {
   "cell_type": "markdown",
   "id": "9b5fb17b",
   "metadata": {},
   "source": [
    "#### 시퀀스 자료형\n",
    "\n",
    "- 문자열, 리스트, 튜플"
   ]
  },
  {
   "cell_type": "code",
   "execution_count": 164,
   "id": "44225e16",
   "metadata": {},
   "outputs": [],
   "source": [
    "import collections as cols"
   ]
  },
  {
   "cell_type": "code",
   "execution_count": 165,
   "id": "7e181de5",
   "metadata": {},
   "outputs": [
    {
     "data": {
      "text/plain": [
       "<module 'collections' from '/Users/goblockb/opt/anaconda3/lib/python3.8/collections/__init__.py'>"
      ]
     },
     "execution_count": 165,
     "metadata": {},
     "output_type": "execute_result"
    }
   ],
   "source": [
    "cols"
   ]
  },
  {
   "cell_type": "code",
   "execution_count": 166,
   "id": "08b08c9c",
   "metadata": {},
   "outputs": [
    {
     "name": "stdout",
     "output_type": "stream",
     "text": [
      "['ChainMap', 'Counter', 'OrderedDict', 'UserDict', 'UserList', 'UserString', '_Link', '_OrderedDictItemsView', '_OrderedDictKeysView', '_OrderedDictValuesView', '__all__', '__builtins__', '__cached__', '__doc__', '__file__', '__getattr__', '__loader__', '__name__', '__package__', '__path__', '__spec__', '_chain', '_collections_abc', '_count_elements', '_eq', '_heapq', '_iskeyword', '_itemgetter', '_proxy', '_recursive_repr', '_repeat', '_starmap', '_sys', '_tuplegetter', 'abc', 'defaultdict', 'deque', 'namedtuple']\n"
     ]
    }
   ],
   "source": [
    "print(dir(cols))"
   ]
  },
  {
   "cell_type": "code",
   "execution_count": 167,
   "id": "17cc9cb6",
   "metadata": {},
   "outputs": [
    {
     "data": {
      "text/plain": [
       "True"
      ]
     },
     "execution_count": 167,
     "metadata": {},
     "output_type": "execute_result"
    }
   ],
   "source": [
    "issubclass(str, cols.abc.Sequence)"
   ]
  },
  {
   "cell_type": "code",
   "execution_count": 168,
   "id": "a60914d8",
   "metadata": {},
   "outputs": [
    {
     "data": {
      "text/plain": [
       "True"
      ]
     },
     "execution_count": 168,
     "metadata": {},
     "output_type": "execute_result"
    }
   ],
   "source": [
    "issubclass(list, cols.abc.Sequence)"
   ]
  },
  {
   "cell_type": "code",
   "execution_count": 169,
   "id": "5254aacc",
   "metadata": {},
   "outputs": [],
   "source": [
    "a = [1,2,3]"
   ]
  },
  {
   "cell_type": "code",
   "execution_count": 170,
   "id": "9d8d21c1",
   "metadata": {},
   "outputs": [
    {
     "data": {
      "text/plain": [
       "[1, 2, 3]"
      ]
     },
     "execution_count": 170,
     "metadata": {},
     "output_type": "execute_result"
    }
   ],
   "source": [
    "a"
   ]
  },
  {
   "cell_type": "code",
   "execution_count": 171,
   "id": "a03d5772",
   "metadata": {},
   "outputs": [],
   "source": [
    "b = cols.UserList([1,2,3])"
   ]
  },
  {
   "cell_type": "code",
   "execution_count": 172,
   "id": "c404e169",
   "metadata": {},
   "outputs": [
    {
     "data": {
      "text/plain": [
       "[1, 2, 3]"
      ]
     },
     "execution_count": 172,
     "metadata": {},
     "output_type": "execute_result"
    }
   ],
   "source": [
    "b"
   ]
  },
  {
   "cell_type": "code",
   "execution_count": 173,
   "id": "fcb19b1a",
   "metadata": {},
   "outputs": [
    {
     "data": {
      "text/plain": [
       "'문자열'"
      ]
     },
     "execution_count": 173,
     "metadata": {},
     "output_type": "execute_result"
    }
   ],
   "source": [
    "\"문자열\""
   ]
  },
  {
   "cell_type": "code",
   "execution_count": 174,
   "id": "abc3a63c",
   "metadata": {},
   "outputs": [
    {
     "data": {
      "text/plain": [
       "'문자열'"
      ]
     },
     "execution_count": 174,
     "metadata": {},
     "output_type": "execute_result"
    }
   ],
   "source": [
    "str('문자열')"
   ]
  },
  {
   "cell_type": "code",
   "execution_count": 175,
   "id": "dead8d9e",
   "metadata": {},
   "outputs": [
    {
     "data": {
      "text/plain": [
       "97"
      ]
     },
     "execution_count": 175,
     "metadata": {},
     "output_type": "execute_result"
    }
   ],
   "source": [
    "ord('a')"
   ]
  },
  {
   "cell_type": "code",
   "execution_count": 176,
   "id": "534cf3a7",
   "metadata": {},
   "outputs": [
    {
     "name": "stdout",
     "output_type": "stream",
     "text": [
      "입력해주세요 : 123\n"
     ]
    }
   ],
   "source": [
    "a = input('입력해주세요 : ')"
   ]
  },
  {
   "cell_type": "code",
   "execution_count": 177,
   "id": "f972aab0",
   "metadata": {},
   "outputs": [
    {
     "data": {
      "text/plain": [
       "'123'"
      ]
     },
     "execution_count": 177,
     "metadata": {},
     "output_type": "execute_result"
    }
   ],
   "source": [
    "a"
   ]
  },
  {
   "cell_type": "code",
   "execution_count": 179,
   "id": "b9452148",
   "metadata": {},
   "outputs": [
    {
     "name": "stdout",
     "output_type": "stream",
     "text": [
      "첫 번째 수를 입력해주세요 : 3\n",
      "두 번째 수를 입력해주세요 : 2\n",
      "결과 : 6\n",
      "결과 : 6\n"
     ]
    }
   ],
   "source": [
    "a = int(input('첫 번째 수를 입력해주세요 : '))\n",
    "b = int(input('두 번째 수를 입력해주세요 : '))\n",
    "print(\"결과 : \" + str(a*b))\n",
    "print(f\"결과 : { (a*b) }\")"
   ]
  },
  {
   "cell_type": "code",
   "execution_count": 181,
   "id": "3f7eec76",
   "metadata": {},
   "outputs": [
    {
     "name": "stdout",
     "output_type": "stream",
     "text": [
      "Help on class int in module builtins:\n",
      "\n",
      "class int(object)\n",
      " |  int([x]) -> integer\n",
      " |  int(x, base=10) -> integer\n",
      " |  \n",
      " |  Convert a number or string to an integer, or return 0 if no arguments\n",
      " |  are given.  If x is a number, return x.__int__().  For floating point\n",
      " |  numbers, this truncates towards zero.\n",
      " |  \n",
      " |  If x is not a number or if base is given, then x must be a string,\n",
      " |  bytes, or bytearray instance representing an integer literal in the\n",
      " |  given base.  The literal can be preceded by '+' or '-' and be surrounded\n",
      " |  by whitespace.  The base defaults to 10.  Valid bases are 0 and 2-36.\n",
      " |  Base 0 means to interpret the base from the string as an integer literal.\n",
      " |  >>> int('0b100', base=0)\n",
      " |  4\n",
      " |  \n",
      " |  Built-in subclasses:\n",
      " |      bool\n",
      " |  \n",
      " |  Methods defined here:\n",
      " |  \n",
      " |  __abs__(self, /)\n",
      " |      abs(self)\n",
      " |  \n",
      " |  __add__(self, value, /)\n",
      " |      Return self+value.\n",
      " |  \n",
      " |  __and__(self, value, /)\n",
      " |      Return self&value.\n",
      " |  \n",
      " |  __bool__(self, /)\n",
      " |      self != 0\n",
      " |  \n",
      " |  __ceil__(...)\n",
      " |      Ceiling of an Integral returns itself.\n",
      " |  \n",
      " |  __divmod__(self, value, /)\n",
      " |      Return divmod(self, value).\n",
      " |  \n",
      " |  __eq__(self, value, /)\n",
      " |      Return self==value.\n",
      " |  \n",
      " |  __float__(self, /)\n",
      " |      float(self)\n",
      " |  \n",
      " |  __floor__(...)\n",
      " |      Flooring an Integral returns itself.\n",
      " |  \n",
      " |  __floordiv__(self, value, /)\n",
      " |      Return self//value.\n",
      " |  \n",
      " |  __format__(self, format_spec, /)\n",
      " |      Default object formatter.\n",
      " |  \n",
      " |  __ge__(self, value, /)\n",
      " |      Return self>=value.\n",
      " |  \n",
      " |  __getattribute__(self, name, /)\n",
      " |      Return getattr(self, name).\n",
      " |  \n",
      " |  __getnewargs__(self, /)\n",
      " |  \n",
      " |  __gt__(self, value, /)\n",
      " |      Return self>value.\n",
      " |  \n",
      " |  __hash__(self, /)\n",
      " |      Return hash(self).\n",
      " |  \n",
      " |  __index__(self, /)\n",
      " |      Return self converted to an integer, if self is suitable for use as an index into a list.\n",
      " |  \n",
      " |  __int__(self, /)\n",
      " |      int(self)\n",
      " |  \n",
      " |  __invert__(self, /)\n",
      " |      ~self\n",
      " |  \n",
      " |  __le__(self, value, /)\n",
      " |      Return self<=value.\n",
      " |  \n",
      " |  __lshift__(self, value, /)\n",
      " |      Return self<<value.\n",
      " |  \n",
      " |  __lt__(self, value, /)\n",
      " |      Return self<value.\n",
      " |  \n",
      " |  __mod__(self, value, /)\n",
      " |      Return self%value.\n",
      " |  \n",
      " |  __mul__(self, value, /)\n",
      " |      Return self*value.\n",
      " |  \n",
      " |  __ne__(self, value, /)\n",
      " |      Return self!=value.\n",
      " |  \n",
      " |  __neg__(self, /)\n",
      " |      -self\n",
      " |  \n",
      " |  __or__(self, value, /)\n",
      " |      Return self|value.\n",
      " |  \n",
      " |  __pos__(self, /)\n",
      " |      +self\n",
      " |  \n",
      " |  __pow__(self, value, mod=None, /)\n",
      " |      Return pow(self, value, mod).\n",
      " |  \n",
      " |  __radd__(self, value, /)\n",
      " |      Return value+self.\n",
      " |  \n",
      " |  __rand__(self, value, /)\n",
      " |      Return value&self.\n",
      " |  \n",
      " |  __rdivmod__(self, value, /)\n",
      " |      Return divmod(value, self).\n",
      " |  \n",
      " |  __repr__(self, /)\n",
      " |      Return repr(self).\n",
      " |  \n",
      " |  __rfloordiv__(self, value, /)\n",
      " |      Return value//self.\n",
      " |  \n",
      " |  __rlshift__(self, value, /)\n",
      " |      Return value<<self.\n",
      " |  \n",
      " |  __rmod__(self, value, /)\n",
      " |      Return value%self.\n",
      " |  \n",
      " |  __rmul__(self, value, /)\n",
      " |      Return value*self.\n",
      " |  \n",
      " |  __ror__(self, value, /)\n",
      " |      Return value|self.\n",
      " |  \n",
      " |  __round__(...)\n",
      " |      Rounding an Integral returns itself.\n",
      " |      Rounding with an ndigits argument also returns an integer.\n",
      " |  \n",
      " |  __rpow__(self, value, mod=None, /)\n",
      " |      Return pow(value, self, mod).\n",
      " |  \n",
      " |  __rrshift__(self, value, /)\n",
      " |      Return value>>self.\n",
      " |  \n",
      " |  __rshift__(self, value, /)\n",
      " |      Return self>>value.\n",
      " |  \n",
      " |  __rsub__(self, value, /)\n",
      " |      Return value-self.\n",
      " |  \n",
      " |  __rtruediv__(self, value, /)\n",
      " |      Return value/self.\n",
      " |  \n",
      " |  __rxor__(self, value, /)\n",
      " |      Return value^self.\n",
      " |  \n",
      " |  __sizeof__(self, /)\n",
      " |      Returns size in memory, in bytes.\n",
      " |  \n",
      " |  __sub__(self, value, /)\n",
      " |      Return self-value.\n",
      " |  \n",
      " |  __truediv__(self, value, /)\n",
      " |      Return self/value.\n",
      " |  \n",
      " |  __trunc__(...)\n",
      " |      Truncating an Integral returns itself.\n",
      " |  \n",
      " |  __xor__(self, value, /)\n",
      " |      Return self^value.\n",
      " |  \n",
      " |  as_integer_ratio(self, /)\n",
      " |      Return integer ratio.\n",
      " |      \n",
      " |      Return a pair of integers, whose ratio is exactly equal to the original int\n",
      " |      and with a positive denominator.\n",
      " |      \n",
      " |      >>> (10).as_integer_ratio()\n",
      " |      (10, 1)\n",
      " |      >>> (-10).as_integer_ratio()\n",
      " |      (-10, 1)\n",
      " |      >>> (0).as_integer_ratio()\n",
      " |      (0, 1)\n",
      " |  \n",
      " |  bit_length(self, /)\n",
      " |      Number of bits necessary to represent self in binary.\n",
      " |      \n",
      " |      >>> bin(37)\n",
      " |      '0b100101'\n",
      " |      >>> (37).bit_length()\n",
      " |      6\n",
      " |  \n",
      " |  conjugate(...)\n",
      " |      Returns self, the complex conjugate of any int.\n",
      " |  \n",
      " |  to_bytes(self, /, length, byteorder, *, signed=False)\n",
      " |      Return an array of bytes representing an integer.\n",
      " |      \n",
      " |      length\n",
      " |        Length of bytes object to use.  An OverflowError is raised if the\n",
      " |        integer is not representable with the given number of bytes.\n",
      " |      byteorder\n",
      " |        The byte order used to represent the integer.  If byteorder is 'big',\n",
      " |        the most significant byte is at the beginning of the byte array.  If\n",
      " |        byteorder is 'little', the most significant byte is at the end of the\n",
      " |        byte array.  To request the native byte order of the host system, use\n",
      " |        `sys.byteorder' as the byte order value.\n",
      " |      signed\n",
      " |        Determines whether two's complement is used to represent the integer.\n",
      " |        If signed is False and a negative integer is given, an OverflowError\n",
      " |        is raised.\n",
      " |  \n",
      " |  ----------------------------------------------------------------------\n",
      " |  Class methods defined here:\n",
      " |  \n",
      " |  from_bytes(bytes, byteorder, *, signed=False) from builtins.type\n",
      " |      Return the integer represented by the given array of bytes.\n",
      " |      \n",
      " |      bytes\n",
      " |        Holds the array of bytes to convert.  The argument must either\n",
      " |        support the buffer protocol or be an iterable object producing bytes.\n",
      " |        Bytes and bytearray are examples of built-in objects that support the\n",
      " |        buffer protocol.\n",
      " |      byteorder\n",
      " |        The byte order used to represent the integer.  If byteorder is 'big',\n",
      " |        the most significant byte is at the beginning of the byte array.  If\n",
      " |        byteorder is 'little', the most significant byte is at the end of the\n",
      " |        byte array.  To request the native byte order of the host system, use\n",
      " |        `sys.byteorder' as the byte order value.\n",
      " |      signed\n",
      " |        Indicates whether two's complement is used to represent the integer.\n",
      " |  \n",
      " |  ----------------------------------------------------------------------\n",
      " |  Static methods defined here:\n",
      " |  \n",
      " |  __new__(*args, **kwargs) from builtins.type\n",
      " |      Create and return a new object.  See help(type) for accurate signature.\n",
      " |  \n",
      " |  ----------------------------------------------------------------------\n",
      " |  Data descriptors defined here:\n",
      " |  \n",
      " |  denominator\n",
      " |      the denominator of a rational number in lowest terms\n",
      " |  \n",
      " |  imag\n",
      " |      the imaginary part of a complex number\n",
      " |  \n",
      " |  numerator\n",
      " |      the numerator of a rational number in lowest terms\n",
      " |  \n",
      " |  real\n",
      " |      the real part of a complex number\n",
      "\n"
     ]
    }
   ],
   "source": [
    "help(int)"
   ]
  },
  {
   "cell_type": "code",
   "execution_count": 182,
   "id": "db35c790",
   "metadata": {},
   "outputs": [],
   "source": [
    "import requests"
   ]
  },
  {
   "cell_type": "code",
   "execution_count": 183,
   "id": "4162594c",
   "metadata": {},
   "outputs": [
    {
     "name": "stdout",
     "output_type": "stream",
     "text": [
      "Help on package requests:\n",
      "\n",
      "NAME\n",
      "    requests\n",
      "\n",
      "DESCRIPTION\n",
      "    Requests HTTP Library\n",
      "    ~~~~~~~~~~~~~~~~~~~~~\n",
      "    \n",
      "    Requests is an HTTP library, written in Python, for human beings.\n",
      "    Basic GET usage:\n",
      "    \n",
      "       >>> import requests\n",
      "       >>> r = requests.get('https://www.python.org')\n",
      "       >>> r.status_code\n",
      "       200\n",
      "       >>> b'Python is a programming language' in r.content\n",
      "       True\n",
      "    \n",
      "    ... or POST:\n",
      "    \n",
      "       >>> payload = dict(key1='value1', key2='value2')\n",
      "       >>> r = requests.post('https://httpbin.org/post', data=payload)\n",
      "       >>> print(r.text)\n",
      "       {\n",
      "         ...\n",
      "         \"form\": {\n",
      "           \"key1\": \"value1\",\n",
      "           \"key2\": \"value2\"\n",
      "         },\n",
      "         ...\n",
      "       }\n",
      "    \n",
      "    The other HTTP methods are supported - see `requests.api`. Full documentation\n",
      "    is at <https://requests.readthedocs.io>.\n",
      "    \n",
      "    :copyright: (c) 2017 by Kenneth Reitz.\n",
      "    :license: Apache 2.0, see LICENSE for more details.\n",
      "\n",
      "PACKAGE CONTENTS\n",
      "    __version__\n",
      "    _internal_utils\n",
      "    adapters\n",
      "    api\n",
      "    auth\n",
      "    certs\n",
      "    compat\n",
      "    cookies\n",
      "    exceptions\n",
      "    help\n",
      "    hooks\n",
      "    models\n",
      "    packages\n",
      "    sessions\n",
      "    status_codes\n",
      "    structures\n",
      "    utils\n",
      "\n",
      "FUNCTIONS\n",
      "    check_compatibility(urllib3_version, chardet_version)\n",
      "\n",
      "DATA\n",
      "    __author_email__ = 'me@kennethreitz.org'\n",
      "    __build__ = 140545\n",
      "    __cake__ = '✨ 🍰 ✨'\n",
      "    __copyright__ = 'Copyright 2020 Kenneth Reitz'\n",
      "    __description__ = 'Python HTTP for Humans.'\n",
      "    __license__ = 'Apache 2.0'\n",
      "    __title__ = 'requests'\n",
      "    __url__ = 'https://requests.readthedocs.io'\n",
      "    codes = <lookup 'status_codes'>\n",
      "\n",
      "VERSION\n",
      "    2.25.1\n",
      "\n",
      "AUTHOR\n",
      "    Kenneth Reitz\n",
      "\n",
      "FILE\n",
      "    /Users/goblockb/opt/anaconda3/lib/python3.8/site-packages/requests/__init__.py\n",
      "\n",
      "\n"
     ]
    }
   ],
   "source": [
    "help(requests)"
   ]
  },
  {
   "cell_type": "code",
   "execution_count": null,
   "id": "21df5f01",
   "metadata": {},
   "outputs": [],
   "source": []
  }
 ],
 "metadata": {
  "kernelspec": {
   "display_name": "Python 3",
   "language": "python",
   "name": "python3"
  },
  "language_info": {
   "codemirror_mode": {
    "name": "ipython",
    "version": 3
   },
   "file_extension": ".py",
   "mimetype": "text/x-python",
   "name": "python",
   "nbconvert_exporter": "python",
   "pygments_lexer": "ipython3",
   "version": "3.8.8"
  }
 },
 "nbformat": 4,
 "nbformat_minor": 5
}
